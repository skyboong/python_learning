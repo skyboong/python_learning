{
 "cells": [
  {
   "cell_type": "markdown",
   "metadata": {
    "nbpresent": {
     "id": "eee9353b-325e-4bde-a03b-f85fed2e4385"
    },
    "slideshow": {
     "slide_type": "slide"
    }
   },
   "source": [
    "# 제2장 파이썬의 역사 및 유의 사항"
   ]
  },
  {
   "cell_type": "markdown",
   "metadata": {
    "slideshow": {
     "slide_type": "slide"
    }
   },
   "source": [
    "<td bgcolor = \"#ccffee\">\n",
    "  <list>\n",
    "    <li><h3> 파이썬, 뭘까 ? </h3>\n",
    "    <li><h3> 파이썬, 왜 배워야 하지 ?</h3>\n",
    "    <li><h3> 파이썬, 어떻게 배울까 ?</h3>\n",
    "  </list>\n",
    "</td>"
   ]
  },
  {
   "cell_type": "markdown",
   "metadata": {
    "nbpresent": {
     "id": "bee12a4e-6497-44bd-92e9-856e40fea659"
    },
    "slideshow": {
     "slide_type": "subslide"
    }
   },
   "source": [
    "1장에서 파이썬이 뭔지는 모르지만, 일단 사용을 해 보았습니다. 뭔가를 하는데 꽤 도움이 될 것 같다는 느낌을 갖게 되셨다면 축하드립니다. 파이썬을 배우실 준비가 어느 정도 되신 것입니다.\n",
    "\n",
    "이번 장에서는 파이썬 자체에 대해서 조금 더 소개해 드리겠습니다. \n",
    "*파이썬의 이모저모, 파이썬 배우는 방법, 파이썬과 선택 그리고 몇 가지 일러두기*로 구성하였습니다."
   ]
  },
  {
   "cell_type": "markdown",
   "metadata": {
    "slideshow": {
     "slide_type": "slide"
    }
   },
   "source": [
    "## (2.1) 파이썬이란 ?\n",
    "\n",
    "\n",
    "🌏 *역사*\n",
    "\n",
    "컴퓨터 언어로는 C언어, C++, Java, Basic, Fortran 등등이 있습니다. 이들 언어는 나름 전성기를 누렸습니다. 파이썬은 이런 언어보다는 젊습니다(?). 1991년 네덜란드의 귀도 반 로섬(귀도 밴 롸썸, Guido van Rossum)이 발표한 컴퓨터 언어입니다. 사람으로 치면 20대 청년입니다. 젊기에 최신의 기법들을 흡수하고 계속 성장해 나가고 있다는 것을 말하기도 하겠지요. \n",
    "\n",
    "파이썬에 대한 소개 중, 사실 파이썬이 아니라 리스프 라는 언어를 소개하는 도중에 등장한 내용입니다만, 아래와 같은 재미난 소개도 있답니다.\n",
    "\n",
    "*‘최근에는 파이썬과 루비 같은 언어가 이 크로마뇽인의 언어를 더 근대적인 방향으로 개선했다.’ (콘래드 바스키, 만들면서 배우는 리스프 프로그래밍, p 24-27, 한빛미디어)*\n",
    "자료 : (http://www.amazon.com/Land-Lisp-Learn-Program-Game/dp/1593272812)\n",
    "\n",
    "<img src = \"./img/fig2_1.png\">Python</img>\n",
    "<img src = \"./img/fig2_2.png\">Python</img>\n",
    "<img src = \"./img/fig2_3.png\">Python</img>\n",
    "\n",
    "\n",
    "🌏 만든 사람 : **귀도 반 로슘** (Guido van Rossum, 1956.1)\n",
    "\n",
    "- 파이썬 언어 개발자\n",
    "- 1982 네덜란드 암스텔담 대학, 수학컴퓨퍼공학 대학원 석사\n",
    "- 2005.12-2012.12  Google, App Engine project\n",
    "- 2013.1 ~ Dropbox 근무\n",
    "- (https://www.python.org/~guido/)\n",
    "- 약력 자세히 보기 (https://www.python.org/~guido/Resume.html)\n",
    "- van은 소문자로만 적어야 한다고 한다.\n",
    "- 트위터 계정 : (https://twitter.com/gvanrossum)\n",
    "\n",
    "\n",
    "🌏 왜 이름이  *‘파이썬'* 이죠 ?\n",
    "\n",
    "개그콘서트를 즐겨 본다면, 당신이 만드는 새로운 컴퓨터 언어의 이름을 ‘개콘’이라고 지을 수도 있겠죠.\n",
    "귀도 반 로슘도 어릴적에(?) 코메디를 좋아한 모양입니다. 특히 좋아했던 코메디언들의 이름이 ‘파이썬’이라고 합니다.\n",
    "Monty Python …  (https://en.wikipedia.org/wiki/Monty_Python)\n",
    "\n",
    "아래는 2016.5 반 로슘이 트위터에 올린 트윗인데요, 46번 가로의 힌트가,  “Programming language named for a comedy group(코메드 그룹의 이름을 따서 지은 프로그램 언어)”라고 적혀 있네요. \n",
    "\n",
    "<img src = \"./img/fig2_4.png\" width=400, height=400>Python</img>"
   ]
  },
  {
   "cell_type": "markdown",
   "metadata": {
    "slideshow": {
     "slide_type": "slide"
    }
   },
   "source": [
    "## (2.2) 파이썬의 장단점(pros and cons)\n",
    "\n",
    "🌏 *주목받는 이유(pros)* : ‘배우기 쉽고, 활용분야는 막강하다’\n",
    "\n",
    "(1) 쉽다 \n",
    "\n",
    "흔히들 이렇게 말을 하고 있습니다. 배우기 쉽다.\n",
    "\n",
    "*“파이썬은 배우기 쉬우며, 프로토타입을 빠르게 만들어 내는 능력이 뛰어나며, 멀티 플랫폼을 지원한다는 장점을 가지고 있다.”*\n",
    "\n",
    ">> \"파이썬은 기존 C나 자바와 비교해 코드가 간결하고, 특히 처리하려는 데이터나 프로그램의 주소를 지정하는 '포인터' 개념이 없어 코딩 입문자에게 최적의 언어라는 평가를 받고 있다.\"(2017.1.9, 디지털타임즈)"
   ]
  },
  {
   "cell_type": "markdown",
   "metadata": {
    "slideshow": {
     "slide_type": "slide"
    }
   },
   "source": [
    "<style>\n",
    "table { \n",
    "    display: table;\n",
    "    border-collapse: separate;\n",
    "    border-spacing: 2px;\n",
    "    border-color: red;\n",
    "}\n",
    "</style>\n",
    "\n",
    "<table>\n",
    " <tr>\n",
    " <td><img src = \"./img/book01.png\" width=200, height=300, style=\"padding:1px;border:thin solid black\"></img></td>\n",
    " <td><img src = \"./img/book02.png\" width=200, height=300, style=\"padding:1px;border:thin solid black\"></img></td>\n",
    " <td><img src = \"./img/book03.png\" width=200, height=300, style=\"padding:1px;border:thin solid black\"></img></td>\n",
    " <td><img src = \"./img/book04.png\" width=200, height=300, style=\"padding:1px;border:thin solid black\"></img></td>\n",
    " <td><img src = \"./img/book05.png\" width=200, height=300, style=\"padding:1px;border:thin solid black\"></img></td>\n",
    " </tr>\n",
    " <tr>\n",
    " <td><img src = \"./img/book06.png\" width=200, height=300, style=\"padding:1px;border:thin solid black\"></img></td>\n",
    " <td><img src = \"./img/book07.png\" width=200, height=300, style=\"padding:1px;border:thin solid black\"></img></td>\n",
    " <td><img src = \"./img/book08.png\" width=200, height=300, style=\"padding:1px;border:thin solid black\"></img></td>\n",
    " <td><img src = \"./img/book09.png\" width=200, height=300, style=\"padding:1px;border:thin solid black\"></img></td>\n",
    " <td><img src = \"./img/book10.png\" width=200, height=300, style=\"padding:1px;border:thin solid black\"></img></td>\n",
    " </tr>\n",
    " <tr>\n",
    " <td><img src = \"./img/book11.png\" width=200, height=300, style=\"padding:1px;border:thin solid black\"></img></td>\n",
    " </tr>\n",
    " \n",
    "</table>"
   ]
  },
  {
   "cell_type": "markdown",
   "metadata": {
    "nbpresent": {
     "id": "02049ae7-061a-40a8-863f-5a016dc1bc6b"
    },
    "slideshow": {
     "slide_type": "slide"
    }
   },
   "source": [
    "(신문 기사 1)\n",
    "(http://www.dt.co.kr/contents.html?article_no=2017010902101560041001) \n",
    "\n",
    "<h2> SW교육 열풍속 `파이썬` 부상\n",
    "코딩 입문자에 '최적의 언어'\n",
    "초·중·고 교육 활용도 높아져 </h2>\n",
    "\n",
    "이경탁 기자 kt87@dt.co.kr | 입력: 2017-01-08 17:25\n",
    "[2017년 01월 09일자 15면 기사]\n",
    "\n",
    "소프트웨어(SW) 교육 열풍으로 파이썬(Python)이 큰 주목을 받고 있다. \n",
    "\n",
    "8일 온라인 공개강의 서비스 제공업체인 코세라(Coursera)에 따르면 미국 미시간대학이 개설한 '모두를 위한 파이썬(Python for Everybody)'이 존스홉킨스 대학의 '데이터과학(Data Science)'에 이어 인기강의 2위를 차지했다.\n",
    " \n",
    "파이썬은 네덜란드 프로그래머 귀도 판 로썸이 '코딩을 쉽게 하자'라는 철학으로, 지난 1989년 개발한 프로그래밍 언어다. 국내에서는 프로그래밍 기초수업으로 자바를 활용하는 것과 대조적이다. 그러나 국내 SW교육 열풍이 불면서 파이썬의 활용도가 높아지고 있다. 초·중·고 SW선도학교 900곳과 SW중심대학 14곳 모두 파이썬을 교육용 언어로 활용하고 있다. \n",
    "\n",
    "올해 미래부는 SW선도학교를 1200곳, SW중심대학은 20곳까지 확대할 계획이라 파이썬이 더 많은 학생에게 소개될 예정이다. \n",
    "\n",
    "어린 학생과 비전공자들에게 C, C++, 자바 같은 언어는 매우 어려운 편이다. <font color=\"#ff0000\">파이썬은 기존 C나 자바와 비교해 코드가 간결하고, 특히 처리하려는 데이터나 프로그램의 주소를 지정하는 '포인터' 개념이 없어 코딩 입문자에게 최적의 언어라는 평가를 받고 있다.</font>  \n",
    "\n",
    "오픈소스인만큼 활용 측면에서도 웹 개발뿐 아니라 머신러닝이나 데이터분석, 그래픽작업까지 다양한 분야에서 사용할 수 있다.  \n",
    "\n",
    "SW업계 관계자는 \"최근 파이썬의 프레임워크 및 라이브러리가 많이 확장되어 기본적인 애플리케이션이나 SW 등은 모두 파이썬만으로 개발이 가능해 일반 기업에서도 활용빈도가 높아지고 있다\"며 \"문법도 간단해 비교적 적은 코딩만으로 개발을 빨리 끝낼 수 있고, 컴퓨터를 전공하지 않은 사람들도 부담이 없다\"고 말했다.  \n",
    "\n",
    "이경탁기자 kt87@ "
   ]
  },
  {
   "cell_type": "markdown",
   "metadata": {},
   "source": [
    "(2) 활용 분야\n",
    "\n",
    "그리고 이렇게 말해지기도 합니다. 활용분야는 막강하다. 웹인터넷개발, 데이타베이스 액세스, 데스크탑 GUI 제작, 과학 및 수치해석부문, 교육분야, 네트워크 프로그래밍, 게임 및 3D 그래픽 등에 활용되고 있다.\n",
    "\n",
    "> \"오픈소스인만큼 활용 측면에서도 웹 개발뿐 아니라 머신러닝이나 데이터분석, 그래픽작업까지 다양한 분야에서 사용할 수 있다.\""
   ]
  },
  {
   "cell_type": "markdown",
   "metadata": {},
   "source": [
    "<table>\n",
    " <tr>\n",
    " <td><img src = \"./img/book12.png\" width=200, height=300, style=\"padding:1px;border:thin solid black\"></img></td>\n",
    " <td><img src = \"./img/book13.png\" width=200, height=300, style=\"padding:1px;border:thin solid black\"></img></td>\n",
    " <td><img src = \"./img/book14.png\" width=200, height=300, style=\"padding:1px;border:thin solid black\"></img></td>\n",
    " <td><img src = \"./img/book15.png\" width=200, height=300, style=\"padding:1px;border:thin solid black\"></img></td>\n",
    " <td><img src = \"./img/book16.png\" width=200, height=300, style=\"padding:1px;border:thin solid black\"></img></td>\n",
    "  </tr>\n",
    " \n",
    "</table>"
   ]
  },
  {
   "cell_type": "markdown",
   "metadata": {
    "nbpresent": {
     "id": "0d07b994-a137-4a9d-973e-803cd64a055d"
    }
   },
   "source": [
    "🌏 주의할 사항(cons) \n",
    "\n",
    "\n",
    "그러나, 세상에 완벽한 게 있을 수 있을까요. 파이썬을 사용할 때 조심해야 하는 것도 있습니다. 파이썬으로 만든 보통 프로그램은 C, C++, Java로 만든 것보다 속도가 느립니다. 그래서, 대용량의 실시간 데이터를 처리해야하는 시스템에서는 적당하지 않다는 평가를 받고 있습니다. "
   ]
  },
  {
   "cell_type": "markdown",
   "metadata": {
    "nbpresent": {
     "id": "973cc177-13a3-4fa2-ab47-17527901aae1"
    },
    "slideshow": {
     "slide_type": "slide"
    }
   },
   "source": [
    "\n",
    "'두둑한 연봉을 위한' 2017년에 배울 만한 10가지 프로그래밍 언어 \n",
    "원문보기: (http://www.itworld.co.kr/news/103581#csidx875a27a6f85659191cc776b268d7ad2)"
   ]
  },
  {
   "cell_type": "markdown",
   "metadata": {
    "nbpresent": {
     "id": "531e99f6-ea44-4c25-8f8f-f6aad4d2a03f"
    }
   },
   "source": [
    "그런데도, 파이썬은 배울만 합니다. 파워풀합니다.\n",
    "\n",
    "\n",
    "\n",
    "🌏 그런데, **정말 배우기 쉬울까요 ?** \n",
    "\n",
    "이공계 대학에서 Fortran, C, C++ 을 배우셨던 분들에게는 확실히  파이썬은 배우기 쉬운 언어로 느껴집니다. 그런데 말이죠, 컴퓨터 랭귀지를 처음 접하는 분에게는 결코 쉽지 않은 언어입니다. 그러면 어떻게 배워야 할까요. 다음절에서 그 문제에 대해 좀 더 생각해 봅시다. "
   ]
  },
  {
   "cell_type": "markdown",
   "metadata": {
    "nbpresent": {
     "id": "ba27f649-2319-41bb-8638-748c38c40301"
    }
   },
   "source": [
    "## (2.2) 파이썬을 배우는 방법\n",
    "\n",
    "\n",
    "🌏 *보물찾기 여행과 낯선 규칙* - 쉽지 않은 여행이다라고 생각하자 \n",
    "\n",
    "파이썬을 배우기로 작정하셨다면, 보물섬 탐험에 나섰다고 생각하시고, 서두르지 마시고 그냥 즐기시기를. 결코 쉽지 않습니다. 쉽다고 말하는 사람은 어느 정도 프로그램 언어에 대해 알고 있는 분들일 것입니다. 생각해 보셔요. 초등학생 1학년에게 구구단을 외우는 것은 결코 쉽지 않습니다. 컴퓨터 랭귀지를 처음 배우시는 분에게 파이썬은 결코 쉽지 않은 '구구단'일 것입니다. \n",
    "\n",
    "파이썬 세계는 누구나 무료로 사용할 수 있는 매우 값진 보물이 산재하고 있습니다. 그러나 나라마다 각각의 규칙이 있듯이, 파이썬 나라에 들어가면 따라야 할 규칙이 많이 있습니다. 대표적으로 들여쓰기 규칙이 아주 엄격한데요, 이런 규칙들을 차근차근 익혀 나가시면 됩니다. 이런 부분에 대해서 안내해 드리겠습니다. \n",
    "\n",
    "🌏 *규칙이 많아서 문제* - 욕심을 조금 내려놓아도 된다\n",
    "\n",
    "그런데 문제가 있습니다. 익혀야 하는 규칙이 너무 많다는 거죠. 처음 배우는 입장에서는 이것 저것 모든 규칙이 너무 거대하게 느껴지는게 당연하겠지요. 그래서 큰마음을 먹고 큰 돈을 들여서 산 두꺼운 파이썬 문법책이 결국에는 베게로 활용 되기도 하죠.\n",
    "\n",
    "그런데, 이 많은 규칙을 다 배우겠다는 욕심을 버리면 배우기가 쉽습니다. 그래서 저는 앞으로 제가 경험해서 판단한, 시스템을 이해하는데 필요한 사항만 알려 줄 것입니다. 제가 전문 프로그래머가 아니기에, 제가 활용할 수 있는 정도만 알려줄 것입니다. 이 정도만 알면, 그 다음 단계에서는 각자가 알아서 좀 더 자세한 내용을 인터넷이나, 파이썬 서적을 참조해서 도움을 얻을 수 있을 것이라고 생각합니다. 파이썬 튜토리얼(https://docs.python.org/3/tutorial/index.html)을 참고하시면 되는데, 처음 접할때는 어려울 것입니다. \n",
    "\n",
    "🌏 *핵심*적인 내용이란 ?\n",
    "\n",
    "그런데 말이죠, 제가 알려드리는 내용도 어떤 사람에게는 *좀 많다*고 느껴질 수도 있습니다. 그래서 본 세미나에서는 아주 핵심적인 것만, 어쩌면 허접한 것을, 아주 천천히 알려 드릴 겁니다. \n",
    "\n",
    "아래 내용에 대해서 알려 드리겠습니다. \n",
    "\n",
    " * 자료 타입\n",
    " * 제어문\n",
    " * 함수\n",
    " * 파일입출력\n",
    " * 클래스\n",
    "\n",
    "\n",
    "🌏 기초적인 파이썬을 넘기 위해서 \n",
    "\n",
    "그런데 파이썬 기초를 공부하는 것으로 만으로는 뭔가가 좀 부족합니다. 쓸모있는 뭔가를 만들거나, 당장 GUI 프로그램을 만들어 내는 것도 만만치 않습니다. 그래서 기존의 공개 모듈을 하나씩 익혀보는 것이 좋습니다. Python, Pyside를 조금 자세히 들여다 보고, Numpy, matplotlib, pandas, SciPy를 만나보도록 하겠습니다. \n",
    "\n",
    "\n",
    " * 1단계 : python 기초 문법\n",
    " * 2단계 : GUI - pySide\n",
    " * 3단계 : 각종 모듈 익히기(numpy, pandas, SciPy, matplotlib 등)\n",
    " * 4단계 : 작은 프로젝트 만들기\n",
    "\n"
   ]
  },
  {
   "cell_type": "markdown",
   "metadata": {},
   "source": [
    "## (2.3) 파이썬과 선택\n",
    "\n",
    "파이썬의 밀림 속을 헤매다보면, 매 순간마다 ‘선택’ 이라는 푯말과 부딪치게 됩니다. 특히 다음 3 가지가 중요한 선택 사항입니다. \n",
    "\n",
    "* 먼저 여러분이 사용할 파이썬의 버전을 선택해야 합니다.\n",
    "* 그리고 어떤 개발환경을 이용할지를 선택해야 합니다.\n",
    "* 마지막으로 GUI는 어떤 것을 이용할지를 선택해야 합니다.\n",
    "\n",
    "선택이 많다는 것은 ‘자유 의지’가 많아 진다는 것인데, 우리는 어쩌면 이런 선택앞에서 ‘피곤’을 느낄 때도 있습니다. \n",
    "\n",
    "\n",
    "🌏 선택사항 정리\n",
    "\n",
    "앞에서 설명한 내용을 정리해 볼 시간입니다. 여러분의 선택은 어떻게 되었습니까?\n",
    "\n",
    "| 부문  | 옵션 | 선택 |\n",
    "|:---: |:---: |:---: |\n",
    "|파이썬 버전| 2.7, 3.6 | 3.6 |\n",
    "|비트 | 32,64bit | 64 bit |\n",
    "|IDE | PyCharm, IDLE | PyCharm |\n",
    "|배포판| Anaconda | (https://www.continuum.io/downloads) |\n",
    "    \n",
    "\n",
    "🌏 파이썬 버전 : 2점대와 3점대   2점대와 3점대 파이썬의 경합은 매우 흥미로운 현상이다. \n",
    "\n",
    "> (참고)\n",
    "> Rosenberg(1976)가 “기술적 기대에 대하여(on Technological Expectations)”라는 논문에서 지적한 기술수용의 지체현상이 발생하기 때문이다. 로젠버그는 기술혁신이 채택되어 확산되는 과정에 담긴 역설적인 이야기를 들려주었는데, 대략 주장은 이렇다. (1)최첨단의 혁신기술이 발전하는 속도와 (2)이 기술을 수용하는 속도 사이에는 어쩌면 직관적으로 보기에는 역설적인 간단치 않은 관계가 있다는 것이다. 슘페터는  첫번째 혁신가(innovator)는 “모방자(imitator)” 가 그를 따라잡기 전 까지 엄청난 이득을 취할 것이라는 가정을 했지만, 로젠버그가 보기에 이러한 추정은 현실과 맞지 않았다. 슘페터의 개념은 혁신의 불연속성과 그 영향을 강조했으며, 구체적 사례연구에 기반한 것은 아니었다. 로젠버그는 사례를 살펴보면서 다른 주장을 펼친다. 현실은 오히려 사태를 주시하면서 기다리는 측에서 시장에서 성공하고 혁신가는 파산을 하는 경우가 많다. 혁신가가 기술혁신을 이루었지만, 구매자는 기술변화가 너무 빠르기에 지금 최신 제품을 사면 금방 구식이 될 것이라는 판단에 구매를 일단 보류하는 결정을 내린다. 그러다가 기술변화가 주춤해지고 제품이 안정화되면 그때 구매를 하게 된다. 자기가 산 제품이 단기간에 낡은 골동품으로 전락하는 것을 원하지 않기 때문이다. 그런데 파이썬의 경우는 신기술(3점대)이 안정화되기를 기다리는 것이 아니라, 구기술(2점대)을 지원하는 수많은 패키지들이 신기술을 지원해 주지 않기 때문에 구기술의 네트워크에 lock-in 되어 있는 현상이 발생한다. 3점대의 안정화가 핵심요인이 아니라 2점대의 네트워크가 현실적으로 더욱 강력한 힘을 발휘하고 있기 때문이다.\n",
    " \n",
    "> Nathan Rosenberg(1976), On Technological Expectations, The Economic Journal, 86, pp 523-535\n",
    "\n",
    "현재 최신 파이썬 버전은 2.7.13와 3.6.0 이 있습니다.(2017.3.7현재) 아니 최신버전이 왜 두 개이지라고, 처음 파이썬을 접한 분들은 궁금해 할 수 있을 것입니다. 왜냐면, 파이썬은 버전이 크게 2.*와 3.*으로 나눠져 있는데, 2.*버전과 3.*버전이 동시에 진화하고 있기 때문입니다. 그래서 먼저 어떤 파이썬 버전을 설치해야 하는지부터 신중하게 고민해야 합니다. 3.* 버전이 2.* 버전보다 개선된 것은 맞지만, 아직도 2.*버전을 고수하는 개발자가 상당수 많습니다. 왜 그럴까요 ?\n",
    "\n",
    "파이썬 언어를 지탱하는 다양한 환경 때문에 2.*을 떠날 수가 없기 때문입니다. 파이썬을 지원하는 우수한 수학모듈, 그래픽 모듈들이 파이썬 2.x에 맞춰 개발되었기에, 버전 3으로 전환할 때에는 이러한 주변 모듈의 지원이 가능한지를 꼼곰하게 따져보아야 하기 때문이죠. 최신 기능보다는 여러가지 오픈 소스를 활용할 수 있는 호환성이 중요한 선택 기준이 되기에 저는 2.* 버전을 사용중입니다.\n",
    "\n",
    "상황이 이렇다면, 혹시 파이썬 3은 실패한 언어가 아닐까하고 의심해 볼 수도 있습니다. 그러나 대세는 3.*으로 넘어갈 것이라는 데 이견이 없습니다. 다른 훌륭한 모듈들이 3.x 버전을 지원하기 시작하고 있기 때문이죠. \n",
    "\n",
    "* 그래서 본 자료도 3.6 으로 재작성하고자 합니다.\n",
    "\n",
    "###### 파이썬 버전 정보 구하는 방법 ?\n",
    "\n",
    "\n",
    "(1) 셀에서 찾는 방법 - 셀에서 python —version을 입력하면 버전 정보가 나옵니다.  \n",
    "\n",
    "```python\n",
    "$ python --version\n",
    "```\n",
    "\n",
    "(2) 파이썬이 실행중일 때 찾는 방법 \n",
    "\n",
    "```python\n",
    ">>> import sys\n",
    ">>> print (sys.version_info)\n",
    "sys.version_info(major=2, minor=7, micro=11, releaselevel='final', serial=0)\n",
    ">>> print (sys.version)\n",
    "2.7.11 (v2.7.11:6d1b6a68f775, Dec  5 2015, 12:54:16)\n",
    "[GCC 4.2.1 (Apple Inc. build 5666) (dot 3)]\n",
    ">>> \n",
    "```"
   ]
  },
  {
   "cell_type": "code",
   "execution_count": 2,
   "metadata": {
    "collapsed": false,
    "nbpresent": {
     "id": "d8c808ce-4906-4e1a-ac19-ffe229785dd2"
    }
   },
   "outputs": [
    {
     "name": "stdout",
     "output_type": "stream",
     "text": [
      "100\n"
     ]
    }
   ],
   "source": [
    "a = 100\n",
    "print(a)"
   ]
  },
  {
   "cell_type": "markdown",
   "metadata": {
    "nbpresent": {
     "id": "c24ef065-7bfa-49de-988e-3d64b847d2d2"
    }
   },
   "source": [
    "🌏 OS 환경\n",
    "\n",
    "파이썬은 크로스플랫폼을 지원하기에 Linux, 맥 OS X, 윈도우즈7 등 어떤 환경에서도 개발이 가능합니다.\n",
    "그러나 개발하는 컴퓨터 환경이 어떤 것인지도 주의를 기울여야 합니다. 윈도우즈 64비트에서 개발한 프로그램을 실행파일로 배포할 경우에 32비트 운영체제에서는 정상적으로 작동하지 않을 수도 있습니다.\n",
    "\n",
    "🌏 GUI 툴킷\n",
    "\n",
    "그래픽유저인터페이스(GUI) 툴킷을 무엇으로 할 것인가도 중요한 선택 사항입니다. 파이썬의 GUI 프로그램을 지원하는 툴킷이 여러가지 있습니다. 특정한 하나의 툴깃이 지배적으로 사용되지 않으며, 여러가지 종류가 함께 사용되고 있습니다. 대표적인 것은 Tkinter, wxPython, pyGTK/PyGobject, PyQt/PySide 등이 있습니다. 이중에서 한국에서는 wxPython 이 조금 더 많이 사용된다고 하는데, 저는 PySide를 사용하고 있습니다. \n",
    "\n",
    "○ Tkinter  -  파이썬 표준 GUI 패키지  (https://docs.python.org/3/library/tkinter.html)\n",
    "\n",
    "Python의 공식 GUI 툴킷은 Tkinter입니다. Tkinter는 쉽게 배울 수 있으며, 소규모 소프트웨어를 개발하는데 적합합니다. 그러나 디자인과 기능 측면에서 한계를 지니고 있는데요, GUI 환경에 요구되는 위젯의 배치 등을 코드작업을 통해서 해야 하기에 복잡한 화면설계를 할 경우 작업이 어려워질 수 있으며, 심미성이 떨어진다는 평가를 받고 있습니다. 위젯(widget)의 모양이 제한적이며, 이를 개선키 위하여 ttk가 도입되었다고합니다.\n",
    "\n",
    "\n",
    "○ wxPython  (http://www.wxpython.org)\n",
    "\n",
    "파이썬을 만든 Guido van Rossum이 극찬한 GUI 툴 킷으로 알려줘 있으며, 현재로서는 파이썬 GUI 중에서 지지층이 가장 견고합니다. \n",
    "\n",
    "\n",
    "○ PyGTK/PyGObject (http://www.pygtk.org)\n",
    "\n",
    "PyGTK는 GTK+ 라이브러리를 이용하는, 프리 소프트웨어로서 사용, 수정, 배포가 자유롭습니다. PyGObject은 파이썬 다이내믹모듈로 GNOME 플랫폼의 일부인 GObject을 사용한다고 합니다. 이것은 사용해 보지 않아, 평가를 내릴 수가 없습니다.\n",
    "\n",
    "\n",
    "○ PyQt/PySide  (https://wiki.qt.io/PySide)\n",
    "\n",
    "PyQt, PySide는 Qt에 기초하는데, Qt는 윈도우즈, 리눅스, 맥 OS X 등에서 작동이 가능하다는 장점을 지니고 있습니다. 파이썬에서 이용가능한 Qt는 두 가지 종류가 있는데, 이렇게 된 과정에는 약간의 사연이 있습니다. 아뭏튼 파이썬을 지원하는 Qt는 영국 리버뱅크컴퓨팅(Riverbank Computing)에서 만든 PyQt와 노키아의 지원을 받아 만든 PySide입니다.\n",
    "PySide와 PyQt는 라이센싱, API, 그리고 새로운 Qt 버전과의 동기화(Synchronization) 부문에서 차이를 보이고 있습니다. PyQt는 API1, API2 를 제공하지만, PySide는 API 1을 지원하지 않으며, API 2를 지원합니다. 새로운 Qt 버전이 등장하면, PySide는 PyQt보다 빠르게 이를 도입하고 있다는 평가를 받고 있습니다. 문서화가 잘되어 있는 장점으로 손쉽게 개발자들이 관련 라이브러리를 익힐 수 있습니다. 그런데, 국내에 Pyside를 소개한 책은 없는 상태입니다.\n",
    "\n",
    "🌏 통합개발환경(IDE)\n",
    "\n",
    "파이썬은 스크립터 언어이기에 편집기를 어떤 것을 사용해도 무방합니다. \n",
    "\n",
    "* IDLE\n",
    "* PyCharm\n",
    "* jupyter notebook\n",
    "* Eclipse -- PyDev\n",
    "* Vi, Vim, Sublime \n",
    "\n",
    "파이썬에서 제공하는 기본 통합개발환경(IDE)은 IDLE 이라고 합니다. 처음 파이썬을 배울때는 IDLE 이 좋은 친구가 될 것입니다. 그런데 아무래도 IDLE이 좀 더 편한 것을 찾아 나서는 분들이 많은데요, 유료로 판매하는 것도 많습니다. 무료로 얻을 수 있는 것 중에서는, 국내에서는 자바 사용자들이 많이 쓰는 Eclipse에 플러그인으로 PyDev를 설치하여 사용하는 방식이  많이 이용되고 있다고 합니다. 그리고 Vi, Vim을 이용하는 전문 프로그래머도 많다고 합니다. 참고로, 저는 파이썬이 제공해주고 있는 기본 툴인 IDLE과 무료로 사용할수 있는 PyCharm (http://www.jetbrains.com/pycharm )을 사용하고 있습니다.\n",
    "보다 다양한  파이썬 IDE 를 알고 싶다면, 아래 사이트를 참조하셔요(https://wiki.python.org/moin/PythonEditors) \n"
   ]
  },
  {
   "cell_type": "markdown",
   "metadata": {
    "nbpresent": {
     "id": "260420cc-44f8-4b09-b052-2e3dd02189cc"
    }
   },
   "source": [
    "## (2.4) 알고 시작해야 하는 내용들\n",
    "\n",
    "🌏 공백 \n",
    "- 공백이 매우 중요합니다.\n",
    "\n",
    "파이썬은 들여쓰기가 무척 중요합니다. 들여쓰기를 하는 것이 파이썬 세계의 ‘규칙’입니다. 이 규칙은 매우 엄격해서 들여쓰기를 하지 않으면, 문법 에러를 발생시킵니다. 파이썬 웹사이트에서는 탭 대신에 스페이스로 4칸씩 들여쓰기를 해주는 것을 권고하고 있습니다.\n",
    "그러면 왜 공백을 유지할까요? 코드의 가독성이 좋아지기 때문입니다. 그러면 코드의 가독성이 좋아지면 뭐가 좋아질까요. 무척 번거로운 일일 것 같다고요. 그러나 너무 걱정마세요. 다행히도 파이썬의 기본 IDE인 IDLE에서 자동으로 들여쓰기를 시켜줍니다. IDLE을 사용하면 들여쓰기의 어려움은 일단 해결되는 것이죠.\n",
    "\n",
    "[질문󰂍] 꼭 4칸 이어야 하는가 ? \n",
    "- 꼭 그렇지는 않습니다만, 한 번 테스트를 해보시기 바랍니다.\n",
    "- 약속을 해야 한다고 함\n",
    "\n",
    "\n",
    "🌏 대소문자\n",
    "영어 대소문자를 구분합니다.\n",
    "\n",
    "파이썬은 a와 A를 구분해서 인식합니다. 즉 대소문자를 구분할수 있을 정도로 똑똑합니다. 깐깐하다고 볼 수도 있고, 엄격하다고 볼 수도 있죠.\n",
    "\n",
    "\n",
    "```python\n",
    ">>> a = 100\n",
    ">>> A = 200\n",
    ">>>\n",
    ">>> print(a)\n",
    "100\n",
    ">>> print(A)\n",
    "200\n",
    "```\n",
    "\n",
    "🌏 주석\n",
    "\n",
    "* 라인에 대한 주석기호는 ‘#’\n",
    "* 문단에 대한 주석기호는  세따옴표('''   ''' )\n",
    "\n",
    "\n",
    "[Example]\n",
    "\n",
    "```python\n",
    "if a > 50:\n",
    "    print \"a > 50\"\n",
    "else :\n",
    "    print \"a <= 50\"\n",
    "```\n",
    "\n",
    "\n",
    "🌏 소스 파일에 저장해야 하는 기본적인 사항들\n",
    "\n",
    "○ # -*- coding: UTF-8 -*-\n",
    "\n",
    "non-ascii character 사용을 가능하게 해줍니다. 주석표시를 프로그램 소스코드 맨 앞에 적습니다.\n",
    "\n",
    "\n",
    "○ if \\__name\\__ == '\\__main\\__':\n",
    "메인이 되었을 때만, 실행이 가능하도록 해줍니다.\n",
    "\n",
    "```python\n",
    "if __name__ == '__main__':\n",
    "    main1()\n",
    "\n",
    "```\n",
    "\n",
    "\n",
    "(예제)  \n",
    "\n",
    "```python\n",
    "\n",
    "# -*- coding: UTF-8 -*-\n",
    "\n",
    "if __name__ == '__main__':\n",
    "    print(\"*\"*30)\n",
    "    \n",
    "```\n",
    "\n",
    "○ third-party packages (modules) 불러오기\n",
    "\n",
    "- 파이썬 자체 모듈이 아닌 다른 사람들이 만든 모듈을 서드-파티 패키지 라고 합니다. 파이썬은 이러한 서드-파티 패키지가 엄청 많아요.\n",
    "\n",
    "```python\n",
    "import os, time  # python에 있는 기본 모듈\n",
    "\n",
    "import matplotlib.pyplot as plt  # 서드 파티 패키지 불러오는 방법 \n",
    "import networkx as nx\n",
    "import seaborn as sns\n",
    "import pandas as pd\n",
    "from pandas import DataFrame, Series\n",
    "```\n"
   ]
  },
  {
   "cell_type": "markdown",
   "metadata": {
    "nbpresent": {
     "id": "04fcca51-a38a-4e4a-ac50-25810b39933b"
    }
   },
   "source": [
    "<td bgcolor=\"#ccffee\"> \n",
    "연습 \n",
    "</td>"
   ]
  },
  {
   "cell_type": "code",
   "execution_count": 3,
   "metadata": {
    "collapsed": false,
    "nbpresent": {
     "id": "8418e52c-1619-471b-9665-4813d54ae769"
    }
   },
   "outputs": [],
   "source": [
    "# example 1\n",
    "\n",
    "import sys\n"
   ]
  },
  {
   "cell_type": "code",
   "execution_count": 4,
   "metadata": {
    "collapsed": false,
    "nbpresent": {
     "id": "a343f18f-17b7-4f52-a8ee-957a124e2168"
    }
   },
   "outputs": [
    {
     "name": "stdout",
     "output_type": "stream",
     "text": [
      "sys.version_info(major=3, minor=5, micro=2, releaselevel='final', serial=0)\n",
      "******************************\n",
      "3.5.2 |Anaconda 4.2.0 (x86_64)| (default, Jul  2 2016, 17:52:12) \n",
      "[GCC 4.2.1 Compatible Apple LLVM 4.2 (clang-425.0.28)]\n"
     ]
    }
   ],
   "source": [
    "# example 2\n",
    "\n",
    "# -*- coding: UTF-8 -*-\n",
    "\n",
    "import sys\n",
    "\n",
    "if __name__ == '__main__':\n",
    "    print (sys.version_info)\n",
    "    print(\"*\"*30)\n",
    "    print(sys.version)\n",
    "    \n",
    "    "
   ]
  },
  {
   "cell_type": "code",
   "execution_count": null,
   "metadata": {
    "collapsed": true,
    "nbpresent": {
     "id": "d44698bc-2d5f-4d62-9ce2-a0fcac66a7c4"
    }
   },
   "outputs": [],
   "source": []
  }
 ],
 "metadata": {
  "anaconda-cloud": {},
  "kernelspec": {
   "display_name": "Python [conda root]",
   "language": "python",
   "name": "conda-root-py"
  },
  "language_info": {
   "codemirror_mode": {
    "name": "ipython",
    "version": 3
   },
   "file_extension": ".py",
   "mimetype": "text/x-python",
   "name": "python",
   "nbconvert_exporter": "python",
   "pygments_lexer": "ipython3",
   "version": "3.5.2"
  },
  "nbpresent": {
   "slides": {
    "09883f42-cf0b-4963-973b-29b0e5889484": {
     "id": "09883f42-cf0b-4963-973b-29b0e5889484",
     "prev": "562411d0-2131-48fc-8f38-a877e5ba5968",
     "regions": {
      "27a638ae-3c85-42b1-9ff3-7f724e19f311": {
       "attrs": {
        "height": 0.8,
        "width": 0.8,
        "x": 0.1,
        "y": 0.1
       },
       "content": {
        "cell": "ba27f649-2319-41bb-8638-748c38c40301",
        "part": "whole"
       },
       "id": "27a638ae-3c85-42b1-9ff3-7f724e19f311"
      }
     }
    },
    "0cf1f70d-45b7-4505-b3c5-006db4fbd0e5": {
     "id": "0cf1f70d-45b7-4505-b3c5-006db4fbd0e5",
     "prev": "68d9b35a-da86-4166-a660-f25a8b08ce83",
     "regions": {
      "4a24fac0-07a0-485b-930f-2a99c14a8fe8": {
       "attrs": {
        "height": 0.8,
        "width": 0.8,
        "x": 0.1,
        "y": 0.1
       },
       "content": {
        "cell": "531e99f6-ea44-4c25-8f8f-f6aad4d2a03f",
        "part": "whole"
       },
       "id": "4a24fac0-07a0-485b-930f-2a99c14a8fe8"
      }
     }
    },
    "1362d69c-87aa-4267-901a-62f801dcab4e": {
     "id": "1362d69c-87aa-4267-901a-62f801dcab4e",
     "layout": "grid",
     "prev": "94bd16c3-cff5-40f8-b29b-bd4d1ddc292e",
     "regions": {
      "400cb433-1206-4255-9460-979a694047b8": {
       "attrs": {
        "height": 0.8333333333333334,
        "pad": 0.01,
        "width": 0.8333333333333334,
        "x": 0.08333333333333333,
        "y": 0.08333333333333333
       },
       "content": {
        "cell": "02049ae7-061a-40a8-863f-5a016dc1bc6b",
        "part": "whole"
       },
       "id": "400cb433-1206-4255-9460-979a694047b8"
      }
     }
    },
    "1f2c8988-2c78-48d6-aa7c-b9c133301df7": {
     "id": "1f2c8988-2c78-48d6-aa7c-b9c133301df7",
     "prev": "a5e10571-5c02-4b2a-9d9a-a9314fd21512",
     "regions": {
      "e8ef6fca-d9ea-42ba-a756-7e117d60ef40": {
       "attrs": {
        "height": 0.8,
        "width": 0.8,
        "x": 0.1,
        "y": 0.1
       },
       "content": {
        "cell": "0d07b994-a137-4a9d-973e-803cd64a055d",
        "part": "whole"
       },
       "id": "e8ef6fca-d9ea-42ba-a756-7e117d60ef40"
      }
     }
    },
    "24fa306a-ef3f-4526-98f2-51a4ad2240d6": {
     "id": "24fa306a-ef3f-4526-98f2-51a4ad2240d6",
     "prev": "463be2be-56e5-46ac-b0d1-80e3cdf36487",
     "regions": {
      "3d3a10ec-182c-4354-bfcf-3830b454063c": {
       "attrs": {
        "height": 0.8,
        "width": 0.8,
        "x": 0.1,
        "y": 0.1
       },
       "content": {
        "cell": "6b40979f-fe5f-4245-bc8c-50ad696bd826",
        "part": "whole"
       },
       "id": "3d3a10ec-182c-4354-bfcf-3830b454063c"
      }
     }
    },
    "294fcad5-914b-4589-a7b5-4b9d2026b119": {
     "id": "294fcad5-914b-4589-a7b5-4b9d2026b119",
     "prev": "3d42fe6c-e4dd-4df7-a174-f947a5c447de",
     "regions": {
      "bfd00173-60d6-48a4-99f2-c4de6fb20fe8": {
       "attrs": {
        "height": 0.8,
        "width": 0.8,
        "x": 0.1,
        "y": 0.1
       },
       "content": {
        "cell": "3d7810c4-41b1-4bbb-93f1-99f23d99aacd",
        "part": "whole"
       },
       "id": "bfd00173-60d6-48a4-99f2-c4de6fb20fe8"
      }
     }
    },
    "35717f84-b903-40d6-9a56-260cac3b553c": {
     "id": "35717f84-b903-40d6-9a56-260cac3b553c",
     "prev": "d443613d-9721-4299-86ac-5dfab74c6d00",
     "regions": {
      "c9bcb404-3204-4196-8697-f8495b205c26": {
       "attrs": {
        "height": 0.8,
        "width": 0.8,
        "x": 0.1,
        "y": 0.1
       },
       "content": {
        "cell": "a343f18f-17b7-4f52-a8ee-957a124e2168",
        "part": "whole"
       },
       "id": "c9bcb404-3204-4196-8697-f8495b205c26"
      }
     }
    },
    "3d42fe6c-e4dd-4df7-a174-f947a5c447de": {
     "id": "3d42fe6c-e4dd-4df7-a174-f947a5c447de",
     "prev": "24fa306a-ef3f-4526-98f2-51a4ad2240d6",
     "regions": {
      "9a82e1da-7a52-4ae3-9c7f-8721300cb7f3": {
       "attrs": {
        "height": 0.8,
        "width": 0.8,
        "x": 0.1,
        "y": 0.1
       },
       "content": {
        "cell": "bee12a4e-6497-44bd-92e9-856e40fea659",
        "part": "whole"
       },
       "id": "9a82e1da-7a52-4ae3-9c7f-8721300cb7f3"
      }
     }
    },
    "3dc812e7-bb55-43b0-a2ef-b3dbdcfb3797": {
     "id": "3dc812e7-bb55-43b0-a2ef-b3dbdcfb3797",
     "prev": "c61e56c4-77cf-4fd3-a0a5-84bd84c16984",
     "regions": {
      "2f183955-17fc-4060-a8f8-cc41fe2c1640": {
       "attrs": {
        "height": 0.8,
        "width": 0.8,
        "x": 0.1,
        "y": 0.1
       },
       "content": {
        "cell": "260420cc-44f8-4b09-b052-2e3dd02189cc",
        "part": "whole"
       },
       "id": "2f183955-17fc-4060-a8f8-cc41fe2c1640"
      }
     }
    },
    "463be2be-56e5-46ac-b0d1-80e3cdf36487": {
     "id": "463be2be-56e5-46ac-b0d1-80e3cdf36487",
     "layout": "manual",
     "prev": null,
     "regions": {
      "6102b120-4913-4edb-98c2-9276505a64c4": {
       "attrs": {
        "height": 0.8,
        "width": 0.8,
        "x": 0.1,
        "y": 0.1
       },
       "content": {
        "cell": "eee9353b-325e-4bde-a03b-f85fed2e4385",
        "part": "whole"
       },
       "id": "6102b120-4913-4edb-98c2-9276505a64c4"
      },
      "8e9b2812-6f04-4199-add3-4ab4666a3e42": {
       "attrs": {
        "height": 0.8,
        "width": 0.8,
        "x": 0.1,
        "y": 0.1
       },
       "id": "8e9b2812-6f04-4199-add3-4ab4666a3e42"
      },
      "ceda603f-dc46-423e-9e8e-449a11f8abf0": {
       "attrs": {
        "height": 0.8,
        "width": 0.8,
        "x": 0.1,
        "y": 0.1
       },
       "id": "ceda603f-dc46-423e-9e8e-449a11f8abf0"
      }
     }
    },
    "562411d0-2131-48fc-8f38-a877e5ba5968": {
     "id": "562411d0-2131-48fc-8f38-a877e5ba5968",
     "prev": "0cf1f70d-45b7-4505-b3c5-006db4fbd0e5",
     "regions": {
      "ae325540-d926-4181-b1ce-90ffe328fb65": {
       "attrs": {
        "height": 0.8,
        "width": 0.8,
        "x": 0.1,
        "y": 0.1
       },
       "content": {
        "cell": "ee3eb411-8451-46c6-80f5-865d7f79f857",
        "part": "whole"
       },
       "id": "ae325540-d926-4181-b1ce-90ffe328fb65"
      }
     }
    },
    "5780607d-bf1f-4af1-931f-d2d1edd54ad6": {
     "id": "5780607d-bf1f-4af1-931f-d2d1edd54ad6",
     "prev": "1362d69c-87aa-4267-901a-62f801dcab4e",
     "regions": {
      "fcd6b127-ab1a-4679-8110-fc1328a6ba9d": {
       "attrs": {
        "height": 0.8,
        "width": 0.8,
        "x": 0.1,
        "y": 0.1
       },
       "content": {
        "cell": "de7df1da-fd40-493b-9eb9-edbba1d174e0",
        "part": "whole"
       },
       "id": "fcd6b127-ab1a-4679-8110-fc1328a6ba9d"
      }
     }
    },
    "63279bee-552f-4313-ac69-f80b022aee8d": {
     "id": "63279bee-552f-4313-ac69-f80b022aee8d",
     "prev": "35717f84-b903-40d6-9a56-260cac3b553c",
     "regions": {
      "27450a38-2646-455f-8d52-be1277d284e8": {
       "attrs": {
        "height": 0.8,
        "width": 0.8,
        "x": 0.1,
        "y": 0.1
       },
       "content": {
        "cell": "d44698bc-2d5f-4d62-9ce2-a0fcac66a7c4",
        "part": "whole"
       },
       "id": "27450a38-2646-455f-8d52-be1277d284e8"
      }
     }
    },
    "6484e8d1-0133-49f6-987d-87aa5e29f607": {
     "id": "6484e8d1-0133-49f6-987d-87aa5e29f607",
     "prev": "9b5bbdb0-0282-420e-8b55-405fda1675a6",
     "regions": {
      "6128ba11-6325-45d7-bc8b-6cc038e310f3": {
       "attrs": {
        "height": 0.8,
        "width": 0.8,
        "x": 0.1,
        "y": 0.1
       },
       "content": {
        "cell": "d8c808ce-4906-4e1a-ac19-ffe229785dd2",
        "part": "whole"
       },
       "id": "6128ba11-6325-45d7-bc8b-6cc038e310f3"
      }
     }
    },
    "68d9b35a-da86-4166-a660-f25a8b08ce83": {
     "id": "68d9b35a-da86-4166-a660-f25a8b08ce83",
     "prev": "1f2c8988-2c78-48d6-aa7c-b9c133301df7",
     "regions": {
      "182ed4d6-2962-4964-8a78-0f78e65a359d": {
       "attrs": {
        "height": 0.8,
        "width": 0.8,
        "x": 0.1,
        "y": 0.1
       },
       "content": {
        "cell": "973cc177-13a3-4fa2-ab47-17527901aae1",
        "part": "whole"
       },
       "id": "182ed4d6-2962-4964-8a78-0f78e65a359d"
      }
     }
    },
    "94bd16c3-cff5-40f8-b29b-bd4d1ddc292e": {
     "id": "94bd16c3-cff5-40f8-b29b-bd4d1ddc292e",
     "prev": "fcce826b-7b25-4ae4-af12-6ea5e41154e1",
     "regions": {
      "68ee37c4-25d2-44b0-899e-0116e93b246c": {
       "attrs": {
        "height": 0.8,
        "width": 0.8,
        "x": 0.1,
        "y": 0.1
       },
       "content": {
        "cell": "f96ff602-acc1-432e-8697-294b5dffa027",
        "part": "whole"
       },
       "id": "68ee37c4-25d2-44b0-899e-0116e93b246c"
      }
     }
    },
    "9b5bbdb0-0282-420e-8b55-405fda1675a6": {
     "id": "9b5bbdb0-0282-420e-8b55-405fda1675a6",
     "prev": "09883f42-cf0b-4963-973b-29b0e5889484",
     "regions": {
      "4d75fad3-c7e4-4927-92e5-4cb8813f3718": {
       "attrs": {
        "height": 0.8,
        "width": 0.8,
        "x": 0.1,
        "y": 0.1
       },
       "content": {
        "cell": "b822e16a-c3b9-4ca2-85f6-9249deb06925",
        "part": "whole"
       },
       "id": "4d75fad3-c7e4-4927-92e5-4cb8813f3718"
      }
     }
    },
    "a5e10571-5c02-4b2a-9d9a-a9314fd21512": {
     "id": "a5e10571-5c02-4b2a-9d9a-a9314fd21512",
     "prev": "5780607d-bf1f-4af1-931f-d2d1edd54ad6",
     "regions": {
      "1a67c378-0c50-4163-ba30-36c760fbf9b6": {
       "attrs": {
        "height": 0.8,
        "width": 0.8,
        "x": 0.1,
        "y": 0.1
       },
       "content": {
        "cell": "41f34f0d-48d6-4ac3-b2c2-2e3040f65a96",
        "part": "whole"
       },
       "id": "1a67c378-0c50-4163-ba30-36c760fbf9b6"
      }
     }
    },
    "bbd11f0d-d69a-4b4e-bbe5-e472d49138fd": {
     "id": "bbd11f0d-d69a-4b4e-bbe5-e472d49138fd",
     "prev": "3dc812e7-bb55-43b0-a2ef-b3dbdcfb3797",
     "regions": {
      "783f6179-f141-4e20-9d59-e45834645ce6": {
       "attrs": {
        "height": 0.8,
        "width": 0.8,
        "x": 0.1,
        "y": 0.1
       },
       "content": {
        "cell": "04fcca51-a38a-4e4a-ac50-25810b39933b",
        "part": "whole"
       },
       "id": "783f6179-f141-4e20-9d59-e45834645ce6"
      }
     }
    },
    "c61e56c4-77cf-4fd3-a0a5-84bd84c16984": {
     "id": "c61e56c4-77cf-4fd3-a0a5-84bd84c16984",
     "prev": "6484e8d1-0133-49f6-987d-87aa5e29f607",
     "regions": {
      "8759d832-6069-4387-baca-adfb38106013": {
       "attrs": {
        "height": 0.8,
        "width": 0.8,
        "x": 0.1,
        "y": 0.1
       },
       "content": {
        "cell": "c24ef065-7bfa-49de-988e-3d64b847d2d2",
        "part": "whole"
       },
       "id": "8759d832-6069-4387-baca-adfb38106013"
      }
     }
    },
    "d443613d-9721-4299-86ac-5dfab74c6d00": {
     "id": "d443613d-9721-4299-86ac-5dfab74c6d00",
     "prev": "bbd11f0d-d69a-4b4e-bbe5-e472d49138fd",
     "regions": {
      "efefd001-8d65-4d30-9a7c-e6a73d3942e7": {
       "attrs": {
        "height": 0.8,
        "width": 0.8,
        "x": 0.1,
        "y": 0.1
       },
       "content": {
        "cell": "8418e52c-1619-471b-9665-4813d54ae769",
        "part": "whole"
       },
       "id": "efefd001-8d65-4d30-9a7c-e6a73d3942e7"
      }
     }
    },
    "fcce826b-7b25-4ae4-af12-6ea5e41154e1": {
     "id": "fcce826b-7b25-4ae4-af12-6ea5e41154e1",
     "prev": "294fcad5-914b-4589-a7b5-4b9d2026b119",
     "regions": {
      "79f82ea0-80eb-42d5-87fc-69e837f31523": {
       "attrs": {
        "height": 0.8,
        "width": 0.8,
        "x": 0.1,
        "y": 0.1
       },
       "content": {
        "cell": "ad63cee0-7fa2-46bb-9df9-eeb2c4ec90f1",
        "part": "whole"
       },
       "id": "79f82ea0-80eb-42d5-87fc-69e837f31523"
      }
     }
    }
   },
   "themes": {}
  }
 },
 "nbformat": 4,
 "nbformat_minor": 1
}
