{
  "cells": [
    {
      "cell_type": "markdown",
      "metadata": {
        "id": "view-in-github",
        "colab_type": "text"
      },
      "source": [
        "<a href=\"https://colab.research.google.com/github/skyboong/python_learning/blob/master/ch02_paly.ipynb\" target=\"_parent\"><img src=\"https://colab.research.google.com/assets/colab-badge.svg\" alt=\"Open In Colab\"/></a>"
      ]
    },
    {
      "cell_type": "markdown",
      "metadata": {
        "toc-hr-collapsed": false,
        "id": "WkNB5Bo5TQib"
      },
      "source": [
        "# Ch2 파이썬과 놀기 (맛보기)\n"
      ]
    },
    {
      "cell_type": "markdown",
      "source": [
        "- 파이썬과 처음 만나는 시간입니다. 간단하게 파이썬 문법의 이모저모를 '쭉' 살펴 보겠습니다. 이리저리 돌아 다니면서 파이썬의 기초 문법을 익히도록 하겠습니다.\n",
        "\n",
        "- 아래 내용을 쭉 따라 해 보세요. 단계 마다 마지막에 퀴즈도 나갑니다. 재미나게 퀴즈도 풀면서, 정말 이해하고 넘어가는지를 한번 체크 해 보셔요.\n",
        "\n",
        "\n",
        "※ *새로운 단어* : 자료형, 연산자, 메소드, 빌트인 함수"
      ],
      "metadata": {
        "id": "t-3wHzb_VgxJ"
      }
    },
    {
      "cell_type": "markdown",
      "source": [
        "## 1 **배울 내용**\n"
      ],
      "metadata": {
        "id": "r97b6sDATbux"
      }
    },
    {
      "cell_type": "markdown",
      "source": [
        "\n",
        "**목표** : 이번 레터에서는 아래 사항을 소개 해드립니다.\n",
        "\n",
        " - 자료에는 여러가지 종류(type)가 있다.\n",
        " - 각 자료형 마다 연산자가 있다.\n",
        " - 각 자료형 마다 메소드가 존재한다.\n",
        " - 빌트인 함수(표준함수)도 있다."
      ],
      "metadata": {
        "id": "_mEgo-DCVVKA"
      }
    },
    {
      "cell_type": "markdown",
      "metadata": {
        "id": "Jb93tX1iTQig"
      },
      "source": [
        "| 구분 |배울 내용| 함수 | 자료형 | 연산자 |\n",
        "| --- |:---|:---  |:--- |:--- |\n",
        "|실행 | IDLE, Jypter notebook 사용법|      |   |     |\n",
        "|문자|print,type,따옴표,연산자,주석| print(),type()|str|+, *  |\n",
        "|숫자| print,type,연산자,숫자와 문자 차이,에러 이해| print(),type() |int,float    |+,-,*,/,//,%, +=,==  |\n",
        "|변수개념 이해|       |    |  | |\n",
        "|집짓기| 단독, 아파트 차이| len()  | list   | |\n",
        "|연산자 | 자료형과 연산자 |  |     |\n",
        "|기초 함수|       | dir(),<br>help()  |  | |\n",
        "|제어문 |for,while,if,continue,break, match case|range(),<br>enumerate()<br>list()| |in|\n",
        "|파일에 명령어 저장, 실행|       | |      |  |  \n",
        "|실습 : 과제 수행하기|      | |      |  |\n",
        "<caption><center>소개할 순서</center></caption>"
      ]
    },
    {
      "cell_type": "code",
      "source": [],
      "metadata": {
        "id": "_QnRy4EbWC3k"
      },
      "execution_count": null,
      "outputs": []
    },
    {
      "cell_type": "markdown",
      "source": [
        "# 제1절 문자\n"
      ],
      "metadata": {
        "id": "WxFp-EWZWbtg"
      }
    },
    {
      "cell_type": "markdown",
      "source": [
        "## [설명]"
      ],
      "metadata": {
        "id": "jrPbCof3bwKZ"
      }
    },
    {
      "cell_type": "markdown",
      "source": [
        "\n",
        "파이썬 IDLE 또는 주피터 노트북을 실행하고 난 다음 제일 먼저 뭐 부터 해볼까요. 많은 분들이 'Hello' 문자를 모니터에 출력하는 작업을 합니다. 우리도 이런 전통을 즐기면서, 한번 해 보겠습니다.  \n",
        "\n"
      ],
      "metadata": {
        "id": "n0FnImVxWrFi"
      }
    },
    {
      "cell_type": "markdown",
      "source": [
        "### (1) 문자"
      ],
      "metadata": {
        "id": "UtJoQYclhqJR"
      }
    },
    {
      "cell_type": "markdown",
      "source": [
        "- 파이썬에서 사용하는 문자는 string(문자열) 이라고 합니다."
      ],
      "metadata": {
        "id": "h2IcwV7thzV7"
      }
    },
    {
      "cell_type": "markdown",
      "source": [
        "### (2) 프린트\n"
      ],
      "metadata": {
        "id": "ULyfVlyRWvWS"
      }
    },
    {
      "cell_type": "markdown",
      "source": [
        "\n",
        "먼저, 아래와 같은 명령어를 입력해 봅시다.\n",
        "\n",
        "```python\n",
        "print(\"Hello\")\n",
        "```\n",
        "\n",
        "파이썬에서 문자를 표시할 때는, 작은 따옴표(''), 큰 따옴표(\",\"), 세겹 따옴표(\"\"\",\"\"\")를 모두 사용 할 수 있습니다.\n",
        "\n",
        "```python\n",
        "print('안녕하셔요')\n",
        "print(\"안녕하셔요\")\n",
        "print(\"\"\"안녕하셔요\"\"\")\n",
        "```\n",
        "\n"
      ],
      "metadata": {
        "id": "70U2PmtdW4Sa"
      }
    },
    {
      "cell_type": "markdown",
      "source": [
        "### (3) 타입\n",
        "\n",
        "모든 데이터는 특정한 타입(type)을 지닙니다. 그래서 타입을 알아야 하는데, 타입의 종류가 많습니다. 처음에는 어려울 수 있지만, 조금 지나면 그냥 알게 됩니다.\n",
        "\n",
        "파이썬에서 제공하는 type() 함수를 이용하면, 해당 데이터의 종류를 알 수 있습니다. 아래와 같이 한번 해 봅시다.\n",
        "\n",
        "```python\n",
        "type('abc')\n",
        "\n",
        "str\n",
        "```\n",
        "\n",
        "문자 'abc'는 str 타입 입니다. 이것은 문자열(string)을 나타냅니다.\n",
        "\n"
      ],
      "metadata": {
        "id": "6xhZRCFjWxWh"
      }
    },
    {
      "cell_type": "code",
      "source": [
        "# example\n",
        "\n",
        "type('abc')"
      ],
      "metadata": {
        "id": "1kxnzRueYNUC",
        "colab": {
          "base_uri": "https://localhost:8080/"
        },
        "outputId": "623e8343-3eda-4508-c392-1d02c73898cd"
      },
      "execution_count": null,
      "outputs": [
        {
          "output_type": "execute_result",
          "data": {
            "text/plain": [
              "str"
            ]
          },
          "metadata": {},
          "execution_count": 19
        }
      ]
    },
    {
      "cell_type": "markdown",
      "source": [
        "### (4) 연산자 : 공백, +, *, ==\n"
      ],
      "metadata": {
        "id": "Vw65pOKGWyki"
      }
    },
    {
      "cell_type": "markdown",
      "source": [
        "* '연산자(operator)'라는 단어가 낯설 수도 있지만, 일단 진행해 보겠습니다. 수학 시간에 배운 연산자와 비슷하지만, 컴퓨터 키보드에 등장하는 여러가지 기호 들에는 어떤 특별한 의미를 부여해 놓았습니다. 그런 의미를 하나씩 배워 나갈 것입니다.\n"
      ],
      "metadata": {
        "id": "wm6_RQmJW2xi"
      }
    },
    {
      "cell_type": "markdown",
      "source": [
        "\n",
        "프린트 명령어를 다양하게 알아보겠습니다.\n",
        "\n",
        "- 문자만 출력하기\n",
        "```python\n",
        "print(\"I am Dr. Who !\")\n",
        "[결과] I am Dr. Who !\n",
        "```\n",
        "\n",
        "- 공백  : 아무런 연산자 없이 그냥 문자열만 나열하면 문자를 자동으로 연결시켜 줍니다.\n",
        "```python\n",
        "print('Red' 'Green' 'Blue')\n",
        "[결과] RedGreenBlue\n",
        "```\n",
        "\n",
        "- 더하기(+)\n",
        "```python\n",
        "print(\"I am\" + \"Dr. Who !\")\n",
        "[결과] I amDr. Who !\n",
        "```\n",
        "- 곱하기(*) 문자열을 *배 만들어 줍니다.\n",
        "```python\n",
        "print(\"ABC\"*10)\n",
        "[결과] ABCABCABCABCABCABCABCABCABCABC\n",
        "```\n",
        "\n",
        "- 비교(==) : 문자열이 같은지 비교하여 같으면 True, 다르면 False 보내줌\n",
        "```python\n",
        "print(\"ABC\"=='ABC')\n",
        "[결과] True\n",
        "```\n",
        "-  마이너스(-)는 ? 그런데 문자를 빼는 기능은 지원하지 않습니다. 각자가 테스트 해 보셔요.\n",
        "\n"
      ],
      "metadata": {
        "id": "BSJzX0WAZGMK"
      }
    },
    {
      "cell_type": "code",
      "source": [
        "# print(\"ABC\"=='ABC')"
      ],
      "metadata": {
        "id": "7vo2BNvAn9jW"
      },
      "execution_count": null,
      "outputs": []
    },
    {
      "cell_type": "markdown",
      "source": [
        "## [Example]"
      ],
      "metadata": {
        "id": "iT2eLL4DWzpm"
      }
    },
    {
      "cell_type": "code",
      "source": [
        "# + * 기능 확인하기\n",
        "print(\"I am \" + \"Dr. Who !\") # + 기능\n",
        "print('abc'*3)               # * 기능\n",
        "\n",
        "# 아무런 연산자 없이 그냥 문자열만 나열하면 문자를 자동으로 연결시켜 줍니다.\n",
        "print('Red' 'Green' 'Blue')\n",
        "\n",
        "\n",
        "# 프린트 괄호안의 콤마(,)의 역할 : 콤마는 스페이스 기능을 수행합니다.\n",
        "print('apple')\n",
        "print('apple' 'banana')\n",
        "print('apple','banana')"
      ],
      "metadata": {
        "id": "CrqyeUAAX2FC",
        "colab": {
          "base_uri": "https://localhost:8080/"
        },
        "outputId": "76487f40-910d-4734-cd35-8de87c599480"
      },
      "execution_count": null,
      "outputs": [
        {
          "output_type": "stream",
          "name": "stdout",
          "text": [
            "I am Dr. Who !\n",
            "I am Dr. Who !\n",
            "abcabcabc\n",
            "RedGreenBlue\n",
            "apple\n",
            "applebanana\n",
            "apple banana\n"
          ]
        }
      ]
    },
    {
      "cell_type": "code",
      "source": [],
      "metadata": {
        "id": "HWP2fci3Z3RG"
      },
      "execution_count": null,
      "outputs": []
    },
    {
      "cell_type": "markdown",
      "source": [
        "## [Quiz]\n"
      ],
      "metadata": {
        "id": "RW6n7LfTXzD_"
      }
    },
    {
      "cell_type": "markdown",
      "source": [
        "\n",
        "\n",
        "```python\n",
        "[Q-1] 다음 중 맞지 않는 방법은 ? (문자열;따옴표)\n",
        "\n",
        "① print('\"도서관\"에 가다')\n",
        "② print(\"\"도서관\"에 가다\")\n",
        "③ print(\"\"\"\"도서관\"에 가다\"\"\")\n",
        "```\n",
        "\n",
        "```python\n",
        "[Q-2] 다음의  결과는 ? (문자열;연산자)\n",
        "\n",
        "print(\"*\"*5)\n",
        "\n",
        "① *5   ② *****   ③ *55555\n",
        "```\n",
        "\n",
        "```python\n",
        "[Q-3] 아래 결과는 어떻게 될까요 ?\n",
        "\n",
        "a = 'apple'\n",
        "b = 100\n",
        "print(a,b)\n",
        "\n",
        "① 에러가 발생한다.\n",
        "② apple 100\n",
        "③ apple, 100\n",
        "```"
      ],
      "metadata": {
        "id": "i8AOOhF2X0Ga"
      }
    },
    {
      "cell_type": "code",
      "source": [
        "# sol\n",
        "\n",
        "a = 'apple'\n",
        "b = 100\n",
        "print(a,b)"
      ],
      "metadata": {
        "id": "OTiW_uAeakze",
        "outputId": "1bc7d684-5125-4a81-f395-b84d5c86082f",
        "colab": {
          "base_uri": "https://localhost:8080/"
        }
      },
      "execution_count": null,
      "outputs": [
        {
          "output_type": "stream",
          "name": "stdout",
          "text": [
            "apple 100\n"
          ]
        }
      ]
    },
    {
      "cell_type": "markdown",
      "source": [
        "# 제2절 숫자(정수, 실수)"
      ],
      "metadata": {
        "id": "UQh3AL1Sc5cN"
      }
    },
    {
      "cell_type": "markdown",
      "source": [
        "## [설명]"
      ],
      "metadata": {
        "id": "72UZcgcJc7zc"
      }
    },
    {
      "cell_type": "markdown",
      "source": [
        "- 이번에는 숫자를 출력하는 방법을 알아 보겠습니다. 숫자는 정수, 실수, 복소수 등이 있습니다. 파이썬은 이런 모든 숫자를 다룹니다. 그런데 우리는 정수, 실수만 다룰 것입니다."
      ],
      "metadata": {
        "id": "rFp6kAQTf6zd"
      }
    },
    {
      "cell_type": "markdown",
      "source": [],
      "metadata": {
        "id": "yaZ1Bo_SgA1l"
      }
    },
    {
      "cell_type": "markdown",
      "source": [
        "### (1) 숫자\n"
      ],
      "metadata": {
        "id": "fhat1CjJgThY"
      }
    },
    {
      "cell_type": "markdown",
      "source": [
        "\n",
        "정수는 플러스, 마이너스 값을 가지며, 실수는 소수점을 가집니다.\n",
        "\n",
        "- 정수 : 0 ,-1, 1, ...\n",
        "- 실수 : 1.0, 1., 0.1,  소수점이 있는것\n",
        "\n"
      ],
      "metadata": {
        "id": "lK-X8mQmivDO"
      }
    },
    {
      "cell_type": "markdown",
      "source": [
        "- *그리고 파이썬에서는 True, False 를 문자가 아닌 숫자로 인식합니다."
      ],
      "metadata": {
        "id": "YsEaibOU1_fp"
      }
    },
    {
      "cell_type": "code",
      "source": [
        "True == 1"
      ],
      "metadata": {
        "colab": {
          "base_uri": "https://localhost:8080/"
        },
        "id": "9oW0o6Oq1x7o",
        "outputId": "02a5d96d-7f17-4cc1-90d4-fbe9ece358d4"
      },
      "execution_count": null,
      "outputs": [
        {
          "output_type": "execute_result",
          "data": {
            "text/plain": [
              "True"
            ]
          },
          "metadata": {},
          "execution_count": 93
        }
      ]
    },
    {
      "cell_type": "code",
      "source": [
        "False == 0"
      ],
      "metadata": {
        "colab": {
          "base_uri": "https://localhost:8080/"
        },
        "id": "HHg11VFT13I3",
        "outputId": "703c5e35-a243-4c1d-b0bc-599c0e948f6b"
      },
      "execution_count": null,
      "outputs": [
        {
          "output_type": "execute_result",
          "data": {
            "text/plain": [
              "True"
            ]
          },
          "metadata": {},
          "execution_count": 94
        }
      ]
    },
    {
      "cell_type": "markdown",
      "source": [
        "\n",
        "### (2) 프린트 방법\n"
      ],
      "metadata": {
        "id": "_8bl4LBdi0ar"
      }
    },
    {
      "cell_type": "markdown",
      "source": [
        "- 프린트 함수를 처음 배워 보겠습니다."
      ],
      "metadata": {
        "id": "Kwx7eI-Matu6"
      }
    },
    {
      "cell_type": "markdown",
      "source": [
        "\n",
        "```python\n",
        "print(100)  # 이건 정수이죠.\n",
        "print(0.8)  # 이건 실수 이죠.\n",
        "print(0.)   # 이것도 실수 이죠.\n",
        "print(1.)\n",
        "```"
      ],
      "metadata": {
        "id": "DBgZlQcri2Ch"
      }
    },
    {
      "cell_type": "code",
      "source": [
        "# 결과\n",
        "\n",
        "print(100)  # 이건 정수이죠.\n",
        "print(0.8)  # 이건 실수 이죠.\n",
        "print(0.)   # 이것도 실수 이죠.\n",
        "print(1.)"
      ],
      "metadata": {
        "colab": {
          "base_uri": "https://localhost:8080/"
        },
        "id": "tS_u1RHFi-qx",
        "outputId": "48df7ed4-9ff2-4b9d-b537-ab99d7059086"
      },
      "execution_count": null,
      "outputs": [
        {
          "output_type": "stream",
          "name": "stdout",
          "text": [
            "100\n",
            "0.8\n",
            "0.0\n",
            "1.0\n"
          ]
        }
      ]
    },
    {
      "cell_type": "markdown",
      "source": [
        "### (3) 타입 : float, int"
      ],
      "metadata": {
        "id": "ME7cKERxgSAg"
      }
    },
    {
      "cell_type": "markdown",
      "source": [
        "\n",
        "- 앞에서 문자 타입 확인할 때 사용한 type() 함수를 이번에도 사용해 보겠습니다. int 는  정수(integer)이며, float은 실수 입니다.\n",
        "\n",
        "\n",
        "- (참고) C언어에서 실수는 float, double 타입이 있는데, 파이썬은 float 만 있습니다. KINME 에서 I, D로 표시된 부분이 있는데, I는 정수, D는 double 인 실수를 나타내죠, 같은 용어입니다.\n",
        "\n",
        "```python\n",
        "type(1)\n",
        "\n",
        "type(0.)\n",
        "```"
      ],
      "metadata": {
        "id": "_7PWl7JLgSo4"
      }
    },
    {
      "cell_type": "code",
      "source": [
        "# example\n",
        "\n",
        "type(1)"
      ],
      "metadata": {
        "colab": {
          "base_uri": "https://localhost:8080/"
        },
        "id": "CSDiWfdYhO40",
        "outputId": "d8c24b38-5f92-4a90-8d61-a2e27ab1aeb4"
      },
      "execution_count": null,
      "outputs": [
        {
          "output_type": "execute_result",
          "data": {
            "text/plain": [
              "int"
            ]
          },
          "metadata": {},
          "execution_count": 12
        }
      ]
    },
    {
      "cell_type": "code",
      "source": [
        "type(0.)"
      ],
      "metadata": {
        "colab": {
          "base_uri": "https://localhost:8080/"
        },
        "id": "uzVfnozJgFeH",
        "outputId": "393e75d9-9d59-4f77-fd51-9d62e95c88b9"
      },
      "execution_count": null,
      "outputs": [
        {
          "output_type": "execute_result",
          "data": {
            "text/plain": [
              "float"
            ]
          },
          "metadata": {},
          "execution_count": 13
        }
      ]
    },
    {
      "cell_type": "markdown",
      "source": [
        "### (4) 연산자"
      ],
      "metadata": {
        "id": "AoGuwhHVhTMM"
      }
    },
    {
      "cell_type": "markdown",
      "source": [
        "\n",
        "- 이제 숫자의 연산자를 알아 보겠습니다. 더하기, 빼기, 곱하기, 나누기 등등에 대해서 살펴 보겠습니다. 아마도 몫, 나머지, 지수, 비교, 할당 연산자는 낯설 수 있습니다. 한번 더 눈길을 보내 주세요\n",
        "\n",
        "| 구분      | 기호  | 설명 |\n",
        "| :---:    |:---: |:---:|\n",
        "| 더하기 | + |  - |  \n",
        "| 빼기  | - | - |\n",
        "| 곱하기 | * | 곱하기 × 가 키보드에 없기에 * 을 사용 |\n",
        "| 나누기 | / | 나누기 ÷ 도 키보드에 없기에 / 을 사용 |  \n",
        "| **몫연산자**| // |    몫만 돌려주고 나머지는 버리는 연산자 x // y (예 7//2 하면 3) |\n",
        "| **나머지연산자** | % | 몫은 버리고 나머지만 돌려주는 연산자 x % y (예 7%2 하면 2*3 + 1 이니 나머지는 1)|\n",
        "| 지수 연산자| ** |  a**b (a의 지수 b) |\n",
        "| 비교 연산자| == | 값비교 |\n",
        "| 할당 연산자| +=, -=, *=, /= | 동시에 두개의 연산자 적용 |\n",
        "<caption>숫자형에서 작동 가능한 연산자</caption>\n"
      ],
      "metadata": {
        "id": "7c04mA9PgQqQ"
      }
    },
    {
      "cell_type": "code",
      "source": [],
      "metadata": {
        "id": "2eaNnLFHjM5k"
      },
      "execution_count": null,
      "outputs": []
    },
    {
      "cell_type": "markdown",
      "source": [
        "#### 사칙연산\n"
      ],
      "metadata": {
        "id": "S84TUpaEgOcH"
      }
    },
    {
      "cell_type": "markdown",
      "source": [
        "\n",
        "- 여러가지 연산자 중에서 먼저 사칙연산 연산자인 더하기, 빼기, 곱하기, 나누기를 하는 방법 부터 알아 보겠습니다. 곱하기, 나누기 기호를 눈여겨 봐주셔요.\n",
        "\n",
        "\n",
        "print(1+2)\n",
        "print(3-1)\n",
        "\n",
        "곱하기는 × 가 키보드에 없습니다. 그래서 '*' 을 사용합니다. 나누기 ÷ 도 키보드에 없습니다. 그래서 '/' 을 사용합니다\n",
        "\n",
        "print(3*9)\n",
        "print(27/2)\n",
        "\n"
      ],
      "metadata": {
        "id": "m9BKR9k5kr3j"
      }
    },
    {
      "cell_type": "markdown",
      "source": [
        "\n",
        "\n",
        "자, 이제 변수명을 이용해서 더하기 빼기를 하는 방법을 배워보겠습니다.\n",
        "\n",
        "```python\n",
        "a = 100\n",
        "b = 10.1\n",
        "c = a+b\n",
        "\n",
        "print(c)\n",
        "110.1\n",
        "```\n"
      ],
      "metadata": {
        "id": "sUOakdBOk-OL"
      }
    },
    {
      "cell_type": "markdown",
      "source": [
        "#### // (몫 연산자)"
      ],
      "metadata": {
        "id": "bB4PrYMzgM5_"
      }
    },
    {
      "cell_type": "markdown",
      "source": [
        "몫을 돌려줍니다. 이게 언제 쓰일까 쉽지만, 종종 사용합니다. 아래에서 10 나누기 3을 해서 몫만 구하는 방법을 표시해 놓았습니다.\n"
      ],
      "metadata": {
        "id": "WKz4tRyflUTG"
      }
    },
    {
      "cell_type": "code",
      "source": [
        "10//3"
      ],
      "metadata": {
        "colab": {
          "base_uri": "https://localhost:8080/"
        },
        "id": "Wgp1BD6OkIbm",
        "outputId": "3e89d897-b78c-417d-948b-ee4684b86c85"
      },
      "execution_count": null,
      "outputs": [
        {
          "output_type": "execute_result",
          "data": {
            "text/plain": [
              "3"
            ]
          },
          "metadata": {},
          "execution_count": 26
        }
      ]
    },
    {
      "cell_type": "code",
      "source": [
        "# 실수 나누면 실수로 리턴해 줌\n",
        "\n",
        "10.1//3"
      ],
      "metadata": {
        "colab": {
          "base_uri": "https://localhost:8080/"
        },
        "id": "vl52NoYMlOd8",
        "outputId": "d8e66fa2-636b-4894-d7ae-415c49906130"
      },
      "execution_count": null,
      "outputs": [
        {
          "output_type": "execute_result",
          "data": {
            "text/plain": [
              "3.0"
            ]
          },
          "metadata": {},
          "execution_count": 25
        }
      ]
    },
    {
      "cell_type": "code",
      "source": [],
      "metadata": {
        "id": "ssslSkuRlTps"
      },
      "execution_count": null,
      "outputs": []
    },
    {
      "cell_type": "markdown",
      "source": [
        "#### % (**나머지 연산자**)\n"
      ],
      "metadata": {
        "id": "RmQJSdhpgL7e"
      }
    },
    {
      "cell_type": "markdown",
      "source": [
        "- 나머지 연산자인 퍼센트 기호도 언제 사용하나 싶겠지만, 이게 종종 사용합니다. 이런 것이 있구나 하고 익혀 둡시다.\n",
        "- (외) **퍼나**르다 --> 퍼센트는 나머지 연산자"
      ],
      "metadata": {
        "id": "0fsOt0u4kHlO"
      }
    },
    {
      "cell_type": "code",
      "source": [
        "10%3 # 나머지를 구합니다."
      ],
      "metadata": {
        "colab": {
          "base_uri": "https://localhost:8080/"
        },
        "id": "Y2bS_77LljKj",
        "outputId": "3b0618c7-5230-4c41-ab9d-0eb7d1b9a191"
      },
      "execution_count": null,
      "outputs": [
        {
          "output_type": "execute_result",
          "data": {
            "text/plain": [
              "1"
            ]
          },
          "metadata": {},
          "execution_count": 4
        }
      ]
    },
    {
      "cell_type": "code",
      "source": [
        "11%3"
      ],
      "metadata": {
        "colab": {
          "base_uri": "https://localhost:8080/"
        },
        "id": "r3pnhuWflkV7",
        "outputId": "47b05b5e-ea12-4f6f-db80-ce03a58f7732"
      },
      "execution_count": null,
      "outputs": [
        {
          "output_type": "execute_result",
          "data": {
            "text/plain": [
              "2"
            ]
          },
          "metadata": {},
          "execution_count": 30
        }
      ]
    },
    {
      "cell_type": "code",
      "source": [
        "11.1%3"
      ],
      "metadata": {
        "colab": {
          "base_uri": "https://localhost:8080/"
        },
        "id": "8WimGn_Dlk-y",
        "outputId": "78ec4339-b29e-40e0-ebd0-f2ae0f41671b"
      },
      "execution_count": null,
      "outputs": [
        {
          "output_type": "execute_result",
          "data": {
            "text/plain": [
              "2.0999999999999996"
            ]
          },
          "metadata": {},
          "execution_count": 31
        }
      ]
    },
    {
      "cell_type": "code",
      "source": [
        "\n"
      ],
      "metadata": {
        "id": "rlFeEPxdllmS"
      },
      "execution_count": null,
      "outputs": []
    },
    {
      "cell_type": "markdown",
      "source": [
        "#### **(지수 연산자)\n"
      ],
      "metadata": {
        "id": "aJ1s9P81gLB4"
      }
    },
    {
      "cell_type": "markdown",
      "source": [
        "\n",
        "- ** 연산자는 지수 값을 구해 줍니다.\n",
        "\n",
        "```python\n",
        "2**3\n",
        "\n",
        "2.1**2\n",
        "```\n"
      ],
      "metadata": {
        "id": "rVzdcIxSkGqm"
      }
    },
    {
      "cell_type": "code",
      "source": [
        "2**3"
      ],
      "metadata": {
        "colab": {
          "base_uri": "https://localhost:8080/"
        },
        "id": "m-tFWl2pl0sC",
        "outputId": "e810625e-a635-46f6-fb3b-a0085109f204"
      },
      "execution_count": null,
      "outputs": [
        {
          "output_type": "execute_result",
          "data": {
            "text/plain": [
              "8"
            ]
          },
          "metadata": {},
          "execution_count": 34
        }
      ]
    },
    {
      "cell_type": "code",
      "source": [
        "# 참고\n",
        "pow(2,3)"
      ],
      "metadata": {
        "colab": {
          "base_uri": "https://localhost:8080/"
        },
        "id": "b1z--iJWl7KS",
        "outputId": "df4c0d44-d434-4140-f252-cb6419723257"
      },
      "execution_count": null,
      "outputs": [
        {
          "output_type": "execute_result",
          "data": {
            "text/plain": [
              "8"
            ]
          },
          "metadata": {},
          "execution_count": 37
        }
      ]
    },
    {
      "cell_type": "code",
      "source": [
        "import numpy as np\n",
        "np.power(2,3)"
      ],
      "metadata": {
        "colab": {
          "base_uri": "https://localhost:8080/"
        },
        "id": "yVIP0vkvl2zr",
        "outputId": "58501642-d7bf-43f7-a866-0701780eac44"
      },
      "execution_count": null,
      "outputs": [
        {
          "output_type": "execute_result",
          "data": {
            "text/plain": [
              "8"
            ]
          },
          "metadata": {},
          "execution_count": 35
        }
      ]
    },
    {
      "cell_type": "markdown",
      "source": [
        "#### +=, -=, *= (복합 할당 연산자)\n"
      ],
      "metadata": {
        "id": "xe4HTPxqgJtT"
      }
    },
    {
      "cell_type": "markdown",
      "source": [
        "\n",
        "- x += y 는  x = x + y 를 나타냅니다.\n",
        "아래 예를 보면 이해가 될 것입니다.\n",
        "처음에는 낯설지만, 나중에는 이런 표기법이 편해지게 됩니다.\n",
        "\n",
        "```python\n",
        "a = 100\n",
        "a = a + 200\n",
        "print(a)\n",
        "```\n",
        "\n",
        "위의 예와 아래는 같은 결과를 보이고 있다.\n",
        "```python\n",
        "a  = 100\n",
        "a += 200\n",
        "print(a)\n",
        "```\n",
        "\n",
        "아래는 -= 연산자의 예이다.\n",
        "```python\n",
        "a = 10\n",
        "a -= 20\n",
        "print(a)\n",
        "```\n",
        "\n",
        "아래는 *= 연산자의 예이다.\n",
        "```python\n",
        "a = 10\n",
        "a *= 20\n",
        "print(a)\n",
        "```"
      ],
      "metadata": {
        "id": "q4K_HUzDkFDG"
      }
    },
    {
      "cell_type": "code",
      "source": [
        "a = 10\n",
        "a *= 20\n",
        "print(a)"
      ],
      "metadata": {
        "colab": {
          "base_uri": "https://localhost:8080/"
        },
        "id": "wUBYyqhHsnKS",
        "outputId": "a4b76b49-39b0-445f-845b-e037f0f45f72"
      },
      "execution_count": null,
      "outputs": [
        {
          "output_type": "stream",
          "name": "stdout",
          "text": [
            "200\n"
          ]
        }
      ]
    },
    {
      "cell_type": "markdown",
      "source": [
        "#### == (비교 연산자)\n"
      ],
      "metadata": {
        "id": "VStEy_yMgGmH"
      }
    },
    {
      "cell_type": "markdown",
      "source": [
        "```python\n",
        "x == y 는 x와 y의 값이 같은지를 비교하여 같으면 True, 다르면 False 를 돌려 줍니다.\n",
        "\n",
        "a = 10\n",
        "b = 20\n",
        "c = 10\n",
        "\n",
        "print(a == b)\n",
        "print(a == c)\n",
        "```\n"
      ],
      "metadata": {
        "id": "0LUi3T4MgIn3"
      }
    },
    {
      "cell_type": "markdown",
      "source": [
        "### [주의1] 숫자와 문자의 차이점"
      ],
      "metadata": {
        "id": "s0DTPmkdgHm_"
      }
    },
    {
      "cell_type": "markdown",
      "source": [
        "- 이게 중요합니다. 겉으로 보기에는 숫자로 보여도, 컴퓨터가 인식하는 것은 따옴표 사이에 있는 숫자는 글자로 인식을 합니다.\n",
        "\n",
        "```python\n",
        "print(10)    #<-- 숫자로 인식합니다.\n",
        "10\n",
        "\n",
        "print('10')  #<-- 글자로 인식합니다.\n",
        "10\n",
        "```\n",
        "\n",
        "※ 참고, 엑셀 파일의 경우도, 시트에서 숫자로 보이지만, 왼쪽에 있으면 문자, 오른쪽에 있으면 숫자"
      ],
      "metadata": {
        "id": "0EE2f8wZm9l8"
      }
    },
    {
      "cell_type": "code",
      "source": [
        "# example\n",
        "\n",
        "a = 'abc'\n",
        "b = '123' # 외형상 숫자 같지만, 실제는 문자임\n",
        "\n",
        "print(type(a))\n",
        "print(type(b))\n"
      ],
      "metadata": {
        "colab": {
          "base_uri": "https://localhost:8080/"
        },
        "id": "whFgPU6pkk75",
        "outputId": "3fe9a210-5ee4-4d9c-c058-dac51ef3171f"
      },
      "execution_count": null,
      "outputs": [
        {
          "output_type": "stream",
          "name": "stdout",
          "text": [
            "<class 'str'>\n",
            "<class 'str'>\n"
          ]
        }
      ]
    },
    {
      "cell_type": "markdown",
      "source": [
        "### [주의2] 타입이 다르면 에러 발생"
      ],
      "metadata": {
        "id": "9fkkrh4RoOuC"
      }
    },
    {
      "cell_type": "markdown",
      "source": [
        "\n",
        "- 타입이 다르면, 연산자를 적용할 수 없습니다. 아래와 같이 str과 int 형을 덧셈(+)연산자로 이어주면, 에러가 발생합니다.\n",
        "\n",
        "```python\n",
        "'10' + 10\n",
        "\n",
        "TypeError: can only concatenate str (not \"int\") to str\n",
        "```\n",
        "\n",
        "- '10'+10 에서 '10'의 타입은 str 이며, 10은 int 입니다. 그런데 이렇게 타입이 다른 값에  덧셈(+) 연산자를 적용시키면, 에러가 발생합니다.\n",
        "\n",
        "- 정수, 실수 타입은 같이 사용 가능하지만, 문자와 숫자는 같이 사용할 수 없습니다.\n",
        "\n"
      ],
      "metadata": {
        "id": "ypC002RKn3KH"
      }
    },
    {
      "cell_type": "code",
      "source": [],
      "metadata": {
        "id": "JYciYzGxnG3u"
      },
      "execution_count": null,
      "outputs": []
    },
    {
      "cell_type": "markdown",
      "source": [
        "## [Example]"
      ],
      "metadata": {
        "id": "ut0Yv78odCFA"
      }
    },
    {
      "cell_type": "code",
      "source": [
        "7//2"
      ],
      "metadata": {
        "id": "yuyhoXz0pEgF",
        "colab": {
          "base_uri": "https://localhost:8080/"
        },
        "outputId": "5bd0d4e3-3c9f-4d4e-fdc8-3ebf1f854d90"
      },
      "execution_count": null,
      "outputs": [
        {
          "output_type": "execute_result",
          "data": {
            "text/plain": [
              "3"
            ]
          },
          "metadata": {},
          "execution_count": 15
        }
      ]
    },
    {
      "cell_type": "code",
      "source": [
        "7%2"
      ],
      "metadata": {
        "colab": {
          "base_uri": "https://localhost:8080/"
        },
        "id": "w7p5U_POsMLl",
        "outputId": "a80b5a7a-ed70-4a05-eda3-5bc37a472980"
      },
      "execution_count": null,
      "outputs": [
        {
          "output_type": "execute_result",
          "data": {
            "text/plain": [
              "1"
            ]
          },
          "metadata": {},
          "execution_count": 59
        }
      ]
    },
    {
      "cell_type": "code",
      "source": [
        "7**2"
      ],
      "metadata": {
        "colab": {
          "base_uri": "https://localhost:8080/"
        },
        "id": "AnvrKSnasKMV",
        "outputId": "684acd3f-3b6c-40a8-c100-5f4e015bc86e"
      },
      "execution_count": null,
      "outputs": [
        {
          "output_type": "execute_result",
          "data": {
            "text/plain": [
              "49"
            ]
          },
          "metadata": {},
          "execution_count": 56
        }
      ]
    },
    {
      "cell_type": "code",
      "source": [
        "1 == 1"
      ],
      "metadata": {
        "id": "sba5EUcVsJQc"
      },
      "execution_count": null,
      "outputs": []
    },
    {
      "cell_type": "code",
      "source": [
        "a = 100\n",
        "a += 200 # a = a+200\n",
        "print(a)"
      ],
      "metadata": {
        "colab": {
          "base_uri": "https://localhost:8080/"
        },
        "id": "0atLPulcsGcM",
        "outputId": "329c9b6a-02d2-4ae7-ab93-8973f05e168f"
      },
      "execution_count": null,
      "outputs": [
        {
          "output_type": "stream",
          "name": "stdout",
          "text": [
            "300\n"
          ]
        }
      ]
    },
    {
      "cell_type": "code",
      "source": [
        "a = 10\n",
        "a *= 3\n",
        "print(a)"
      ],
      "metadata": {
        "colab": {
          "base_uri": "https://localhost:8080/"
        },
        "id": "zO4XGiJdsD3b",
        "outputId": "a6e31a39-f3ed-4a08-ccb5-330774094d93"
      },
      "execution_count": null,
      "outputs": [
        {
          "output_type": "stream",
          "name": "stdout",
          "text": [
            "30\n"
          ]
        }
      ]
    },
    {
      "cell_type": "code",
      "source": [
        "print('100' + '9')\n",
        "print(100 + 9 )\n",
        "\n",
        "type('100'+'9')\n",
        "\n",
        "type(100+9)\n",
        "\n"
      ],
      "metadata": {
        "id": "s0P5SjCMdC9u"
      },
      "execution_count": null,
      "outputs": []
    },
    {
      "cell_type": "markdown",
      "source": [],
      "metadata": {
        "id": "XArrItcjnqCH"
      }
    },
    {
      "cell_type": "code",
      "source": [
        "\n"
      ],
      "metadata": {
        "id": "NeetzBWmgBuO"
      },
      "execution_count": null,
      "outputs": []
    },
    {
      "cell_type": "markdown",
      "source": [
        "## [Quiz]"
      ],
      "metadata": {
        "id": "YHFXxkYSc-EO"
      }
    },
    {
      "cell_type": "markdown",
      "source": [
        "```python\n",
        "[Q] 파이썬 명령창에서 다음을 계산하고 결과값을 제시 해보세요\n",
        "\n",
        "① 22 × 10\n",
        "② 33 ÷ 20\n",
        "```"
      ],
      "metadata": {
        "id": "OGhEEOiXpKhT"
      }
    },
    {
      "cell_type": "markdown",
      "source": [
        "```python\n",
        "\n",
        "[Q] 다음을 파이썬 수치 연산자를 사용하여 구하시오\n",
        "\n",
        "① 100을 20으로 나눌 때 나머지는 ?\n",
        "② 100을 20으로 나눌 때 몫은 ?\n",
        "```"
      ],
      "metadata": {
        "id": "r_5ZWTTLp8pm"
      }
    },
    {
      "cell_type": "markdown",
      "source": [
        "```python\n",
        "[Q] 다음 결과는 ?\n",
        "\n",
        "type(1000+9)\n",
        "\n",
        "①int ② str ③ list\n",
        "```"
      ],
      "metadata": {
        "id": "dNOFrPmcc_Xn"
      }
    },
    {
      "cell_type": "markdown",
      "source": [
        "```python\n",
        "[Q] 다음 결과는 ?\n",
        "\n",
        "type('100'+'9')\n",
        "\n",
        "①int ② str ③ list\n",
        "\n",
        "```\n"
      ],
      "metadata": {
        "id": "MFrVUx7yqB2y"
      }
    },
    {
      "cell_type": "markdown",
      "source": [
        "\n",
        "```python\n",
        "[Q] 다음의  결과를 맞춰 보셔요.\n",
        "\n",
        "a = 100\n",
        "b = 'km'\n",
        "c = 1.\n",
        "\n",
        "print(a, b, c)\n",
        "\n",
        "① 100, km, 1.0\n",
        "② 100 km 1\n",
        "③ 100 km 1.0\n",
        "```\n"
      ],
      "metadata": {
        "id": "6cSnrSvgqE0v"
      }
    },
    {
      "cell_type": "markdown",
      "source": [
        "```python\n",
        "[Q] 다음 결과는 무엇일까요 ?(형일치)\n",
        "\n",
        "10 + '1'  \n",
        "\n",
        "① 11,\n",
        "② 에러가 발생한다\n",
        "③ 10\n",
        "```\n",
        "\n"
      ],
      "metadata": {
        "id": "QTXNCxJZpfcG"
      }
    },
    {
      "cell_type": "markdown",
      "source": [
        "<hr>"
      ],
      "metadata": {
        "id": "FWyZ7hj8rcTL"
      }
    },
    {
      "cell_type": "code",
      "source": [
        "100%20"
      ],
      "metadata": {
        "colab": {
          "base_uri": "https://localhost:8080/"
        },
        "id": "a4i97KPoq5EJ",
        "outputId": "07ae4bc4-88f7-4b5a-fd76-4a46f00c52f0"
      },
      "execution_count": null,
      "outputs": [
        {
          "output_type": "execute_result",
          "data": {
            "text/plain": [
              "0"
            ]
          },
          "metadata": {},
          "execution_count": 51
        }
      ]
    },
    {
      "cell_type": "code",
      "source": [
        "100//20"
      ],
      "metadata": {
        "colab": {
          "base_uri": "https://localhost:8080/"
        },
        "id": "dyqgUM89q_QC",
        "outputId": "25e1e0f4-9059-4a9d-9ceb-67790d64920e"
      },
      "execution_count": null,
      "outputs": [
        {
          "output_type": "execute_result",
          "data": {
            "text/plain": [
              "5"
            ]
          },
          "metadata": {},
          "execution_count": 52
        }
      ]
    },
    {
      "cell_type": "code",
      "source": [
        "# sol\n",
        "print(22*10)\n",
        "print(33/20)"
      ],
      "metadata": {
        "colab": {
          "base_uri": "https://localhost:8080/"
        },
        "id": "MLYjNnd4pSpM",
        "outputId": "8da44c60-cd7e-49df-9df1-64d0147193db"
      },
      "execution_count": null,
      "outputs": [
        {
          "output_type": "stream",
          "name": "stdout",
          "text": [
            "220\n",
            "1.65\n"
          ]
        }
      ]
    },
    {
      "cell_type": "code",
      "source": [
        "# sol\n",
        "a = 100\n",
        "b = 'km'\n",
        "c = 1.\n",
        "\n",
        "print(a, b, c)"
      ],
      "metadata": {
        "id": "uHnKnjXPplT3",
        "colab": {
          "base_uri": "https://localhost:8080/"
        },
        "outputId": "b33486c9-c354-4442-dcc2-3efaf559d48d"
      },
      "execution_count": null,
      "outputs": [
        {
          "output_type": "stream",
          "name": "stdout",
          "text": [
            "100 km 1.0\n"
          ]
        }
      ]
    },
    {
      "cell_type": "code",
      "source": [
        "# 10 + '1'"
      ],
      "metadata": {
        "id": "qM_ef5AWp4vk"
      },
      "execution_count": null,
      "outputs": []
    },
    {
      "cell_type": "markdown",
      "source": [
        "# 제3절 리스트(list)"
      ],
      "metadata": {
        "id": "KC4YFupRWlmI"
      }
    },
    {
      "cell_type": "markdown",
      "source": [
        "## [설명]"
      ],
      "metadata": {
        "id": "p7wge4zzW5Mi"
      }
    },
    {
      "cell_type": "markdown",
      "source": [
        "### (1) 여러 개 데이터 저장"
      ],
      "metadata": {
        "id": "gWuC4dLtXMk-"
      }
    },
    {
      "cell_type": "markdown",
      "source": [
        "- 리스트는 여러 개의 데이터를 저장할 수 있습니다.\n",
        "\n",
        "```python\n",
        "a = [1,2,3]\n",
        "```\n",
        "\n",
        "- 데이터 타입이 달라도 저장할 수 있습니다. 숫자, 문자 등등 다 들어 갈 수 있습니다.\n",
        "\n",
        "```python\n",
        "a = ['apple','banana',20]\n",
        "```\n",
        "\n",
        "- 심지어 리스트 안에 리스트도 넣을 수 있습니다.\n",
        "\n",
        "```python\n",
        "a = [ 'apple', 'banana', 10,20,['grape',1,2]]\n",
        "```\n",
        "\n"
      ],
      "metadata": {
        "id": "SX8Wd_lgXCv8"
      }
    },
    {
      "cell_type": "code",
      "source": [],
      "metadata": {
        "id": "THsS-l62W66B"
      },
      "execution_count": null,
      "outputs": []
    },
    {
      "cell_type": "markdown",
      "source": [
        "### (2) 형 확인\n"
      ],
      "metadata": {
        "id": "kolXdpfYvhuS"
      }
    },
    {
      "cell_type": "markdown",
      "source": [
        "- 리스트를 하나 만들어 type() 함수에 넣어 봅시다. 뭐가 보이나요 ?\n"
      ],
      "metadata": {
        "id": "u8ArTqV0S-wo"
      }
    },
    {
      "cell_type": "code",
      "source": [
        "a = [100,200,300,50]\n",
        "type(a)"
      ],
      "metadata": {
        "id": "dZP-EXEHZcKK",
        "colab": {
          "base_uri": "https://localhost:8080/"
        },
        "outputId": "125d839a-7530-45ca-8388-7f71a7afe376"
      },
      "execution_count": null,
      "outputs": [
        {
          "output_type": "execute_result",
          "data": {
            "text/plain": [
              "list"
            ]
          },
          "metadata": {},
          "execution_count": 28
        }
      ]
    },
    {
      "cell_type": "markdown",
      "source": [
        "- 뭐가 보이나요 ? 'list' 라고 적힌 것을 보셨나요. 그럼 이 데이타의 타입을 뭐라고 부를까요 ? 네, 리스트(list)라고 부릅니다. 즉 리스트는 여러 개의 값을 저장할 수 있는 데이터 구조입니다."
      ],
      "metadata": {
        "id": "JtZfPJvJZmra"
      }
    },
    {
      "cell_type": "markdown",
      "source": [],
      "metadata": {
        "id": "gRVQxCmGZSUs"
      }
    },
    {
      "cell_type": "markdown",
      "source": [
        "### (3) 인덱싱(집찾아가기)"
      ],
      "metadata": {
        "id": "je3nq8klXtmf"
      }
    },
    {
      "cell_type": "markdown",
      "source": [
        "#### 1) 위치번호는 0 부터 시작"
      ],
      "metadata": {
        "id": "xJIEgYUlUS7C"
      }
    },
    {
      "cell_type": "markdown",
      "source": [
        "\n",
        "\n",
        "- 이때 번호는 **0 부터 시작** 합니다. (1부터 시작이 아님)\n",
        "- 그리고 리스트를 나타내는 기호는 **직각 브라킷** \\[ \\] 입니다.\n",
        "\n",
        "\n"
      ],
      "metadata": {
        "id": "CKZ2wKWsXk3w"
      }
    },
    {
      "cell_type": "markdown",
      "source": [
        "```python\n",
        "# ex1\n",
        "\n",
        "a = [100,200,300]\n",
        "\n",
        "print(a[0])\n",
        "print(a[1])\n",
        "print(a[2])\n",
        "\n",
        "100\n",
        "200\n",
        "300\n",
        "```\n",
        "\n"
      ],
      "metadata": {
        "id": "0TbuZnLgU5wJ"
      }
    },
    {
      "cell_type": "markdown",
      "source": [
        "#### 2) 다중 리스트"
      ],
      "metadata": {
        "id": "DwUkumKhVwh1"
      }
    },
    {
      "cell_type": "markdown",
      "source": [
        "- 리스트안의 리스트에 접근하는 방법은 [ ] [ ] 를 사용합니다."
      ],
      "metadata": {
        "id": "T0QLEvn3V8H2"
      }
    },
    {
      "cell_type": "markdown",
      "source": [
        "```python\n",
        "a = [ ['Hong','Park','Sohn'],['Go','Lee','Kim']]\n",
        "\n",
        "print(a[0])    \n",
        "print(a[0][0])\n",
        "```\n"
      ],
      "metadata": {
        "id": "h8PQ54CUU3HV"
      }
    },
    {
      "cell_type": "markdown",
      "source": [
        "#### 3) 제일 마지막은 -1\n"
      ],
      "metadata": {
        "id": "pI74WBqfv-71"
      }
    },
    {
      "cell_type": "markdown",
      "source": [
        "\n",
        "- -1은 제일 끝을 의미합니다.\n",
        "\n",
        "```python\n",
        "a = [100,200,300,500,400] 이 있다고 합시다.\n",
        "\n",
        "이때  a[4]라고 해도 됩니다.  그런데 아래의 리스트 a에서 제일 마지막 값을 어떻게 불러올까요.\n",
        "\n",
        "a = [1,3,1,1,3,111,333,1113,3333,55555,1111,881,200,100,10]\n",
        "\n",
        "```\n",
        "\n",
        "- a안에 몇 개 있는지를 하나하나 세어서 그 갯수에서 1을 빼 주면 마지막 집에 들어있는 값을 구할 수 있습니다. 그런데 이런 방법은 시간이 많이 소요되고, 좀 헷갈립니다. 그래서 \"뒤에서 부터 세어 주셔요\" 라고 파이썬에게 명령을 내리고 싶습니다. 이럴 때 -1을 사용하면 됩니다.\n",
        "\n",
        "```python\n",
        "print(a[-1]) ---> 10\n",
        "print(a[-2]) ---> 100\n",
        "print(a[-3]) ---> 200\n",
        "```\n",
        "\n",
        "- -2는 -1보다 1 더 앞에 있는 것입니다.\n",
        "- -3은 -2보다 1 더 앞에 있는 것입니다.\n",
        "\n",
        "- [Example] 제일 마지막 요소를 알아내는 방법\n",
        "\n",
        "```python\n",
        "a = [1,3,1,1,3,111,333,1113,3333,55555,1111,881,200,100,10]\n",
        "\n",
        "print(a[-1]) #---> 10\n",
        "print(a[-2]) #---> 100\n",
        "print(a[-3]) #---> 200\n",
        "```\n"
      ],
      "metadata": {
        "id": "V9MpVTTwjmAs"
      }
    },
    {
      "cell_type": "markdown",
      "source": [
        "#### 4) 리스트 주소번호를 벗어난 주소값을 입력하면 ? (인덱스 에러가 발생합니다)\n"
      ],
      "metadata": {
        "id": "uc0kknzowN1o"
      }
    },
    {
      "cell_type": "markdown",
      "source": [
        "```python\n",
        "a = [1,2,3,10]\n",
        "\n",
        "print(a[100])\n",
        "\n",
        "ndexError: list index out of range\n",
        "```\n",
        "\n",
        "- 위의 a 리스트의 개수는 4개이다. 그래서 a[0],a[1],a[2],a[3]만 가능한다. 그런데 a[100]과 같이 인덱스가 벗어나면, 인덱스가 범위 밖에 있다는 에러 메시지가 등장한다.\n",
        "IndexError: list index out of range"
      ],
      "metadata": {
        "id": "B0U98oYGj8i2"
      }
    },
    {
      "cell_type": "code",
      "source": [
        "# Example\n",
        "\n",
        "a = [1,2,3,10]\n",
        "\n",
        "#print(a[100])"
      ],
      "metadata": {
        "id": "V1gkKoPfkiYr"
      },
      "execution_count": null,
      "outputs": []
    },
    {
      "cell_type": "code",
      "source": [],
      "metadata": {
        "id": "4XItVRmhW64R"
      },
      "execution_count": null,
      "outputs": []
    },
    {
      "cell_type": "markdown",
      "source": [
        "#### [Quiz] 인덱싱\n"
      ],
      "metadata": {
        "id": "hdVQCdLKhB-O"
      }
    },
    {
      "cell_type": "code",
      "source": [
        "# Quiz\n",
        "\n",
        "a = ['a','b','c', 2222, 0 , 100]\n",
        "\n",
        "print(a[-1] * 100)"
      ],
      "metadata": {
        "colab": {
          "base_uri": "https://localhost:8080/"
        },
        "id": "5v1c22gOiB4V",
        "outputId": "88d4c7f3-c335-4d78-a878-a0b58d4f29cc"
      },
      "execution_count": null,
      "outputs": [
        {
          "output_type": "stream",
          "name": "stdout",
          "text": [
            "10000\n"
          ]
        }
      ]
    },
    {
      "cell_type": "code",
      "source": [
        "# Quiz\n",
        "\n",
        "a = ['a','b','c', 2222, 0 , 100]\n",
        "\n",
        "print(a[-2] * 100)"
      ],
      "metadata": {
        "id": "gwkIPpwKhZwc",
        "colab": {
          "base_uri": "https://localhost:8080/"
        },
        "outputId": "db61274d-7843-4f54-9e5e-33187a60d658"
      },
      "execution_count": null,
      "outputs": [
        {
          "output_type": "stream",
          "name": "stdout",
          "text": [
            "0\n"
          ]
        }
      ]
    },
    {
      "cell_type": "code",
      "source": [
        "# Quiz 다음 결과는 ?\n",
        "\n",
        "a=['apple']\n",
        "\n",
        "print(a[0])\n",
        "print(a[-1])\n",
        "\n",
        "print(a[0] == a[-1])"
      ],
      "metadata": {
        "colab": {
          "base_uri": "https://localhost:8080/"
        },
        "id": "K-6Koq99iUCf",
        "outputId": "c9b31b59-7553-49bc-b874-704dfb6da29b"
      },
      "execution_count": null,
      "outputs": [
        {
          "output_type": "stream",
          "name": "stdout",
          "text": [
            "apple\n",
            "apple\n",
            "True\n"
          ]
        }
      ]
    },
    {
      "cell_type": "code",
      "source": [
        "# Q1 다음 값은 얼마입니까 ?\n",
        "\n",
        "a = [1,2,3,4,5]\n",
        "\n",
        "print(a[0])\n",
        "print(a[4])\n"
      ],
      "metadata": {
        "id": "HJhs00rVe5FO",
        "colab": {
          "base_uri": "https://localhost:8080/"
        },
        "outputId": "6ba24c5d-c64b-4016-c0c9-ad9c3f2d9806"
      },
      "execution_count": null,
      "outputs": [
        {
          "output_type": "stream",
          "name": "stdout",
          "text": [
            "1\n",
            "5\n"
          ]
        }
      ]
    },
    {
      "cell_type": "code",
      "source": [
        "# Q2\n",
        "\n",
        "a = [['apple','banana'],'grape','orange']\n",
        "\n",
        "print(a[0][1])\n"
      ],
      "metadata": {
        "colab": {
          "base_uri": "https://localhost:8080/"
        },
        "id": "_9GgnXFogjmv",
        "outputId": "43692337-8f0e-4208-d1ed-718798476480"
      },
      "execution_count": null,
      "outputs": [
        {
          "output_type": "stream",
          "name": "stdout",
          "text": [
            "banana\n"
          ]
        }
      ]
    },
    {
      "cell_type": "code",
      "source": [
        "# Q3 아래에 대해 답해 보셔요.\n",
        "\n",
        "a = [1,2,3]\n",
        "\n",
        "b = a[0] + a[2]\n",
        "\n",
        "print(b)"
      ],
      "metadata": {
        "id": "xMvjyLiSYhox",
        "colab": {
          "base_uri": "https://localhost:8080/"
        },
        "outputId": "2cf4eeac-b407-43f7-b279-23fe71735b73"
      },
      "execution_count": null,
      "outputs": [
        {
          "output_type": "stream",
          "name": "stdout",
          "text": [
            "4\n"
          ]
        }
      ]
    },
    {
      "cell_type": "code",
      "source": [
        "# Q3 아래에 대해 답해 보셔요\n",
        "\n",
        "a = [[1,2,3],[2,3,4]]\n",
        "print(a[1][0])\n",
        "\n"
      ],
      "metadata": {
        "id": "mbLWmZFgY5ns",
        "colab": {
          "base_uri": "https://localhost:8080/"
        },
        "outputId": "d72b591d-98f9-4550-fbc2-029d039f1129"
      },
      "execution_count": null,
      "outputs": [
        {
          "output_type": "stream",
          "name": "stdout",
          "text": [
            "2\n"
          ]
        }
      ]
    },
    {
      "cell_type": "code",
      "source": [
        "# Q 아래에 대해 답해 보셔요\n",
        "\n",
        "a = [[1,2],[2,3,4]]\n",
        "print(a[0])"
      ],
      "metadata": {
        "colab": {
          "base_uri": "https://localhost:8080/"
        },
        "id": "7-B6de86aKgW",
        "outputId": "db500f28-eab8-4710-c4e4-59effbef6236"
      },
      "execution_count": null,
      "outputs": [
        {
          "output_type": "stream",
          "name": "stdout",
          "text": [
            "[1, 2]\n"
          ]
        }
      ]
    },
    {
      "cell_type": "code",
      "source": [
        "# Q 아래에 대해 답해 보셔요\n",
        "\n",
        "a = [[1,2],[2,3,4]]\n",
        "print(a[1])"
      ],
      "metadata": {
        "colab": {
          "base_uri": "https://localhost:8080/"
        },
        "id": "YC4gWKT2aVX6",
        "outputId": "4cf854c1-d85c-4824-83b2-bff5dcac8544"
      },
      "execution_count": null,
      "outputs": [
        {
          "output_type": "stream",
          "name": "stdout",
          "text": [
            "[2, 3, 4]\n"
          ]
        }
      ]
    },
    {
      "cell_type": "markdown",
      "source": [
        "### (4) 슬라이싱 (잘라내기 slicing)"
      ],
      "metadata": {
        "id": "nro3hycKSf0p"
      }
    },
    {
      "cell_type": "markdown",
      "source": [
        "> 방법 : 리스트이름[ start : end ]\n",
        "\n",
        "- 시작위치에서 최종위치 이전까지(start<= <end)\n",
        "\n",
        "```python\n",
        "a=[1,2,3,4,5]\n",
        "print(a[1:2])\n",
        "\n",
        "a[1] 부터 a[2] 이전까지, 즉 [2] 를 추출한다.\n",
        "\n",
        "a=[1,2,3,4,5]\n",
        "print(a[:2])\n",
        "\n",
        "처음 시작 위치를 지정하지 않으면, 0 부터 시작한다.\n",
        "a[:2]는 a[0] 부터 a[2] 이전까지 , 즉 [1,2] 이다.\n",
        "\n"
      ],
      "metadata": {
        "id": "Y-j74BLkiolz"
      }
    },
    {
      "cell_type": "code",
      "source": [
        "# Example\n",
        "\n",
        "a=[1,2,3,4,5]\n",
        "\n",
        "print(a[1:2])\n",
        "print(a[1:4])"
      ],
      "metadata": {
        "colab": {
          "base_uri": "https://localhost:8080/"
        },
        "id": "5KgnTtmrjHEu",
        "outputId": "a2ff3103-962f-4cda-8cd8-6c4db0e0ee60"
      },
      "execution_count": null,
      "outputs": [
        {
          "output_type": "stream",
          "name": "stdout",
          "text": [
            "[2]\n",
            "[2, 3, 4]\n"
          ]
        }
      ]
    },
    {
      "cell_type": "markdown",
      "source": [
        "#### [Quiz] 슬라이싱"
      ],
      "metadata": {
        "id": "YP0GSXXqjLTN"
      }
    },
    {
      "cell_type": "markdown",
      "source": [
        "```python\n",
        "[Quiz] 아래의 결과는 ?\n",
        "\n",
        "a=[1,2,3,4,5]\n",
        "print(a[:-1])\n",
        "\n",
        "\n",
        "① [1,2,3,4]\n",
        "② [1,2,3,4,5]\n",
        "③ [2,3,4,5]\n",
        "```"
      ],
      "metadata": {
        "id": "HA8sIgMYSkc1"
      }
    },
    {
      "cell_type": "markdown",
      "source": [
        "### (5) 리스트의 크기\n"
      ],
      "metadata": {
        "id": "-Ur8Xu-pbKhC"
      }
    },
    {
      "cell_type": "markdown",
      "source": [
        "\n",
        "- 그런데 이 리스트 a 안에 요소들이 몇 개 들어 있나요 ?\n",
        "\n",
        "```python\n",
        "a = ['a','b','bbb']\n",
        "```\n"
      ],
      "metadata": {
        "id": "Yoq1L2bb8t6N"
      }
    },
    {
      "cell_type": "markdown",
      "source": [
        "- 대충 눈으로 확인하면 a 리스트의 요소는 3개라는 것을 쉽게 알 수 있습니다.\n",
        "- 그런데 아래 리스트에는 몇 개 요소가 있을까요 ?"
      ],
      "metadata": {
        "id": "rABc2BgAcmAQ"
      }
    },
    {
      "cell_type": "markdown",
      "source": [
        "\n",
        "\n",
        "\n",
        "```python\n",
        "a = ['a','b','bbb','dddd',1,3,1,1111,333,2222,11]\n",
        "```\n",
        "\n"
      ],
      "metadata": {
        "id": "1vA9wLDAcldJ"
      }
    },
    {
      "cell_type": "markdown",
      "source": [
        "- 눈이 헷갈리 수 있습니다. 그래서 이럴때 요소개수를 쉽게 찾아주는 함수를 아래에 소개합니다."
      ],
      "metadata": {
        "id": "VaeDgOaQbcQd"
      }
    },
    {
      "cell_type": "markdown",
      "source": [
        "#### 1) len() 함수 소개"
      ],
      "metadata": {
        "id": "KP2R6R-Cvj7C"
      }
    },
    {
      "cell_type": "markdown",
      "source": [
        "> len() 함수는 리스트 내에 몇 개의 요소가 들어 있는지를 알려줍니다.\n",
        "\n",
        "- len(변수명) 이렇게 적어주셔요.\n",
        "- 그러면 변수안에 담긴 요소드의 갯수를 알 수 있습니다.\n",
        "\n",
        "```python\n",
        "a = [1,2,3,'abc']\n",
        "len(a)\n",
        "```"
      ],
      "metadata": {
        "id": "PL9TUSn_TDWj"
      }
    },
    {
      "cell_type": "code",
      "source": [
        "# example\n",
        "\n",
        "a = [1,2,3,'abc']\n",
        "print(len(a))\n",
        "\n",
        "a = ['a','b','bbb','dddd',1,3,1,1111,333,2222,11]\n",
        "print(len(a))"
      ],
      "metadata": {
        "colab": {
          "base_uri": "https://localhost:8080/"
        },
        "id": "nY64Y0EabloQ",
        "outputId": "7663358d-2e2e-4bc0-97ee-fc76229213c7"
      },
      "execution_count": null,
      "outputs": [
        {
          "output_type": "stream",
          "name": "stdout",
          "text": [
            "4\n",
            "11\n"
          ]
        }
      ]
    },
    {
      "cell_type": "markdown",
      "source": [
        "#### 2) 공백도 요소로 취급, 당연히 크기도 차지"
      ],
      "metadata": {
        "id": "XH4M5erQbP2O"
      }
    },
    {
      "cell_type": "markdown",
      "source": [
        "- 공백도 요소 하나이기에, 아래 b는 1개 요소가 있는 것입니다.\n",
        " 그런데 [] 빈 리스트의 크기가 얼마일까요 ?\n",
        "\n",
        "```python\n",
        "a = []  \n",
        "```\n",
        "\n",
        "- 이것은 빈 리스트입니다. 그래서 크기도 0 입니다.\n"
      ],
      "metadata": {
        "id": "K-GA2Z5bv62N"
      }
    },
    {
      "cell_type": "code",
      "source": [
        "# Example\n",
        "\n",
        "len([])"
      ],
      "metadata": {
        "colab": {
          "base_uri": "https://localhost:8080/"
        },
        "id": "KrtruC9N9SBl",
        "outputId": "0837d4f7-992f-48b9-c6f1-e0c58a0d5b2b"
      },
      "execution_count": null,
      "outputs": [
        {
          "output_type": "execute_result",
          "data": {
            "text/plain": [
              "0"
            ]
          },
          "metadata": {},
          "execution_count": 41
        }
      ]
    },
    {
      "cell_type": "markdown",
      "source": [
        "아래 크기는 얼마일까요 ?"
      ],
      "metadata": {
        "id": "RUVNF1ff9Zwv"
      }
    },
    {
      "cell_type": "markdown",
      "source": [
        "\n",
        "```python\n",
        "b = ['']\n",
        "```\n",
        "이것은 공백 하나를 포함하는 리스트 입니다. 크기는 1입니다."
      ],
      "metadata": {
        "id": "T3YYW1ja9Rdp"
      }
    },
    {
      "cell_type": "code",
      "source": [
        "len([''])"
      ],
      "metadata": {
        "colab": {
          "base_uri": "https://localhost:8080/"
        },
        "id": "XcVUKyWt9e94",
        "outputId": "41f41db1-2dcf-4fb1-9271-38e2ff7b9e8a"
      },
      "execution_count": null,
      "outputs": [
        {
          "output_type": "execute_result",
          "data": {
            "text/plain": [
              "1"
            ]
          },
          "metadata": {},
          "execution_count": 42
        }
      ]
    },
    {
      "cell_type": "markdown",
      "source": [
        "#### [Quiz] 리스트 크기 구하기"
      ],
      "metadata": {
        "id": "ewf2EAPB9pZJ"
      }
    },
    {
      "cell_type": "markdown",
      "source": [
        "```python\n",
        "[Q1] 아래 리스트의 크기는 ?\n",
        "\n",
        "a = []\n",
        "b = ['']\n",
        "c = ['','']\n",
        "\n",
        "\n",
        "print(len(a))\n",
        "print(len(b))\n",
        "print(len(c))\n",
        "\n",
        "① 0 1 2\n",
        "② 0 0 2\n",
        "③ 1 1 2\n",
        "```"
      ],
      "metadata": {
        "id": "bcsANj6GRHAD"
      }
    },
    {
      "cell_type": "markdown",
      "source": [
        "```python\n",
        "[Q] 아래의 답은 ?\n",
        "\n",
        "a = []\n",
        "b = ['']\n",
        "c = ['', ' ']\n",
        "\n",
        "print(len(a) + len(b) + len(c))\n",
        "\n",
        "① 3\n",
        "② 2\n",
        "③ 1\n",
        "\n",
        "```"
      ],
      "metadata": {
        "id": "s3TukZpV-s94"
      }
    },
    {
      "cell_type": "code",
      "source": [
        "# Example\n",
        "\n",
        "# 비어있는 리스트 : 리스트 안의 요소의 갯수를 구하는 것이 len()함수이다.\n",
        "a = []\n",
        "print(len(a))\n",
        "\n",
        "b = ['a','b','c','d','aaa','bbb','dddd',1,3,1,1111,333,2222,11]\n",
        "# 위에서 눈 헷갈리게 했던 b안의 요소들 갯수는 ?\n",
        "print(len(b))\n",
        "\n",
        "\n",
        "# 공백도 문자이기에 개수에 포함됩니다. 그래서 아래는 7개입니다.\n",
        "print(len(' apple '))\n",
        "\n",
        "\n",
        "# 자 이번에는, 문자열의 크기를 살펴 봅시다.\n",
        "a = 'banana'\n",
        "print(len(a))\n",
        "print(len('apple'))\n",
        "\n"
      ],
      "metadata": {
        "id": "UDQCWLlJRK57",
        "colab": {
          "base_uri": "https://localhost:8080/"
        },
        "outputId": "f2a3e062-9dce-4c63-bd11-b04d6830adb1"
      },
      "execution_count": null,
      "outputs": [
        {
          "output_type": "stream",
          "name": "stdout",
          "text": [
            "0\n",
            "14\n",
            "7\n",
            "6\n",
            "5\n"
          ]
        }
      ]
    },
    {
      "cell_type": "markdown",
      "source": [
        "\n"
      ],
      "metadata": {
        "id": "-IiSo5sQhn7y"
      }
    },
    {
      "cell_type": "code",
      "source": [],
      "metadata": {
        "id": "tfgjrypBhsSE"
      },
      "execution_count": null,
      "outputs": []
    },
    {
      "cell_type": "markdown",
      "source": [
        "### (6) 연산자 : +"
      ],
      "metadata": {
        "id": "UtRb0CYFjYFG"
      }
    },
    {
      "cell_type": "code",
      "source": [
        "# 리스트는 더하기를 하면 연결이 됩니다.\n",
        "\n",
        "a=[1,2,3]\n",
        "b=['apple','banana']\n",
        "a+b\n"
      ],
      "metadata": {
        "colab": {
          "base_uri": "https://localhost:8080/"
        },
        "id": "_oD0FmZYjQXi",
        "outputId": "2514914f-1c60-4ab2-dadc-b40bb131397b"
      },
      "execution_count": null,
      "outputs": [
        {
          "output_type": "execute_result",
          "data": {
            "text/plain": [
              "[1, 2, 3, 'apple', 'banana']"
            ]
          },
          "metadata": {},
          "execution_count": 44
        }
      ]
    },
    {
      "cell_type": "markdown",
      "source": [
        "\n",
        "## [Quiz] 리스트\n"
      ],
      "metadata": {
        "id": "6WPh0qnnvQfH"
      }
    },
    {
      "cell_type": "markdown",
      "source": [
        "\n",
        "```python\n",
        "[Q] 다음의 값은  ?\n",
        "\n",
        "a = [1,10,100]\n",
        "print(len(a)*10)\n",
        "\n",
        "① 3 ② 30 ③ 300\n",
        "```\n",
        "\n",
        "```python\n",
        "[Q] 아래 결과를 맞춰 보셔요.\n",
        "\n",
        "a = ['apple','banana',10,20]\n",
        "print(a[0] + a[1])\n",
        "\n",
        "① 100   ② applebanana  ③ 200\n",
        "```\n",
        "\n",
        "\n",
        "```python\n",
        "[Q] 아래 결과를 맞춰 보셔요.\n",
        "\n",
        "a = [100,200,300,500,400]\n",
        "print(a[0] + a[1])\n",
        "\n",
        "① 100   ② 300     ③ 200\n",
        "```\n",
        "\n",
        "```python\n",
        "[Q] 아래 결과를 맞춰 보셔요.\n",
        "\n",
        "b = [[1,100,10],[2,3]]\n",
        "print(b[0][1] + b[1][0])\n",
        "\n",
        "① 102   ② 103     ③ 104\n",
        "```\n",
        "\n",
        "```python\n",
        "[Q] 리스트의 -1의 의미를 이해했는지 확인해 볼까요.\n",
        "아래 결과값을 맞춰 보셔요.\n",
        "\n",
        "data = [100,200,10,20,111,222,333,111,333,1111,0,-1,11,1]\n",
        "print(data[-1])\n",
        "\n",
        "① 1   ② 11     ③ 111\n",
        "```\n",
        "\n",
        "```python\n",
        "[Q] 리스트의 -1의 의미를 이해했는지 확인해 볼까요. 아래 결과값을 맞춰 보셔요.\n",
        "\n",
        "data=[1,3,5,7]\n",
        "print(data[-1] + data[-3])\n",
        "\n",
        "① 0    ② 10     ③ 22\n",
        "```\n"
      ],
      "metadata": {
        "id": "rdJxURfDvPH3"
      }
    },
    {
      "cell_type": "code",
      "source": [
        "# (sol)\n",
        "\n",
        "a = ['apple','banana',10,20]\n",
        "print(a[0] + a[1])"
      ],
      "metadata": {
        "colab": {
          "base_uri": "https://localhost:8080/"
        },
        "id": "fLJEOKdiSyBm",
        "outputId": "9faf99cf-4481-43ca-d273-0ec7ad455396"
      },
      "execution_count": null,
      "outputs": [
        {
          "output_type": "stream",
          "name": "stdout",
          "text": [
            "applebanana\n"
          ]
        }
      ]
    },
    {
      "cell_type": "code",
      "source": [],
      "metadata": {
        "id": "oA3TdcQRSy-_"
      },
      "execution_count": null,
      "outputs": []
    },
    {
      "cell_type": "markdown",
      "source": [
        "# 제4절 자료형 vs 연산자(operator)"
      ],
      "metadata": {
        "id": "WouosZ8PnSND"
      }
    },
    {
      "cell_type": "markdown",
      "source": [
        "\n",
        "[https://docs.python.org/3/library/operator.html#module-operator]\n",
        "\n",
        "- 기본적인 더하기 빼기 이외의 연산자들의 목록을 보고싶으면 아래 사이트 방문하시기 바랍니다.\n",
        "\n",
        "\n",
        "\n",
        "| 기호 | 의미 | 문자(str)  | 숫자(int, float) | 리스트(list) |\n",
        "|:---:| :---|:---: |:---:|:---:|\n",
        "| +   | 더하기 |  O  | O  |  O  |\n",
        "| -   | 빼기   | -  | O  |  -  |\n",
        "| *   | 곱하기 |  O  | O  |  -  |\n",
        "| /   | 나누기 | -   | O   |  -  |\n",
        "| //  | 몫    | -   | O | - |\n",
        "| %   |나머지  | -   | O  | - |\n",
        "| **  |지수   | -   | O  |  - |\n",
        "| ==  | 비교  | O   | O  | O  |\n",
        "| +=,*= | 복합할당 | △ | O  | O  |\n",
        "| -=,/= | 복합할당 | -  | O  | O  |\n",
        "\n",
        "<caption>연산자와 자료형별 작동 여부</caption>\n",
        "\n",
        "- 몫연산자(몫만 돌려주고 나머지는 버리는 연산자) x // y\n",
        "- 나머지연산자(몫은 버리고 나머지만 돌려주는 연산자) x % y\n",
        "- 지수 연산자   a**b (a의 지수 b)"
      ],
      "metadata": {
        "id": "fLu2p4SCnj7D"
      }
    },
    {
      "cell_type": "markdown",
      "source": [
        "\n"
      ],
      "metadata": {
        "id": "s0VIxp1AmFQl"
      }
    },
    {
      "cell_type": "markdown",
      "source": [
        "\n",
        "\n",
        "\n"
      ],
      "metadata": {
        "id": "jKbeATQdmJZ2"
      }
    },
    {
      "cell_type": "markdown",
      "source": [
        "# 제5절 기초함수 소개\n"
      ],
      "metadata": {
        "id": "nZKEW7CfnT-I"
      }
    },
    {
      "cell_type": "markdown",
      "source": [
        "앞에서 아래 3개 함수에 대해 간단하게 살펴 보았습니다.  \n",
        "\n",
        "- print()\n",
        "- type()\n",
        "- len()\n",
        "\n",
        "이제는 다음 함수의 사용법을 살펴 보겠습니다.\n",
        "\n",
        "- dir()\n",
        "- help()\n",
        "- list()\n",
        "- range() : 다음 섹션에서\n",
        "- enumerate() : 다음 섹션에서\n"
      ],
      "metadata": {
        "id": "nV1zNR2zpWar"
      }
    },
    {
      "cell_type": "markdown",
      "source": [
        "객체(object)에 대해서 잘 모를 때는 dir(), help() 함수를 불러 주셔요."
      ],
      "metadata": {
        "id": "VXbvGNFupjsQ"
      }
    },
    {
      "cell_type": "markdown",
      "source": [
        "## dir()\n"
      ],
      "metadata": {
        "id": "zIQrSCM3pt6p"
      }
    },
    {
      "cell_type": "markdown",
      "source": [
        "\n",
        "- dir()은 속성, 메소드 정보를 보여줍니다.\n",
        "- 메소드(method)들을 알 수 있습니다.\n",
        "메소드에 접근하려면 점(.) 을 찍고 메소드를 사용하면 됩니다.\n",
        "- 언더바2개 있는 메소드는 보통 사용하지 않습니다. 그냥 이런 것이 있다는 것만 알고 넘어값시다.\n",
        "언더바가 없는 메소드는 자주 사용하게 될 것입니다.\n"
      ],
      "metadata": {
        "id": "0SwPhmC9qCrc"
      }
    },
    {
      "cell_type": "code",
      "source": [
        "a=1\n",
        "print(dir(a))\n"
      ],
      "metadata": {
        "id": "u-To1spjp0vp",
        "colab": {
          "base_uri": "https://localhost:8080/"
        },
        "outputId": "125c09b2-0569-4159-ce09-680c24c8a441"
      },
      "execution_count": null,
      "outputs": [
        {
          "output_type": "stream",
          "name": "stdout",
          "text": [
            "['__abs__', '__add__', '__and__', '__bool__', '__ceil__', '__class__', '__delattr__', '__dir__', '__divmod__', '__doc__', '__eq__', '__float__', '__floor__', '__floordiv__', '__format__', '__ge__', '__getattribute__', '__getnewargs__', '__gt__', '__hash__', '__index__', '__init__', '__init_subclass__', '__int__', '__invert__', '__le__', '__lshift__', '__lt__', '__mod__', '__mul__', '__ne__', '__neg__', '__new__', '__or__', '__pos__', '__pow__', '__radd__', '__rand__', '__rdivmod__', '__reduce__', '__reduce_ex__', '__repr__', '__rfloordiv__', '__rlshift__', '__rmod__', '__rmul__', '__ror__', '__round__', '__rpow__', '__rrshift__', '__rshift__', '__rsub__', '__rtruediv__', '__rxor__', '__setattr__', '__sizeof__', '__str__', '__sub__', '__subclasshook__', '__truediv__', '__trunc__', '__xor__', 'as_integer_ratio', 'bit_count', 'bit_length', 'conjugate', 'denominator', 'from_bytes', 'imag', 'numerator', 'real', 'to_bytes']\n"
          ]
        }
      ]
    },
    {
      "cell_type": "code",
      "source": [
        "a.__add__(2)"
      ],
      "metadata": {
        "colab": {
          "base_uri": "https://localhost:8080/"
        },
        "id": "pNgg7SerqtGj",
        "outputId": "f0fc8967-c501-4edb-d311-668d5d5d618f"
      },
      "execution_count": null,
      "outputs": [
        {
          "output_type": "execute_result",
          "data": {
            "text/plain": [
              "3"
            ]
          },
          "metadata": {},
          "execution_count": 6
        }
      ]
    },
    {
      "cell_type": "markdown",
      "source": [
        "## help()\n"
      ],
      "metadata": {
        "id": "gJh4rLhMpxJg"
      }
    },
    {
      "cell_type": "markdown",
      "source": [
        "\n",
        "- help()는 객체에 대한 정보를 제공해 줍니다.\n"
      ],
      "metadata": {
        "id": "ZbI4U5kdq6vp"
      }
    },
    {
      "cell_type": "code",
      "source": [
        "a='apple'\n",
        "\n",
        "# 출력이 많이 생겨서 생략\n",
        "# help(str)\n",
        "\n"
      ],
      "metadata": {
        "id": "JoIkND8drObM"
      },
      "execution_count": null,
      "outputs": []
    },
    {
      "cell_type": "markdown",
      "source": [
        "## list()\n",
        "\n",
        "- 문자열을 리스트형으로 바꿀 수 있습니다.\n",
        "ㅡ"
      ],
      "metadata": {
        "id": "vo_gQBdepvE5"
      }
    },
    {
      "cell_type": "code",
      "source": [
        "a = list('abc')\n",
        "print(a)\n",
        "print(type(a))\n",
        "\n",
        "type('abc')\n",
        "\n",
        "type(list('abc'))"
      ],
      "metadata": {
        "id": "RAq69YG6relH",
        "colab": {
          "base_uri": "https://localhost:8080/"
        },
        "outputId": "87789a49-bfc8-4ca5-95bb-cf69e32c7a76"
      },
      "execution_count": null,
      "outputs": [
        {
          "output_type": "stream",
          "name": "stdout",
          "text": [
            "['a', 'b', 'c']\n",
            "<class 'list'>\n"
          ]
        },
        {
          "output_type": "execute_result",
          "data": {
            "text/plain": [
              "list"
            ]
          },
          "metadata": {},
          "execution_count": 9
        }
      ]
    },
    {
      "cell_type": "code",
      "source": [],
      "metadata": {
        "id": "26bJcv4pwNgB"
      },
      "execution_count": null,
      "outputs": []
    },
    {
      "cell_type": "markdown",
      "source": [
        "# 제6절 제어(for, while, if 문)"
      ],
      "metadata": {
        "id": "FeK1yUoJpYgK"
      }
    },
    {
      "cell_type": "markdown",
      "source": [
        "\n",
        "## (1) for 문\n"
      ],
      "metadata": {
        "id": "3h0Hhqf5sMUM"
      }
    },
    {
      "cell_type": "markdown",
      "source": [
        "- 반복문이라고 합니다. 무엇을 하는 동안 \"반복하셔요\"라는 기능을 수행합니다.\n",
        "\n",
        "```python\n",
        "for i in list1 :\n",
        "  do //\n",
        "```\n",
        "for ... in 의 기능은  리스트의 값을 차례대로 i 에게 전달해줍니다.\n",
        "\n",
        "> for문을 만들 때는 다음에 주의하셔요.\n",
        "\n",
        "- 첫번째 : for  와 in 사이에 들어가는 변수명은 마음대로 하셔도 됩니다.\n",
        "- 두번째 : in 다음에 리스트, 튜플 등 이터러블 한 시컨스를 입력 합니다.\n",
        "- 세번째 : for 가 있는 줄 제일 끝에는 콜론(:)을 적어줘야 합니다.\n",
        "- 네번째 : for 문에 속하는지 속하지 않는지는 들여쓰기로 구분합니다. 들여쓰기 중요합니다.\n"
      ],
      "metadata": {
        "id": "1GNWSq9hsV6q"
      }
    },
    {
      "cell_type": "markdown",
      "source": [
        "\n",
        "- for i in 리스트(튜플) 등:\n",
        "```python\n",
        "for i in [10,20,1] : # 마지막에 콜론(:) 적어 줌\n",
        "    print(i+i) #\n",
        "```\n",
        "- [100,200] 리스트에서 제일 앞에있는 값, 100이 i=100 이 되며, print(i) 하면 당연히 100이 출력 된다. 그리고 더 이상 수행할 것이 없으면, 다시금 리스트로 돌아 갑니다."
      ],
      "metadata": {
        "id": "px4U98Xhtl1v"
      }
    },
    {
      "cell_type": "code",
      "source": [
        "# ex\n",
        "\n",
        "for i in [10,20,1] : # 마지막에 콜론(:) 적어 줌\n",
        "  print(i+i) #"
      ],
      "metadata": {
        "colab": {
          "base_uri": "https://localhost:8080/"
        },
        "id": "LZuKTHR_uCeK",
        "outputId": "790695aa-ce2d-4657-f808-28891d7f90db"
      },
      "execution_count": null,
      "outputs": [
        {
          "output_type": "stream",
          "name": "stdout",
          "text": [
            "20\n",
            "40\n",
            "2\n"
          ]
        }
      ]
    },
    {
      "cell_type": "code",
      "source": [
        "# ex\n",
        "\n",
        "for a in [100,200]: # for  와 in 사이에 들어가는 변수명은 ?\n",
        "    print(a) #\n",
        "    print(\"---\")\n"
      ],
      "metadata": {
        "colab": {
          "base_uri": "https://localhost:8080/"
        },
        "id": "vtuglWNcs0gW",
        "outputId": "bd07969b-ea90-4dd8-c21c-da4e79743162"
      },
      "execution_count": null,
      "outputs": [
        {
          "output_type": "stream",
          "name": "stdout",
          "text": [
            "100\n",
            "---\n",
            "200\n",
            "---\n"
          ]
        }
      ]
    },
    {
      "cell_type": "code",
      "source": [
        "# for문의 작동 순서를 알아 봅시다.\n",
        "\n",
        "for each in [10,20,30]:   # each=1, each=2, each=3\\n\",\n",
        "    print('One', each)\n",
        "    print('Two', each*each)\n",
        "    print(\"*\"*20)"
      ],
      "metadata": {
        "colab": {
          "base_uri": "https://localhost:8080/"
        },
        "id": "AASht7ZMuNsi",
        "outputId": "7054062d-8876-4092-e99d-8a55952ce58d"
      },
      "execution_count": null,
      "outputs": [
        {
          "output_type": "stream",
          "name": "stdout",
          "text": [
            "One 10\n",
            "Two 100\n",
            "********************\n",
            "One 20\n",
            "Two 400\n",
            "********************\n",
            "One 30\n",
            "Two 900\n",
            "********************\n"
          ]
        }
      ]
    },
    {
      "cell_type": "code",
      "source": [
        "# 예제 3\n",
        "\n",
        "for each in ['choi','han','park']:\n",
        "    print(f\"Family name : {each}\")"
      ],
      "metadata": {
        "colab": {
          "base_uri": "https://localhost:8080/"
        },
        "id": "8sZGOYPVsx3O",
        "outputId": "5db0e10f-4503-4b0f-ecfd-889d6a656403"
      },
      "execution_count": null,
      "outputs": [
        {
          "output_type": "stream",
          "name": "stdout",
          "text": [
            "Family name : choi\n",
            "Family name : han\n",
            "Family name : park\n"
          ]
        }
      ]
    },
    {
      "cell_type": "code",
      "source": [
        "# 예제 4  다음은 어떻게 작동하는지를 생각해 보세요. len() 함수는 문자 갯수를 알려줍니다.\n",
        "\n",
        "for w in ['아침', '햇살이', '좋아요']:\n",
        "    print(f\"{w}\")\n",
        "    #print(w)\n",
        "\n",
        "words1 = ['아침', '햇살이', '좋아요']\n",
        "for w in words1:\n",
        "    print(f\"{w}, {len(w)}\")"
      ],
      "metadata": {
        "colab": {
          "base_uri": "https://localhost:8080/"
        },
        "id": "uAy73bEquWE4",
        "outputId": "2e3ab4f3-515a-45ac-d050-5b3323d5903d"
      },
      "execution_count": null,
      "outputs": [
        {
          "output_type": "stream",
          "name": "stdout",
          "text": [
            "아침\n",
            "햇살이\n",
            "좋아요\n",
            "아침, 2\n",
            "햇살이, 3\n",
            "좋아요, 3\n"
          ]
        }
      ]
    },
    {
      "cell_type": "markdown",
      "source": [
        "#### [Quiz]"
      ],
      "metadata": {
        "id": "B9TL17vHujBa"
      }
    },
    {
      "cell_type": "markdown",
      "source": [
        "```python\n",
        "[Q] 아래 결과는 ?\n",
        "\n",
        "a=0\n",
        "for i in [1,2,3]:\n",
        "    a += i # a = a+i\n",
        "print(a)\n",
        "\n",
        "① 6  \n",
        "② applebanana  \n",
        "③ 123\n",
        "```\n"
      ],
      "metadata": {
        "id": "g-jRexm_szSm"
      }
    },
    {
      "cell_type": "code",
      "source": [
        "# sol\n",
        "\n",
        "a=0\n",
        "for i in [1,2,3]:\n",
        "    a += i # a = a+i\n",
        "print(a)"
      ],
      "metadata": {
        "colab": {
          "base_uri": "https://localhost:8080/"
        },
        "id": "4CaLX1jBvVzM",
        "outputId": "45259511-3c21-4f4e-bf23-989a438071b9"
      },
      "execution_count": null,
      "outputs": [
        {
          "output_type": "stream",
          "name": "stdout",
          "text": [
            "6\n"
          ]
        }
      ]
    },
    {
      "cell_type": "code",
      "source": [
        "\n",
        "# (1) 1 (2) 5 (3) 6\n",
        "\n",
        "# 문제 : for 문을 사용해서 1부터 1000까지 합을 구하세요.\n",
        "# (range() 배우고 난 다음)\n",
        "\n",
        "\n"
      ],
      "metadata": {
        "id": "FgEykLqovOa-"
      },
      "execution_count": null,
      "outputs": []
    },
    {
      "cell_type": "markdown",
      "source": [
        "## (2) for 문 중첩  "
      ],
      "metadata": {
        "id": "PZyz46Tvskw8"
      }
    },
    {
      "cell_type": "markdown",
      "source": [
        "\n",
        "- for문 속에 for 문 을 다시 만들 수도 있습니다.\n",
        "\n",
        "```python\n",
        "for i in range(2,4):\n",
        "    print(\"-\"*10)\n",
        "    for j in range(1,5):\n",
        "        print(f'{i}*{j}={i*j}')\n",
        "```\n"
      ],
      "metadata": {
        "id": "MOzqjnYmvm5w"
      }
    },
    {
      "cell_type": "code",
      "source": [
        "# sol\n",
        "\n",
        "for i in range(2,4):\n",
        "    print(\"-\"*10)\n",
        "    for j in range(1,5):\n",
        "        print(f'{i}*{j}={i*j}')"
      ],
      "metadata": {
        "colab": {
          "base_uri": "https://localhost:8080/"
        },
        "id": "pcLKgN2bv6Z6",
        "outputId": "cc4da24c-b06b-43cd-e720-0ae41dd24468"
      },
      "execution_count": null,
      "outputs": [
        {
          "output_type": "stream",
          "name": "stdout",
          "text": [
            "----------\n",
            "2*1=2\n",
            "2*2=4\n",
            "2*3=6\n",
            "2*4=8\n",
            "----------\n",
            "3*1=3\n",
            "3*2=6\n",
            "3*3=9\n",
            "3*4=12\n"
          ]
        }
      ]
    },
    {
      "cell_type": "code",
      "source": [
        "\n",
        "# (Quiz) 구구단을 출력해 보세요, 3단, 4단\n",
        "\n"
      ],
      "metadata": {
        "id": "KtsQ6Gpkv204"
      },
      "execution_count": null,
      "outputs": []
    },
    {
      "cell_type": "code",
      "source": [
        "### in 연산자\n",
        "\n",
        "멤버인지 아닌지 알려줍니다.\n",
        "\n",
        "'a' in ['a','b','c']\n",
        "\n",
        "1 in range(10)\n",
        "\n",
        "1000 in range(10)\n",
        "\n"
      ],
      "metadata": {
        "id": "cQrI8Ih3sjlk"
      },
      "execution_count": null,
      "outputs": []
    },
    {
      "cell_type": "markdown",
      "source": [
        "## (함수) range(start, end, step)"
      ],
      "metadata": {
        "id": "hTRQQo_ysgPk"
      }
    },
    {
      "cell_type": "markdown",
      "source": [
        "\n",
        "- for 문과 함께 많이 사용되는 함수가 있습니다.\n",
        "- range() 함수입니다. range(숫자)형식을 취하며,\n",
        "- 숫자 하나만 입력하면 0부터 입력한 숫자 -1 까지의 정수를 리턴합니다.\n",
        "- 즉 range(5)는 0,1,2,3,4 까지 값을 가집니다. (그런데 이게 단순한 리스트가 아니라 이터레이터 입니다.)\n",
        "- 5까지가 아니라는 점을 주목해 주세요.\n",
        "- 마지막은 들어가지 않습니다.\n"
      ],
      "metadata": {
        "id": "JYxDEZpMshoM"
      }
    },
    {
      "cell_type": "code",
      "source": [
        "list(range(5))"
      ],
      "metadata": {
        "id": "w4Aw2ARgwtdQ",
        "colab": {
          "base_uri": "https://localhost:8080/"
        },
        "outputId": "a7ea19b8-d308-44e6-d69c-ad14d375745b"
      },
      "execution_count": null,
      "outputs": [
        {
          "output_type": "execute_result",
          "data": {
            "text/plain": [
              "[0, 1, 2, 3, 4]"
            ]
          },
          "metadata": {},
          "execution_count": 59
        }
      ]
    },
    {
      "cell_type": "code",
      "source": [
        "# 아래 코드는 for 문과 range() 함수를 이용하여 1부터 5까지 프린트 합니다..\n",
        "\n",
        "for each in range(6):\n",
        "    print(each)"
      ],
      "metadata": {
        "colab": {
          "base_uri": "https://localhost:8080/"
        },
        "id": "VGTEdyTjwaQt",
        "outputId": "63909e1b-3878-48bc-9f10-eaadb65e2ec5"
      },
      "execution_count": null,
      "outputs": [
        {
          "output_type": "stream",
          "name": "stdout",
          "text": [
            "0\n",
            "1\n",
            "2\n",
            "3\n",
            "4\n",
            "5\n"
          ]
        }
      ]
    },
    {
      "cell_type": "code",
      "source": [
        "# range는 처음, 끝, 간극 값을 지정해 주어 보다 유연하게 숫자 시컨스를 생성할 수 있습니다.\n",
        "\n",
        "# start : 처음\n",
        "# end : 끝\n",
        "# step :간극\n",
        "\n",
        "# 아래는 1부터 10 이전까지 2 씩 증가한 숫자를 생성합니다.\n",
        "print(list(range(1,10,2)))\n",
        "\n",
        "# 아래는 1부터 10 이전까지 3 씩 증가한 숫자를 생성합니다.\n",
        "print(list(range(1,10,3)))"
      ],
      "metadata": {
        "colab": {
          "base_uri": "https://localhost:8080/"
        },
        "id": "kbjwzf0SxKCs",
        "outputId": "e6c7cbf6-ed34-4c86-ed6d-fae41ccdd84a"
      },
      "execution_count": null,
      "outputs": [
        {
          "output_type": "stream",
          "name": "stdout",
          "text": [
            "[1, 3, 5, 7, 9]\n",
            "[1, 4, 7]\n"
          ]
        }
      ]
    },
    {
      "cell_type": "code",
      "source": [
        "# 아래는 1부터 100까지 덧셈하는 방법을 소개합니다. 2가지 방식으로 소개합니다.\n",
        "\n",
        "sum1 = 0\n",
        "for i in range(1,101):\n",
        "    sum1 = sum1 + i\n",
        "print(sum1)\n",
        "\n",
        "\n",
        "sum1 = 0\n",
        "for i in range(1,101):\n",
        "    sum1 += i # 이렇게 해도 됩니다.\n",
        "print(sum1)\n",
        "\n"
      ],
      "metadata": {
        "colab": {
          "base_uri": "https://localhost:8080/"
        },
        "id": "pmxMGbNPxE3r",
        "outputId": "267601fd-4c33-4dec-cc08-ea9f8053d73d"
      },
      "execution_count": null,
      "outputs": [
        {
          "output_type": "stream",
          "name": "stdout",
          "text": [
            "5050\n",
            "5050\n"
          ]
        }
      ]
    },
    {
      "cell_type": "markdown",
      "source": [
        "#### [Quiz]"
      ],
      "metadata": {
        "id": "f61CEH18ybUI"
      }
    },
    {
      "cell_type": "markdown",
      "source": [
        "- [Q1] 1부터 100까지 짝수의 합을 구하는 프로그램을 작성하셔요.\n",
        "- [Q2] 1부터 100까지 홀수의 합은 구하는 프로그램을 작성하셔요.  \n",
        "- [Q3] 1부터 100 중 3의 배수의 합을 구하는 프로그램을 작성하셔요.\n"
      ],
      "metadata": {
        "id": "dXvv1vn-xGWD"
      }
    },
    {
      "cell_type": "code",
      "source": [
        "# (sol)\n",
        "\n",
        "# 1부터 100까지 짝수의 합\n",
        "sum1 = 0\n",
        "for i in range(2,101,2):\n",
        "    sum1 += i\n",
        "print('Q1 = ', sum1)\n",
        "\n",
        "# 1부터 100까지 홀수의 합\n",
        "sum1 = 0\n",
        "for i in range(1,101,2):\n",
        "    sum1 += i\n",
        "print('Q2 = ',sum1)\n",
        "\n",
        "# 1부터 100까지 3의 배수의 합\n",
        "sum1 = 0\n",
        "for i in range(1,101,3):\n",
        "    sum1 += i\n",
        "print(f\"Q3 = \", sum1)\n"
      ],
      "metadata": {
        "colab": {
          "base_uri": "https://localhost:8080/"
        },
        "id": "W0WXrRSQzRM8",
        "outputId": "6f6c09d0-1934-48af-88ed-7c69db7d70ad"
      },
      "execution_count": null,
      "outputs": [
        {
          "output_type": "stream",
          "name": "stdout",
          "text": [
            "Q1 =  2550\n",
            "Q2 =  2500\n",
            "Q3 =  1717\n"
          ]
        }
      ]
    },
    {
      "cell_type": "markdown",
      "source": [
        "## (함수) enumerate()\n"
      ],
      "metadata": {
        "id": "ipX0N_2NsdFi"
      }
    },
    {
      "cell_type": "markdown",
      "source": [
        "- for 문과 함께 많이 사용되는 함수에는 enumerate()가 있습니다.\n",
        "- 이것은 인덱스도 함께 리턴해 줍니다. 시컨스 중 제일 앞에 있는 것은 0을, 그 다음은 1씩 증가시킨 값을 생성합니다.\n",
        "\n"
      ],
      "metadata": {
        "id": "y9LMNlsssd1z"
      }
    },
    {
      "cell_type": "code",
      "source": [
        "# 예\n",
        "\n",
        "names = ['hong','kim','choi','lee']\n",
        "for each in names:\n",
        "    print(each)\n",
        "\n",
        "print('*'*10)\n",
        "for index, each in enumerate(names):\n",
        "    print(f\"{index}, {each}\")"
      ],
      "metadata": {
        "id": "ws9-K0sEzvu3"
      },
      "execution_count": null,
      "outputs": []
    },
    {
      "cell_type": "code",
      "source": [
        "# 처음 시작하는 번호를 지정할 수 도 있습니다.\n",
        "\n",
        "for index, each in enumerate(names, start=100):\n",
        "    print(f\"{index}, {each}\")"
      ],
      "metadata": {
        "colab": {
          "base_uri": "https://localhost:8080/"
        },
        "id": "Zvzc1_27ztPG",
        "outputId": "426d0ef6-74fa-4300-cfa3-28f00e584e97"
      },
      "execution_count": null,
      "outputs": [
        {
          "output_type": "stream",
          "name": "stdout",
          "text": [
            "**********\n",
            "100, hong\n",
            "101, kim\n",
            "102, choi\n",
            "103, lee\n"
          ]
        }
      ]
    },
    {
      "cell_type": "code",
      "source": [
        "# 더 자세히 알고 싶으면, 앞에서 배운 help() 함수를 이용해서 보다 많은 정보를 찾을 수 있습니다.\n",
        "# help(enumerate)"
      ],
      "metadata": {
        "id": "m-MiXwYG0MhJ"
      },
      "execution_count": null,
      "outputs": []
    },
    {
      "cell_type": "code",
      "source": [],
      "metadata": {
        "id": "u5BLYDfO03eY"
      },
      "execution_count": null,
      "outputs": []
    },
    {
      "cell_type": "markdown",
      "source": [
        "## (3) while 문\n"
      ],
      "metadata": {
        "id": "jBDmYb_KsbIj"
      }
    },
    {
      "cell_type": "markdown",
      "source": [
        "\n",
        "조건이 참이면 계속 그 내용을 수행하게 됩니다.\n",
        "\n",
        "```python\n",
        "while 조건 :\n",
        "    실행1\n",
        "```\n",
        "\n",
        "아래에서 조건이 참이면 계속 반복하는 순환문을 볼 수 있는데요, 증감식을 두어서 일정 조건을 벗어날 수 있도록 하였습니다.\n",
        "\n",
        "```python\n",
        "a = 5\n",
        "\n",
        "while a>1:\n",
        "    print(f\">>> {a}\")\n",
        "    a -= 1\n",
        "```"
      ],
      "metadata": {
        "id": "N2md4YmKscDb"
      }
    },
    {
      "cell_type": "code",
      "source": [
        "# ex\n",
        "\n",
        "a = 5\n",
        "\n",
        "while a>1:\n",
        "    print(f\">>> {a}\")\n",
        "    a -= 1"
      ],
      "metadata": {
        "colab": {
          "base_uri": "https://localhost:8080/"
        },
        "id": "JbEYyGh-1AuT",
        "outputId": "c07b67fd-be7e-41a2-dd83-8050da46789c"
      },
      "execution_count": null,
      "outputs": [
        {
          "output_type": "stream",
          "name": "stdout",
          "text": [
            ">>> 5\n",
            ">>> 4\n",
            ">>> 3\n",
            ">>> 2\n"
          ]
        }
      ]
    },
    {
      "cell_type": "markdown",
      "source": [
        "\n",
        "### break\n"
      ],
      "metadata": {
        "id": "S8-XbPNzsaRL"
      }
    },
    {
      "cell_type": "markdown",
      "source": [
        "\n",
        "순환문에 등장하는 아래 3가지 명령어가 있습니다. 이중에서 break 사용법만 살펴 봅시다.\n",
        "\n",
        "- continue : 신중\n",
        "- **break** : 적극. 루프 탈출한다 (루프가 많으면 가장 안쪽 먼저 탈출한다)\n",
        "- pass : 침묵.\n",
        "\n",
        "- break는 루프를 탈출하게 합니다. 즉 a가 5가 될 때 순환문을 탈출합니다. 아래에서 *이 5개까지 출력된 것을 확인하셔요.\n",
        "\n",
        "```python\n",
        "a = 10\n",
        "\n",
        "while a > 1:\n",
        "    if a == 5 :\n",
        "        print(f\">>> a = {a}\")\n",
        "        break  \n",
        "    a -= 1\n",
        "    print(\"*\"*a,a)\n",
        "```"
      ],
      "metadata": {
        "id": "igDBRi1rsZY6"
      }
    },
    {
      "cell_type": "code",
      "source": [
        "# ex\n",
        "\n",
        "a = 10\n",
        "\n",
        "while a > 1:\n",
        "    if a == 5 :\n",
        "        print(f\">>> a = {a}\")\n",
        "        break\n",
        "    a -= 1\n",
        "    print(\"*\"*a,a)\n"
      ],
      "metadata": {
        "colab": {
          "base_uri": "https://localhost:8080/"
        },
        "id": "LMFbV0Q31SM2",
        "outputId": "8ac4477c-942f-4373-e3d5-f176b3976e3c"
      },
      "execution_count": null,
      "outputs": [
        {
          "output_type": "stream",
          "name": "stdout",
          "text": [
            "********* 9\n",
            "******** 8\n",
            "******* 7\n",
            "****** 6\n",
            "***** 5\n",
            ">>> a = 5\n"
          ]
        }
      ]
    },
    {
      "cell_type": "markdown",
      "source": [
        "## (4) if 문\n"
      ],
      "metadata": {
        "id": "LjIPKbLzsXcT"
      }
    },
    {
      "cell_type": "markdown",
      "source": [
        "- if의 의미는 if 다음의 x가 참이라면 if문 아래에 있는 문장을 실행하라는 의미입니다. 만약 그렇지 않을때는 else 이하를 실행합니다.\n",
        "- 이때 0, 빈리스트 등은 False 입니다.  \n",
        "\n",
        "```python\n",
        "if x :\n",
        "   액션\n",
        "else:\n",
        "   액션\n",
        "```   \n"
      ],
      "metadata": {
        "id": "lIheNsx9sYUT"
      }
    },
    {
      "cell_type": "code",
      "source": [
        "# 예제 1\n",
        "\n",
        "if True :\n",
        "    print(\"apple > orange\")\n"
      ],
      "metadata": {
        "id": "gky5-my-1nMO",
        "colab": {
          "base_uri": "https://localhost:8080/"
        },
        "outputId": "665d33bc-73f0-46ef-8b88-5a08bb97c4b2"
      },
      "execution_count": null,
      "outputs": [
        {
          "output_type": "stream",
          "name": "stdout",
          "text": [
            "apple > orange\n"
          ]
        }
      ]
    },
    {
      "cell_type": "code",
      "source": [
        "# 예제 2\n",
        "\n",
        "a = True\n",
        "\n",
        "if a :\n",
        "    print(\"a is True\")"
      ],
      "metadata": {
        "id": "F-ZG2pmy2TjZ",
        "colab": {
          "base_uri": "https://localhost:8080/"
        },
        "outputId": "7bca1ae3-4a02-452d-c56d-a5d7888ea82c"
      },
      "execution_count": null,
      "outputs": [
        {
          "output_type": "stream",
          "name": "stdout",
          "text": [
            "a is True\n"
          ]
        }
      ]
    },
    {
      "cell_type": "markdown",
      "source": [
        "## 7절 파일\n",
        "\n",
        "* IDLE 기준으로 설명함\n",
        "\n",
        "### 저장\n",
        "\n",
        "- 사용하는 개발툴에서 New File 을 선택하여 비어있는 파일을 만든 다음에 아래와 같이 입력해 보셔요.\n",
        "\n",
        "```python\n",
        "print(“Hello”)\n",
        "```\n",
        "\n",
        "그런 다음에 저장하셔요. 파일 확장자는  *.py로 하면 됩니다. 그럼 파일 저장이 완료되었습니다.\n",
        "\n",
        "- 확장자 : *.py, *.pyw\n",
        "\n",
        "## 파일 불러오기\n",
        "\n",
        "저장한 파일을 불러옵니다. File 메뉴의 Open을 클릭하셔서, 조금 전에 저장한 파일을 불러옵니다. 그리고 Run 메뉴 아래에 있는 Run module을 클릭하면 실행이 됩니다. 단축키가 F5로 설정된 경우, F5만 클릭하면 실행이 됩니다.\n",
        "\n",
        "\n",
        "축하합니다. 1장을 마칩니다."
      ],
      "metadata": {
        "id": "jBZGr3HM2ZXu"
      }
    },
    {
      "cell_type": "code",
      "source": [],
      "metadata": {
        "id": "Ha-mNSaU22uG"
      },
      "execution_count": null,
      "outputs": []
    }
  ],
  "metadata": {
    "anaconda-cloud": {},
    "kernelspec": {
      "display_name": "Python 3 (ipykernel)",
      "language": "python",
      "name": "python3"
    },
    "language_info": {
      "codemirror_mode": {
        "name": "ipython",
        "version": 3
      },
      "file_extension": ".py",
      "mimetype": "text/x-python",
      "name": "python",
      "nbconvert_exporter": "python",
      "pygments_lexer": "ipython3",
      "version": "3.9.7"
    },
    "latex_envs": {
      "LaTeX_envs_menu_present": true,
      "autocomplete": true,
      "bibliofile": "biblio.bib",
      "cite_by": "apalike",
      "current_citInitial": 1,
      "eqLabelWithNumbers": true,
      "eqNumInitial": 1,
      "hotkeys": {
        "equation": "Ctrl-E",
        "itemize": "Ctrl-I"
      },
      "labels_anchors": false,
      "latex_user_defs": false,
      "report_style_numbering": false,
      "user_envs_cfg": false
    },
    "toc": {
      "base_numbering": 1,
      "nav_menu": {},
      "number_sections": true,
      "sideBar": true,
      "skip_h1_title": true,
      "title_cell": "Table of Contents",
      "title_sidebar": "Contents",
      "toc_cell": false,
      "toc_position": {
        "height": "850px",
        "left": "10px",
        "top": "150px",
        "width": "165px"
      },
      "toc_section_display": true,
      "toc_window_display": true
    },
    "toc-autonumbering": true,
    "colab": {
      "provenance": [],
      "collapsed_sections": [
        "RW6n7LfTXzD_",
        "UQh3AL1Sc5cN",
        "p7wge4zzW5Mi"
      ],
      "toc_visible": true,
      "include_colab_link": true
    }
  },
  "nbformat": 4,
  "nbformat_minor": 0
}