{
 "cells": [
  {
   "cell_type": "markdown",
   "metadata": {},
   "source": [
<<<<<<< Updated upstream
    "<center><h1> 제1장 파이썬과 놀기 </h1></center>"
   ]
  },
  {
   "cell_type": "markdown",
=======
    "# 1장 파이썬과 놀기\n"
   ]
  },
  {
   "cell_type": "raw",
>>>>>>> Stashed changes
   "metadata": {},
   "source": [
    "먼저 파이썬과 노는 시간을 갖는 것으로 파이썬 교육을 시작하고자 합니다. 파이썬과 노는 시간은 아래와 같이 진행하고자 합니다.\n",
    "\n",
    "□ 배우게 되는 내용 :\n",
    "\n",
    "\n",
    "* ① 파이썬 설치\n",
    "* ② IDLE 실행\n",
    "* ③ 프린트\n",
    "* ④ 변수개념 이해\n",
    "* ⑤ 변수종류 이해(단독, 아파트)\n",
    "* ⑥ 숫자의 사칙연산 이해하기\n",
    "* ⑦ 변수를 이용한 프린트 방법\n",
    "* ⑧ 포 문(for) 접하기\n",
    "* ⑨ 기초 함수(range, len)소개\n",
    "* ⑩ 파일에 명령어 저장, 실행\n",
    "* ⑪ 실습 과제 수행하기"
   ]
  },
  {
   "cell_type": "raw",
   "metadata": {},
   "source": [
    "<img src=\"./fig1_1.png\", width=800,height=800>"
   ]
  },
  {
   "cell_type": "markdown",
   "metadata": {},
   "source": [
    "# 1단계. 파이썬 설치"
   ]
  },
  {
   "cell_type": "markdown",
   "metadata": {},
   "source": [
    "###### (1) 파이썬 설치 \n",
    "\n",
    "* anaconda ( https://www.continuum.io )\n",
    "\n",
    "* 아나콘다는 무료 파이썬 배포판입니다. \n",
    "* 454개의 파이썬 패키지 들을 포함하고 있습니다(2016.4.12 기준). \n",
    "* 패키지 목록은 https://docs.continuum.io/anaconda/pkg-docs을 참조하십시오."
   ]
  },
  {
   "cell_type": "raw",
   "metadata": {},
   "source": [
    "<img src=\"./fig1_2.png\", width=500,height=500> Python 홈페이지 (https://www.python.org)"
   ]
  },
  {
   "cell_type": "raw",
   "metadata": {},
   "source": [
    "<img src=\"./fig1_3.png\", width=500,height=500> 아나콘다 홈페이지 (https://www.continuum.io)"
   ]
  },
  {
   "cell_type": "markdown",
   "metadata": {},
   "source": [
    "###### (2) IDE 설치\n",
    "\n",
    "\n",
    "\n"
   ]
  },
  {
   "cell_type": "markdown",
   "metadata": {},
   "source": [
    "파이썬 코딩은 여러 편집기에서 작업이 가능하지만, 아래와 같은 툴을 활용할 것을 권고합니다. \n",
    "\n",
    "* IDLE(아이들)\n",
    "\n",
    "파이썬을 설치하면 기본적인 IDE인 IDLE이 설치되어 집니다. 이것만으로도 왠만한 프로그램을 무난하게 작성할 수 있습니다. 그런데, 조금 불편한 점이 있습니다. 그래서 조금 더 편하게 사용할 수 있는 IDE를 선택해야하나하고 고민하게 될 때가 올 것입니다. \n",
    "\n",
    "\n",
    "* 주피터(jupyter) - 2010년 초기에 IPython을 유행시킨 팀이 만든 쥬피터 노트북 (http://jupyter.org) \n",
    "\n",
    "\n",
    "* PyCharm(파이참)\n",
    "\n",
    "IDLE이 불편하다고 느낄 때 쯤이면, PyCharm 설치를 권고합니다. 프로페셔널은 유료이고(1년 $199), 커뮤니티 버전은 무료입니다. 커뮤니티 버전을 다운로드 받아 설치해도  기능이 잘 작동합니다. \n",
    "\n",
    "* pyCharm ( https://www.jetbrains.com/pycharm  )\n",
    "\n",
    "PyCharm을 설치한 다음에는 프로젝트를 생성하고 몇 가지 세팅을 해준다. 인터프리터 세팅을 자신이 사용하고자 하는 파이썬 버전에 맞게 해줘야 합니다. \n",
    "\n",
    "* file >> setting >> project : .. >> project interpreter\n",
    "\n",
    "파이참은 프로젝트 단위로 진행이 됩니다. 디렉토리내에 하나의 프로젝트를 생성하셔서 작업하면 됩니다.\n"
   ]
  },
  {
   "cell_type": "raw",
   "metadata": {},
   "source": [
    "<img src=\"./fig1_4.png\", width=500,height=500>"
   ]
  },
  {
   "cell_type": "markdown",
   "metadata": {},
   "source": [
    "# 2단계. 실행하기 "
   ]
  },
  {
   "cell_type": "raw",
   "metadata": {},
   "source": [
    "<img src=\"./fig1_5.png\", width=500,height=500>\n"
   ]
  },
  {
   "cell_type": "markdown",
   "metadata": {},
   "source": [
    "# 3단계. 프린트 하기"
   ]
  },
  {
   "cell_type": "markdown",
   "metadata": {},
   "source": [
    "###### (1) 간단한 프린트 배우기\n",
    "\n",
    "이제 이 아이들(IDLE) 창에다가 명령어를 입력합니다. 아래와 같이 입력해 봅시다.\n",
    "\n",
    "참고로 버전 3.x와 print 용법은 차이가 납니다. 파이썬 3.x 대에서는 print( “hello”) 로 바뀌었습니다. 번거롭게 괄호를 넣은 데는 이유가 있겠죠. 네 있습니다. 함수로 변경되었습니다.)"
   ]
  },
  {
   "cell_type": "code",
<<<<<<< Updated upstream
   "execution_count": 56,
=======
   "execution_count": 1,
>>>>>>> Stashed changes
   "metadata": {
    "collapsed": false
   },
   "outputs": [
    {
     "name": "stdout",
     "output_type": "stream",
     "text": [
      "Hello\n",
      "Hello\n",
      "Hello\n"
     ]
    }
   ],
   "source": [
    "print('Hello')\n",
    "print(\"Hello\")\n",
    "print(\"\"\"Hello\"\"\")"
   ]
  },
  {
   "cell_type": "markdown",
   "metadata": {},
   "source": [
    "###### (2) 문자, 정수, 실수 프린트\n",
    "\n",
    "자 이 프린트 명령어를 다양하게 알아보겠습니다.\n",
    "\n"
   ]
  },
  {
   "cell_type": "code",
<<<<<<< Updated upstream
   "execution_count": 62,
=======
   "execution_count": 2,
>>>>>>> Stashed changes
   "metadata": {
    "collapsed": false
   },
   "outputs": [
    {
     "name": "stdout",
     "output_type": "stream",
     "text": [
      "I am Dr. Who !\n",
      "I am  Dr. Who !\n",
      "abcabcabcabcabcabcabcabcabcabc\n"
     ]
    },
    {
     "data": {
      "text/plain": [
       "'abcabcabcabcabcabcabcabcabcabc'"
      ]
     },
<<<<<<< Updated upstream
     "execution_count": 62,
=======
     "execution_count": 2,
>>>>>>> Stashed changes
     "metadata": {},
     "output_type": "execute_result"
    }
   ],
   "source": [
    "# 문자만 출력하기\n",
    "print(\"I am Dr. Who !\")\n",
    "\n",
    "\n",
    "# 문자 + 문자 출력하기\n",
    "print(\"I am \" + \" Dr. Who !\")\n",
    "\n",
    "'''\n",
    " + 문자를 연결시켜주는 기능입니다.\n",
    " - 는 ? 각자가 테스트 해 보셔요.\n",
    " * 도 테스트 해보셔요.\n",
    "'''\n",
    "\n",
    "print('abc'*10)\n",
    "'abcabcabcabcabcabcabcabcabcabc'"
   ]
  },
  {
   "cell_type": "code",
<<<<<<< Updated upstream
   "execution_count": 2,
=======
   "execution_count": 3,
>>>>>>> Stashed changes
   "metadata": {
    "collapsed": false
   },
   "outputs": [
    {
     "name": "stdout",
     "output_type": "stream",
     "text": [
      "3.5.2 |Anaconda 4.2.0 (x86_64)| (default, Jul  2 2016, 17:52:12) \n",
      "[GCC 4.2.1 Compatible Apple LLVM 4.2 (clang-425.0.28)]\n",
      "hello\n"
     ]
    }
   ],
   "source": [
    "# cell\n",
    "\n",
    "import sys\n",
    "print(sys.version)\n",
    "print('hello')\n"
   ]
  },
  {
   "cell_type": "markdown",
   "metadata": {},
   "source": [
    "(3) %() 이용해서 프린트하기  ✰✰✰✰✰\n",
    "\n",
    "> 이건 조금 어려운데,  %( ) 를 이용해서 뒤에서 출력 형식을 지정할 수가 있습니다. 이때 문자는 %s, 정수는 %d, 실수는 %f를 사용합니다.\n",
    "\n",
    "> ○ 문자 출력 (%s)\n",
    "> ○ 정수 출력 (%d)\n",
    "> ○ 실수 출력 (%f)\n"
   ]
  },
  {
   "cell_type": "markdown",
   "metadata": {},
   "source": [
    "* alt + Enter : 셀 실행하고 밑에 추가 셀을 만들어 줌\n",
    "* ctrl + Enter  : 셀 실행하기 "
   ]
  },
  {
   "cell_type": "markdown",
   "metadata": {},
   "source": [
    "# 4 단계. 변수 개념 소개"
   ]
  },
  {
   "cell_type": "raw",
   "metadata": {},
   "source": [
    "* 변수(variables)가 뭔지를 소개해 주려고합니다. 컴퓨터 메모리(RAM)에 만든 집이라고 설명을 하고자 합니다."
   ]
  },
  {
   "cell_type": "markdown",
   "metadata": {
    "collapsed": true
   },
   "source": [
    "# 5단계. 집짓기 (단독, 아파트)"
   ]
  },
  {
   "cell_type": "markdown",
   "metadata": {},
   "source": [
    "###### (1) 단독집 짓기\n",
    "\n",
    "> 변수의 종류도 다양한데, 이를 어떻게 설명할까 하다가 메모리에 지어진 집에다 비유해 보았습니다. 사람들이 살아가는 집의 종류가 다양합니다. 단독집, 연립, 아파트 등의 집형태가 있습니다. 그리고 이런 집들이 모여서 마을과  도시를 이룹니다. 변수들 집도 비슷합니다.\n",
    "\n",
    "> 먼저, 가장 기본이 되는 단독집을 짓는 방법을 알아보겠습니다."
   ]
  },
  {
   "cell_type": "raw",
   "metadata": {
    "collapsed": false
   },
   "source": [
    "a = \"Dr Who\"\n",
    "print(a)"
   ]
  },
  {
   "cell_type": "code",
<<<<<<< Updated upstream
   "execution_count": 13,
=======
   "execution_count": 4,
>>>>>>> Stashed changes
   "metadata": {
    "collapsed": false
   },
   "outputs": [
    {
     "name": "stdout",
     "output_type": "stream",
     "text": [
      "100\n",
      "300\n",
      "20000\n",
      "1000000\n"
     ]
    }
   ],
   "source": [
    "a = 100\n",
    "b = 200\n",
    "print(a)\n",
    "print(a+b)\n",
    "print(a*b)\n",
    "print(a*a*a)"
   ]
  },
  {
   "cell_type": "markdown",
   "metadata": {},
   "source": [
    "###### (2) 아파트 짓기\n",
    "\n",
    "> * 기억할 것은 모양  : [ ] \n",
    "> * 0 부터 시작한다.  (C,C++ ...) / 1부터는 R, Fortran, \n",
    "    \n",
    "    \n"
   ]
  },
  {
   "cell_type": "raw",
   "metadata": {},
   "source": [
    "a = [100,200,300]\n",
    "print(a)"
   ]
  },
  {
   "cell_type": "code",
<<<<<<< Updated upstream
   "execution_count": 17,
=======
   "execution_count": 5,
>>>>>>> Stashed changes
   "metadata": {
    "collapsed": false
   },
   "outputs": [
    {
<<<<<<< Updated upstream
     "data": {
      "text/plain": [
       "100"
      ]
     },
     "execution_count": 17,
     "metadata": {},
     "output_type": "execute_result"
=======
     "ename": "TypeError",
     "evalue": "'int' object is not subscriptable",
     "output_type": "error",
     "traceback": [
      "\u001b[0;31m---------------------------------------------------------------------------\u001b[0m",
      "\u001b[0;31mTypeError\u001b[0m                                 Traceback (most recent call last)",
      "\u001b[0;32m<ipython-input-5-5ccf417d7af1>\u001b[0m in \u001b[0;36m<module>\u001b[0;34m()\u001b[0m\n\u001b[0;32m----> 1\u001b[0;31m \u001b[0ma\u001b[0m\u001b[0;34m[\u001b[0m\u001b[0;36m0\u001b[0m\u001b[0;34m]\u001b[0m\u001b[0;34m\u001b[0m\u001b[0m\n\u001b[0m",
      "\u001b[0;31mTypeError\u001b[0m: 'int' object is not subscriptable"
     ]
>>>>>>> Stashed changes
    }
   ],
   "source": [
    "a[0]"
   ]
  },
  {
   "cell_type": "code",
<<<<<<< Updated upstream
   "execution_count": 18,
   "metadata": {
    "collapsed": false
   },
   "outputs": [
    {
     "data": {
      "text/plain": [
       "300"
      ]
     },
     "execution_count": 18,
     "metadata": {},
     "output_type": "execute_result"
    }
   ],
=======
   "execution_count": null,
   "metadata": {
    "collapsed": false
   },
   "outputs": [],
>>>>>>> Stashed changes
   "source": [
    "a[-1]"
   ]
  },
  {
   "cell_type": "code",
<<<<<<< Updated upstream
   "execution_count": 19,
   "metadata": {
    "collapsed": false
   },
   "outputs": [
    {
     "name": "stdout",
     "output_type": "stream",
     "text": [
      "1\n"
     ]
    }
   ],
=======
   "execution_count": null,
   "metadata": {
    "collapsed": false
   },
   "outputs": [],
>>>>>>> Stashed changes
   "source": [
    "# Quiz\n",
    "a = [1, 3, 111, 1111, 3333, 1111, 111, 13333, 333, 22, 1]\n",
    "print(a[-1])\n"
   ]
  },
  {
   "cell_type": "code",
<<<<<<< Updated upstream
   "execution_count": 21,
   "metadata": {
    "collapsed": false
   },
   "outputs": [
    {
     "data": {
      "text/plain": [
       "23"
      ]
     },
     "execution_count": 21,
     "metadata": {},
     "output_type": "execute_result"
    }
   ],
=======
   "execution_count": null,
   "metadata": {
    "collapsed": false
   },
   "outputs": [],
>>>>>>> Stashed changes
   "source": [
    "a[-1] + a[-2]"
   ]
  },
  {
   "cell_type": "code",
<<<<<<< Updated upstream
   "execution_count": 22,
   "metadata": {
    "collapsed": false
   },
   "outputs": [
    {
     "data": {
      "text/plain": [
       "list"
      ]
     },
     "execution_count": 22,
     "metadata": {},
     "output_type": "execute_result"
    }
   ],
=======
   "execution_count": null,
   "metadata": {
    "collapsed": false
   },
   "outputs": [],
>>>>>>> Stashed changes
   "source": [
    "# 함수(function), 메소드(method) \n",
    "# 빌트 인 함수 : built in function \n",
    "\n",
    "type(a)\n",
    "\n"
   ]
  },
  {
   "cell_type": "code",
<<<<<<< Updated upstream
   "execution_count": 26,
   "metadata": {
    "collapsed": false
   },
   "outputs": [
    {
     "name": "stdout",
     "output_type": "stream",
     "text": [
      "<class 'int'> <class 'str'>\n",
      "[1, 2, 3] (1, 2, 3) {1, 2, 3} {'a': 'abcdefg', 'b': '1234'}\n",
      "<class 'list'> <class 'tuple'> <class 'set'> <class 'dict'>\n"
     ]
    }
   ],
=======
   "execution_count": null,
   "metadata": {
    "collapsed": false
   },
   "outputs": [],
>>>>>>> Stashed changes
   "source": [
    "# Data 종류 \n",
    "\n",
    "number1  = 100\n",
    "string1  = 'abc'\n",
    "print(type(number1), type(string1))\n",
    "\n",
    "\n",
    "a = [1,2,3]\n",
    "b = (1,2,3)\n",
    "c = {1,2,3}\n",
    "d = {'a':'abcdefg', 'b':'1234'}\n",
    "print(a,b,c,d)\n",
    "print(type(a),type(b),type(c),type(d))\n"
   ]
  },
  {
   "cell_type": "code",
<<<<<<< Updated upstream
   "execution_count": 29,
   "metadata": {
    "collapsed": false
   },
   "outputs": [
    {
     "name": "stdout",
     "output_type": "stream",
     "text": [
      "[[100, 101, 102], [100, 101, 102, 304], ['apple', 'banana', 'orange', '귤']]\n"
     ]
    }
   ],
=======
   "execution_count": null,
   "metadata": {
    "collapsed": false
   },
   "outputs": [],
>>>>>>> Stashed changes
   "source": [
    "\n",
    "apt1 = [100,101,102]\n",
    "apt2 = [100,101,102,304]\n",
    "apt3 = ['apple','banana','orange', '귤']\n",
    "\n",
    "apt = [apt1,apt2,apt3]\n",
    "print(apt)\n"
   ]
  },
  {
   "cell_type": "code",
<<<<<<< Updated upstream
   "execution_count": 30,
   "metadata": {
    "collapsed": false
   },
   "outputs": [
    {
     "data": {
      "text/plain": [
       "[100, 101, 102]"
      ]
     },
     "execution_count": 30,
     "metadata": {},
     "output_type": "execute_result"
    }
   ],
=======
   "execution_count": null,
   "metadata": {
    "collapsed": false
   },
   "outputs": [],
>>>>>>> Stashed changes
   "source": [
    "apt[0]"
   ]
  },
  {
   "cell_type": "code",
<<<<<<< Updated upstream
   "execution_count": 31,
   "metadata": {
    "collapsed": false
   },
   "outputs": [
    {
     "data": {
      "text/plain": [
       "['apple', 'banana', 'orange', '귤']"
      ]
     },
     "execution_count": 31,
     "metadata": {},
     "output_type": "execute_result"
    }
   ],
=======
   "execution_count": null,
   "metadata": {
    "collapsed": false
   },
   "outputs": [],
>>>>>>> Stashed changes
   "source": [
    "apt[-1]"
   ]
  },
  {
   "cell_type": "code",
<<<<<<< Updated upstream
   "execution_count": 32,
   "metadata": {
    "collapsed": false
   },
   "outputs": [
    {
     "name": "stdout",
     "output_type": "stream",
     "text": [
      "[[1, 2, 3], [4, 5, 6], [7, 8, 9]]\n"
     ]
    }
   ],
=======
   "execution_count": null,
   "metadata": {
    "collapsed": false
   },
   "outputs": [],
>>>>>>> Stashed changes
   "source": [
    "matrix = [ [1,2,3],[4,5,6],[7,8,9]]\n",
    "print(matrix)"
   ]
  },
  {
   "cell_type": "code",
<<<<<<< Updated upstream
   "execution_count": 33,
   "metadata": {
    "collapsed": false
   },
   "outputs": [
    {
     "data": {
      "text/plain": [
       "1"
      ]
     },
     "execution_count": 33,
     "metadata": {},
     "output_type": "execute_result"
    }
   ],
=======
   "execution_count": null,
   "metadata": {
    "collapsed": false
   },
   "outputs": [],
>>>>>>> Stashed changes
   "source": [
    "matrix[0][0] # [0,0], (0,0)"
   ]
  },
  {
   "cell_type": "code",
<<<<<<< Updated upstream
   "execution_count": 34,
   "metadata": {
    "collapsed": false
   },
   "outputs": [
    {
     "data": {
      "text/plain": [
       "3"
      ]
     },
     "execution_count": 34,
     "metadata": {},
     "output_type": "execute_result"
    }
   ],
=======
   "execution_count": null,
   "metadata": {
    "collapsed": false
   },
   "outputs": [],
>>>>>>> Stashed changes
   "source": [
    "matrix[0][-1] # 고 난이도 문제 "
   ]
  },
  {
   "cell_type": "code",
<<<<<<< Updated upstream
   "execution_count": 36,
   "metadata": {
    "collapsed": false
   },
   "outputs": [
    {
     "data": {
      "text/plain": [
       "27"
      ]
     },
     "execution_count": 36,
     "metadata": {},
     "output_type": "execute_result"
    }
   ],
=======
   "execution_count": null,
   "metadata": {
    "collapsed": false
   },
   "outputs": [],
>>>>>>> Stashed changes
   "source": [
    "matrix[0][2]*matrix[-1][-1]  \n"
   ]
  },
  {
   "cell_type": "code",
<<<<<<< Updated upstream
   "execution_count": 37,
   "metadata": {
    "collapsed": false
   },
   "outputs": [
    {
     "name": "stdout",
     "output_type": "stream",
     "text": [
      "[[[1, 2, 3], [4, 5, 6], [7, 8, 9]], [[1, 2, 3], [4, 5, 6], [7, 8, 9]]]\n"
     ]
    }
   ],
=======
   "execution_count": null,
   "metadata": {
    "collapsed": false
   },
   "outputs": [],
>>>>>>> Stashed changes
   "source": [
    "matrix3D = [ matrix, matrix ]  # 고 난이도 문제 \n",
    "print(matrix3D)\n"
   ]
  },
  {
   "cell_type": "code",
<<<<<<< Updated upstream
   "execution_count": 39,
   "metadata": {
    "collapsed": false
   },
   "outputs": [
    {
     "data": {
      "text/plain": [
       "8"
      ]
     },
     "execution_count": 39,
     "metadata": {},
     "output_type": "execute_result"
    }
   ],
=======
   "execution_count": null,
   "metadata": {
    "collapsed": false
   },
   "outputs": [],
>>>>>>> Stashed changes
   "source": [
    "matrix3D[0][-1][1]"
   ]
  },
  {
   "cell_type": "code",
<<<<<<< Updated upstream
   "execution_count": 43,
   "metadata": {
    "collapsed": false
   },
   "outputs": [
    {
     "name": "stdout",
     "output_type": "stream",
     "text": [
      "4370712328\n",
      "4361610440\n"
     ]
    }
   ],
=======
   "execution_count": null,
   "metadata": {
    "collapsed": false
   },
   "outputs": [],
>>>>>>> Stashed changes
   "source": [
    "# ID\n",
    "print(id(matrix3D))\n",
    "a  = 'bk'\n",
    "print(id(a))\n"
   ]
  },
  {
   "cell_type": "code",
<<<<<<< Updated upstream
   "execution_count": 46,
   "metadata": {
    "collapsed": false
   },
   "outputs": [
    {
     "name": "stdout",
     "output_type": "stream",
     "text": [
      "address a = 4297151696\n",
      "address b = 4297151696\n",
      "Yes\n",
      "address b= 4297154896\n",
      "100\n"
     ]
    }
   ],
=======
   "execution_count": null,
   "metadata": {
    "collapsed": false
   },
   "outputs": [],
>>>>>>> Stashed changes
   "source": [
    "#[Quiz] 다음 기회에 ...\n",
    "\n",
    "\n",
    "a = 100\n",
    "b = a\n",
    "\n",
    "print('address a =', id(a))\n",
    "print('address b =', id(b))\n",
    "if a==b:\n",
    "    print(\"Yes\")\n",
    "else:\n",
    "    print(\"No\")\n",
    "    \n",
    "b = 400\n",
    "print('address b=', id(b))\n",
    "print(a)\n",
    "\n",
    "# 200 : 4명\n",
    "# 100 : 2명 \n"
   ]
  },
  {
   "cell_type": "markdown",
   "metadata": {},
   "source": [
    "## 6단계. 사칙연산"
   ]
  },
  {
   "cell_type": "code",
   "execution_count": null,
   "metadata": {
    "collapsed": true
   },
   "outputs": [],
   "source": [
    "# + - * /\n"
   ]
  },
  {
   "cell_type": "markdown",
   "metadata": {},
   "source": [
    "이제 변수명을 이용해서 더하기 빼기를 하는 방법을 배워 보겠습니다.\n",
    "\n",
    "> a = 100  <br>\n",
    "> b = 10.1 <br>\n",
    "> c = a+b  <br>\n",
    "> print c  <br>\n",
    "110.1\n",
    "\n",
    "그런데, 주의할 것은 방의 종류가 정수, 실수인 방 끼리는 더하기 빼기가 가능하지만, 문자인 방과는 더하기 빼기가 되지 않는다는 사실입니다. 정수방과 실수방은 더하기 빼기 계산이 가능합니다.\n",
    "\n",
    "> a = 'Dr Who'\n",
    "> b = 10\n",
    "> c = a+b\n",
    "Traceback (most recent call last):\n",
    "  File \"<stdin>\", line 1, in <module>\n",
    "TypeError: cannot concatenate 'str' and 'int' objects\n",
    "\n",
    "<참고> <br>\n",
    "> a = 'abc'  <br>\n",
    "> b = ‘123’  # 외형상 숫자같지만, 실제는 문자임<br>\n",
    "> type(a)<br>\n",
    "<type 'str'><br>\n",
    "> type(b)<br>\n",
    "<type 'str'><br>\n",
    "> a+b<br>\n",
    "'abc123'<br>\n"
   ]
  },
  {
   "cell_type": "markdown",
   "metadata": {},
   "source": [
    "\n",
    "> [Quiz] 아래와 같을 때 변수 c 에 저장되어 있는 값은 ?\n",
    "> a = 300\n",
    "> b = 400\n",
    "> c = b - a\n",
    "\n",
    "> ① 100  ② -100  ③ 700\n"
   ]
  },
  {
   "cell_type": "markdown",
   "metadata": {},
   "source": [
    "# 7단계. 변수 이름을 이용하여 프린트 하기"
   ]
  },
  {
   "cell_type": "code",
<<<<<<< Updated upstream
   "execution_count": 63,
   "metadata": {
    "collapsed": false
   },
   "outputs": [
    {
     "name": "stdout",
     "output_type": "stream",
     "text": [
      "abc123\n",
      "type(a)= <class 'str'>\n",
      "type(b)= <class 'str'>\n"
     ]
    }
   ],
=======
   "execution_count": null,
   "metadata": {
    "collapsed": false
   },
   "outputs": [],
>>>>>>> Stashed changes
   "source": [
    "a = 'abc'\n",
    "b = '123'\n",
    "print(a+b)\n",
    "print('type(a)=',type(a))\n",
    "print('type(b)=', type(b))"
   ]
  },
  {
   "cell_type": "code",
<<<<<<< Updated upstream
   "execution_count": 51,
   "metadata": {
    "collapsed": false
   },
   "outputs": [
    {
     "name": "stdout",
     "output_type": "stream",
     "text": [
      "Dr Who,750,1.898977\n",
      "Dr Who, 750 1.90\n",
      "Dr Who,  750 1.90\n"
     ]
    }
   ],
=======
   "execution_count": null,
   "metadata": {
    "collapsed": false
   },
   "outputs": [],
>>>>>>> Stashed changes
   "source": [
    "a = \"Dr Who\"\n",
    "b = 750\n",
    "c = 1.898976543\n",
    "\n",
    "print(\"%s,%d,%f\" %(a,b,c))\n",
    "print(\"%s, %d %.2f\" %(a,b,c))\n",
    "print(\"%s, %4d %.2f\" %(a,b,c))\n"
   ]
  },
  {
   "cell_type": "code",
<<<<<<< Updated upstream
   "execution_count": 52,
   "metadata": {
    "collapsed": false
   },
   "outputs": [
    {
     "name": "stdout",
     "output_type": "stream",
     "text": [
      "Dr S 's age is 20\n"
     ]
    }
   ],
=======
   "execution_count": null,
   "metadata": {
    "collapsed": false
   },
   "outputs": [],
>>>>>>> Stashed changes
   "source": [
    "#[Quiz]\n",
    "a = 'Dr S'\n",
    "b = 'Sir Kim'\n",
    "d = 20\n",
    "e = 80\n",
    "print(\"%s 's age is %d\" %(a,d))\n"
   ]
  },
  {
   "cell_type": "markdown",
   "metadata": {},
   "source": [
    "> ○ format( )\n",
    "\n",
    "> 포맷(format)을 이용해서 프린트 하는 방법을 소개합니다. 포맷(format)을 이용하는 프린트방식은 % 방식보다 개선된 프린트 방식입니다. 왜 구태여 % 대신에 포맷 방법을 사용하는 것일까요 ? \n",
    "\n",
    "> 사용하기가 쉽다는 점입니다. 구태여 변수의 형에 맞게끔 %s, %d, %f를 지정하지 않아도 자동적으로 출력을 해줍니다. "
   ]
  },
  {
   "cell_type": "code",
<<<<<<< Updated upstream
   "execution_count": 53,
   "metadata": {
    "collapsed": false
   },
   "outputs": [
    {
     "name": "stdout",
     "output_type": "stream",
     "text": [
      "Dr S 's age is 20\n"
     ]
    }
   ],
=======
   "execution_count": null,
   "metadata": {
    "collapsed": false
   },
   "outputs": [],
>>>>>>> Stashed changes
   "source": [
    "print(\"{} 's age is {}\".format(a,d))"
   ]
  },
  {
   "cell_type": "code",
<<<<<<< Updated upstream
   "execution_count": 54,
   "metadata": {
    "collapsed": false
   },
   "outputs": [
    {
     "name": "stdout",
     "output_type": "stream",
     "text": [
      "Dr SDr SDr S 's age is 2020Dr SDr S\n"
     ]
    }
   ],
=======
   "execution_count": null,
   "metadata": {
    "collapsed": false
   },
   "outputs": [],
>>>>>>> Stashed changes
   "source": [
    "print(\"{0}{0}{0} 's age is {1}{1}{0}{0}\".format(a,d))"
   ]
  },
  {
   "cell_type": "markdown",
   "metadata": {},
   "source": [
    "# 8단계. 기초함수 소개\n",
    "\n",
    "*(기존의 8,9 순서를 바꿔 보았습니다.)"
   ]
  },
  {
   "cell_type": "markdown",
   "metadata": {},
   "source": [
    "###### (1) range()\n",
    "\n",
    "* for 문을 돌릴 때, 좀 더 쉽게 하는 방법이 없을까요 ?\n",
    "\n",
    "* 0부터 100까지 들어있는 아파트 변수를 만들려면 a = [0,1,2,3,4,5, . (너무 길이서 생략)..., 100] 라고 일일이 다 적어줘야 합니다. 이거 좀 쉽게 하는 방법이 없을까요 ? 아래 range() 함수를 살펴봅시다. 레인지는 영어로 범위라는 뜻입니다. 어디서부터 어디까지라는 뜻이죠. range(10)은 0부터 10이전 자연수, 즉 9까지의 값을 가지는 리스트를 만들어 줍니다. (python 3.* 에서 range 는 리스트를 리턴하지 않고, range 객체를 리턴해 줍니다. \n",
    "\n",
    "> range(10) <br>\n",
    "> [0, 1, 2, 3, 4, 5, 6, 7, 8, 9] <--- python 2.* <br>\n",
    "> range(0, 10)  <--- python 3.*\n",
    "\n",
    "\n",
    "\n",
    "* 시작값, 종료값, 간격값을 인자로 받아서 리스트를 반환시켜 줄수도 있습니다. range(1,10,2)는 1부터 10미만까지 2간격으로 나타나는 요소들을 갖는 리스트입니다. 즉 [1, 3, 5, 7, 9]가 됩니다.\n"
   ]
  },
  {
   "cell_type": "code",
<<<<<<< Updated upstream
   "execution_count": 1,
=======
   "execution_count": 32,
   "metadata": {
    "collapsed": false
   },
   "outputs": [
    {
     "name": "stdout",
     "output_type": "stream",
     "text": [
      "[0, 1, 2, 3, 4, 5, 6, 7, 8, 9, 10, 11, 12, 13, 14, 15, 16, 17, 18, 19, 20, 21, 22, 23, 24, 25, 26, 27, 28, 29, 30, 31, 32, 33, 34, 35, 36, 37, 38, 39, 40, 41, 42, 43, 44, 45, 46, 47, 48, 49, 50, 51, 52, 53, 54, 55, 56, 57, 58, 59, 60, 61, 62, 63, 64, 65, 66, 67, 68, 69, 70, 71, 72, 73, 74, 75, 76, 77, 78, 79, 80, 81, 82, 83, 84, 85, 86, 87, 88, 89, 90, 91, 92, 93, 94, 95, 96, 97, 98, 99]\n",
      "[0, 2, 4, 6, 8, 10, 12, 14, 16, 18, 20, 22, 24, 26, 28, 30, 32, 34, 36, 38, 40, 42, 44, 46, 48, 50, 52, 54, 56, 58, 60, 62, 64, 66, 68, 70, 72, 74, 76, 78, 80, 82, 84, 86, 88, 90, 92, 94, 96, 98]\n"
     ]
    }
   ],
   "source": [
    "a1 = range(100)\n",
    "print(list(a1))\n",
    "\n",
    "\n",
    "a1 = range(0,100,2)\n",
    "print(list(a1))\n",
    "\n",
    "\n",
    "    "
   ]
  },
  {
   "cell_type": "code",
   "execution_count": 16,
>>>>>>> Stashed changes
   "metadata": {
    "collapsed": false
   },
   "outputs": [
    {
     "name": "stdout",
     "output_type": "stream",
     "text": [
<<<<<<< Updated upstream
      "a= range(0, 10)\n",
      "b= range(1, 10, 2)\n"
=======
      "a= <class 'range'>\n",
      "b= <class 'range'>\n",
      "[0, 1, 2, 3, 4, 5, 6, 7, 8, 9] <class 'list'>\n"
>>>>>>> Stashed changes
     ]
    }
   ],
   "source": [
    "a = range(10)\n",
    "b = range(1,10,2)\n",
    "\n",
<<<<<<< Updated upstream
    "print(\"a=\", a)\n",
    "print(\"b=\", b)"
=======
    "print(\"a=\", type(a))\n",
    "print(\"b=\", type(b))\n",
    "\n",
    "# list 변환 \n",
    "a1 = list(a)\n",
    "print(a1,type(a1))"
   ]
  },
  {
   "cell_type": "code",
   "execution_count": 17,
   "metadata": {
    "collapsed": false
   },
   "outputs": [
    {
     "name": "stdout",
     "output_type": "stream",
     "text": [
      "[1, 6, 11, 16]\n"
     ]
    }
   ],
   "source": [
    "# [quiz]\n",
    "\n",
    "a2 = list(range(1,20,5))  # 시작, 끝 미만, 간격\n",
    "print(a2)  # 1, 6, 11, 16 \n",
    "#print(a2[-1])\n"
   ]
  },
  {
   "cell_type": "code",
   "execution_count": 18,
   "metadata": {
    "collapsed": false
   },
   "outputs": [
    {
     "name": "stdout",
     "output_type": "stream",
     "text": [
      "16\n"
     ]
    }
   ],
   "source": [
    "print(a2[-1])"
>>>>>>> Stashed changes
   ]
  },
  {
   "cell_type": "markdown",
   "metadata": {},
   "source": [
    "###### (2)  len()\n",
    "\n",
    " * 어떤 리스트의 크기를 구하고자 할 때는 len() 함수를 사용합니다. a = [1,3,5] 라고 할 때 len(a)는 3을 만들어 냅니다. \n",
    " * 이러한 성질을 이용하여 range(len(a)) 라고 하면 [0,1,2] 라는 리스트가 리턴이 됩니다. 이것을 for문에 종종 활용하게 됩니다."
   ]
  },
  {
   "cell_type": "code",
<<<<<<< Updated upstream
   "execution_count": 2,
=======
   "execution_count": 19,
   "metadata": {
    "collapsed": false,
    "scrolled": true
   },
   "outputs": [
    {
     "data": {
      "text/plain": [
       "3"
      ]
     },
     "execution_count": 19,
     "metadata": {},
     "output_type": "execute_result"
    }
   ],
   "source": [
    "a = [1,2,3]\n",
    "len(a)"
   ]
  },
  {
   "cell_type": "code",
   "execution_count": 20,
   "metadata": {
    "collapsed": false
   },
   "outputs": [
    {
     "data": {
      "text/plain": [
       "3"
      ]
     },
     "execution_count": 20,
     "metadata": {},
     "output_type": "execute_result"
    }
   ],
   "source": [
    "b = [[1,2,3],[21,3],[11111]]\n",
    "len(b) # (1) 3개 (2) 6개  (3) ?"
   ]
  },
  {
   "cell_type": "code",
   "execution_count": 21,
   "metadata": {
    "collapsed": false
   },
   "outputs": [
    {
     "data": {
      "text/plain": [
       "2"
      ]
     },
     "execution_count": 21,
     "metadata": {},
     "output_type": "execute_result"
    }
   ],
   "source": [
    "c = [[[123]],[12]]\n",
    "len(c)"
   ]
  },
  {
   "cell_type": "code",
   "execution_count": 22,
>>>>>>> Stashed changes
   "metadata": {
    "collapsed": false
   },
   "outputs": [
    {
     "name": "stdout",
     "output_type": "stream",
     "text": [
      "length = 6\n",
      "6 * 10 = 60\n"
     ]
    }
   ],
   "source": [
    "a = [1,2,3,3,1,3]\n",
    "b = len(a)\n",
    "print(\"length = %d\" %(b))\n",
    "c = b* 10\n",
    "print(\"%d * 10 = %d\" %(b,c))"
   ]
  },
  {
<<<<<<< Updated upstream
   "cell_type": "raw",
   "metadata": {},
   "source": [
    "[Quiz]   다음 결과값을 알아 맞춰 보셔요. \n",
    "\n",
    "(1)\n",
    "a = [1, 2, 3]\n",
    "print len(a)\n",
    "\n",
    "① 2  ② 3\n",
    "\n",
    "(2)\n",
    "b = ['kim', 'hong', 'lee', 'bae']\n",
    "print len(b)\n",
    "\n",
    "① 3  ② 4"
   ]
  },
  {
   "cell_type": "markdown",
=======
   "cell_type": "code",
   "execution_count": 23,
   "metadata": {
    "collapsed": false
   },
   "outputs": [
    {
     "name": "stdout",
     "output_type": "stream",
     "text": [
      "3\n",
      "4\n"
     ]
    }
   ],
   "source": [
    "#[Quiz]   다음 결과 값을 알아 맞춰 보셔요. \n",
    "\n",
    "#(1)\n",
    "a = [1, 2, 3]\n",
    "print(len(a))\n",
    "\n",
    "#① 2  ② 3\n",
    "\n",
    "#(2)\n",
    "b = ['kim', 'hong', 'lee', 'bae']\n",
    "print(len(b))\n",
    "\n",
    "#① 3  ② 4"
   ]
  },
  {
   "cell_type": "raw",
>>>>>>> Stashed changes
   "metadata": {},
   "source": [
    "###### (3) enumerate()\n",
    "\n",
<<<<<<< Updated upstream
    "* enumerate()를 사용하는데요, 숫자와 인자값을 전달해 줍니다. \n"
=======
    "* enumerate()를 사용하는데요, 숫자와 요소값을 전달해 줍니다. \n"
>>>>>>> Stashed changes
   ]
  },
  {
   "cell_type": "code",
<<<<<<< Updated upstream
   "execution_count": 91,
=======
   "execution_count": 30,
>>>>>>> Stashed changes
   "metadata": {
    "collapsed": false
   },
   "outputs": [
    {
     "name": "stdout",
     "output_type": "stream",
     "text": [
<<<<<<< Updated upstream
      "0 hong\n",
      "1 park\n",
      "2 won\n",
      "3 yeo\n",
      "4 choi\n",
      "5 kim\n",
      "6 herh\n"
=======
      "9\n",
      "['hong', 'sohn', 'park', 'won', 'yeo', 'choi', 'kim', 'herh', 'ha']\n",
      "<class 'enumerate'>\n",
      "<enumerate object at 0x10493df78>\n",
      "0 === hong\n",
      "1 === sohn\n",
      "2 === park\n",
      "3 === won\n",
      "4 === yeo\n",
      "5 === choi\n",
      "6 === kim\n",
      "7 === herh\n",
      "8 === ha\n"
>>>>>>> Stashed changes
     ]
    }
   ],
   "source": [
<<<<<<< Updated upstream
    "a = ['hong','park','won','yeo','choi','kim','herh']\n",
    "for i, each in enumerate(a):\n",
    "    print(i, each)"
=======
    "a = ['hong','sohn','park','won','yeo','choi','kim','herh','ha']\n",
    "\n",
    "\n",
    "print(len(a))\n",
    "print(a)\n",
    "\n",
    "b = enumerate(a)\n",
    "print(type(b))\n",
    "print(b)\n",
    "\n",
    "for i, each in b:\n",
    "    print(\"%d === %s\" %(i, each))\n",
    "\n",
    "#for i, each in enumerate(a):\n",
    "\n",
    "#print(i, each)\n"
>>>>>>> Stashed changes
   ]
  },
  {
   "cell_type": "markdown",
   "metadata": {},
   "source": [
    "# 9단계. 포문(for)"
   ]
  },
  {
<<<<<<< Updated upstream
   "cell_type": "markdown",
   "metadata": {},
   "source": [
    "> ○ for 문\n",
    "> 반복문이라고 합니다. for 가 영어로는 .. 하는 동안 이라는 뜻이 있습니다.  무엇을 하는 동안 반복하셔요라는 기능을 수행합니다. \n",
    "> 아래를 보셔요. 조심할 것은 뒤에 콜론(:)을 적어줘야 합니다. <br>\n",
    ">> for each in [100,200]:<br>\n",
    ">>     print(each)"
=======
   "cell_type": "raw",
   "metadata": {},
   "source": [
    " ○ for 문\n",
    " 반복문이라고 합니다. for 가 영어로는 .. 하는 동안 이라는 뜻이 있습니다.  무엇을 하는 동안 반복하셔요라는 기능을 수행합니다. \n",
    "아래를 보셔요. 조심할 것은 뒤에 콜론(:)을 적어줘야 합니다. <br>\n",
    "\n",
    "for each in [100,200]:\n",
    "    print(each) 들여쓰기"
>>>>>>> Stashed changes
   ]
  },
  {
   "cell_type": "code",
<<<<<<< Updated upstream
   "execution_count": 95,
=======
   "execution_count": 41,
   "metadata": {
    "collapsed": false
   },
   "outputs": [
    {
     "name": "stdout",
     "output_type": "stream",
     "text": [
      "One 1\n",
      "Two 1\n",
      "**************************************************\n",
      "One 2\n",
      "Two 4\n",
      "**************************************************\n",
      "One 3\n",
      "Two 9\n",
      "**************************************************\n",
      "Third : ....... 3\n"
     ]
    }
   ],
   "source": [
    "for each in [1,2,3]:   # each=1, each=2, each=3\n",
    "    print('One', each)\n",
    "    print('Two', each*each)\n",
    "    print(\"*\"*50)\n",
    "print(\"Third : .......\", each)\n"
   ]
  },
  {
   "cell_type": "code",
   "execution_count": 36,
   "metadata": {
    "collapsed": false
   },
   "outputs": [
    {
     "name": "stdout",
     "output_type": "stream",
     "text": [
      "Family name : choi\n",
      "Family name : sohn\n",
      "Family name : noh\n",
      "Family name : han\n",
      "Family name : park\n"
     ]
    }
   ],
   "source": [
    "for each in ['choi','sohn','noh','han','park']:\n",
    "    print(\"Family name :\", each)\n",
    "    "
   ]
  },
  {
   "cell_type": "code",
   "execution_count": 39,
>>>>>>> Stashed changes
   "metadata": {
    "collapsed": false
   },
   "outputs": [
    {
     "name": "stdout",
     "output_type": "stream",
     "text": [
      "0\n",
      "1\n",
      "2\n",
      "3\n",
      "4\n"
     ]
    }
   ],
   "source": [
    "#1) 다음을 예측해 보세요 \n",
    "\n",
    "c = range(5)\n",
    "\n",
    "for i in c:  # 콜론 적어 주었습니다. \n",
    "    print(i)"
   ]
  },
  {
   "cell_type": "code",
<<<<<<< Updated upstream
   "execution_count": 92,
=======
   "execution_count": 40,
>>>>>>> Stashed changes
   "metadata": {
    "collapsed": false
   },
   "outputs": [
    {
     "name": "stdout",
     "output_type": "stream",
     "text": [
      "0*0=0\n",
      "1*1=1\n",
      "2*2=4\n",
      "3*3=9\n",
      "4*4=16\n"
     ]
    }
   ],
   "source": [
    "#2) 다음도 예측이 되나요 ? \n",
    "\n",
    "c = range(5)\n",
    "for i in c:\n",
    "    print('{}*{}={}'.format(i,i,i*i))\n",
    "          "
   ]
  },
  {
   "cell_type": "code",
<<<<<<< Updated upstream
   "execution_count": 94,
   "metadata": {
    "collapsed": false
   },
   "outputs": [
    {
     "name": "stdout",
     "output_type": "stream",
     "text": [
      "1*1=1\n",
      "1*2=2\n",
      "1*3=3\n",
      "1*4=4\n",
      "1*5=5\n",
      "1*6=6\n",
      "1*7=7\n",
      "1*8=8\n",
      "1*9=9\n",
      "******************************\n",
      "2*1=2\n",
      "2*2=4\n",
      "2*3=6\n",
      "2*4=8\n",
      "2*5=10\n",
      "2*6=12\n",
      "2*7=14\n",
      "2*8=16\n",
      "2*9=18\n",
      "******************************\n",
      "3*1=3\n",
      "3*2=6\n",
      "3*3=9\n",
      "3*4=12\n",
      "3*5=15\n",
      "3*6=18\n",
      "3*7=21\n",
      "3*8=24\n",
      "3*9=27\n",
      "******************************\n",
      "4*1=4\n",
      "4*2=8\n",
      "4*3=12\n",
      "4*4=16\n",
      "4*5=20\n",
      "4*6=24\n",
      "4*7=28\n",
      "4*8=32\n",
      "4*9=36\n",
      "******************************\n",
      "5*1=5\n",
      "5*2=10\n",
      "5*3=15\n",
      "5*4=20\n",
      "5*5=25\n",
      "5*6=30\n",
      "5*7=35\n",
      "5*8=40\n",
      "5*9=45\n",
      "******************************\n",
      "6*1=6\n",
      "6*2=12\n",
      "6*3=18\n",
      "6*4=24\n",
      "6*5=30\n",
      "6*6=36\n",
      "6*7=42\n",
      "6*8=48\n",
      "6*9=54\n",
      "******************************\n",
      "7*1=7\n",
      "7*2=14\n",
      "7*3=21\n",
      "7*4=28\n",
      "7*5=35\n",
      "7*6=42\n",
      "7*7=49\n",
      "7*8=56\n",
      "7*9=63\n",
      "******************************\n",
      "8*1=8\n",
      "8*2=16\n",
      "8*3=24\n",
      "8*4=32\n",
      "8*5=40\n",
      "8*6=48\n",
      "8*7=56\n",
      "8*8=64\n",
      "8*9=72\n",
      "******************************\n",
      "9*1=9\n",
      "9*2=18\n",
      "9*3=27\n",
      "9*4=36\n",
      "9*5=45\n",
      "9*6=54\n",
      "9*7=63\n",
      "9*8=72\n",
      "9*9=81\n",
      "******************************\n"
     ]
    }
   ],
=======
   "execution_count": null,
   "metadata": {
    "collapsed": false
   },
   "outputs": [],
>>>>>>> Stashed changes
   "source": [
    "#3) 2개의 중첩된 for 문. \n",
    "# 다음도 예측이 되나요 ? \n",
    "\n",
    "for i in range(1,10):\n",
    "    for j in range(1,10):\n",
<<<<<<< Updated upstream
    "        print('{}*{}={}'.format(i,j,i*j))\n",
=======
    "        #print('{}*{}={}'.format(i,j,i*j)\n",
    "        #print(\"%d * %d = %d\" %(i,j,i*j))\n",
    "        print(i,' * ',j, ' = ', i*j)\n",
>>>>>>> Stashed changes
    "    print('*'*30)\n",
    "        "
   ]
  },
  {
   "cell_type": "code",
<<<<<<< Updated upstream
   "execution_count": 80,
   "metadata": {
    "collapsed": false
   },
   "outputs": [
    {
     "name": "stdout",
     "output_type": "stream",
     "text": [
      "cat, 3\n",
      "window, 6\n",
      "defenestrate, 12\n"
     ]
    }
   ],
=======
   "execution_count": null,
   "metadata": {
    "collapsed": false
   },
   "outputs": [],
>>>>>>> Stashed changes
   "source": [
    "#4) 다음은 파이썬 매뉴얼에 등장하는 예제인데요, 어떻게 작동하는지를 생각해 보세요.\n",
    "# 출처 : https://docs.python.org/2/tutorial/controlflow.html#if-statements\n",
    "\n",
    "# Measure some strings:\n",
    "words = ['cat', 'window', 'defenestrate']\n",
    "for w in words:\n",
    "    print(\"{}, {}\".format(w, len(w)))\n"
   ]
  },
  {
   "cell_type": "markdown",
   "metadata": {},
   "source": [
    " ###### [Quiz] 1부터 10까지 출력하는 프로그램을 만들려고 합니다. x 에 들어가야 하는 내용을 고르셔요.  \n",
    "\n",
    "for i in x : <br>\n",
    "    print(i) <br>\n",
    "\n",
    "① x = [1,2,3,4,5,6,7,8,9,10] <br>\n",
    "② x = [1,10]  <br>\n",
    "③ x = [10,9,8,7,6,5,4,3,2,1] <br>"
   ]
  },
  {
   "cell_type": "markdown",
   "metadata": {},
   "source": [
    "###### [Quiz] 다음 아래 a 값은 얼마일까요? \n",
    "\n",
    "> a = 100 <br> \n",
    "> for each in ['Sohn', 'Noh', 'Park']:  <br>\n",
    ">>        print (\"Your name is {}\".format(each)) <br>\n",
    ">>        a = a + 10 <br>\n",
    ">>        print(a) <br>\n",
    "\n",
    "> print(\"a = {}\".format(a) )\n",
    "\n",
    "(1) 100 (2) 110 (3) 120 (4) 130"
   ]
  },
  {
   "cell_type": "code",
<<<<<<< Updated upstream
   "execution_count": 82,
   "metadata": {
    "collapsed": false
   },
   "outputs": [
    {
     "name": "stdout",
     "output_type": "stream",
     "text": [
      "1\n",
      "2\n",
      "3\n",
      "4\n",
      "5\n",
      "6\n",
      "7\n",
      "8\n",
      "9\n",
      "10\n"
     ]
    }
   ],
=======
   "execution_count": null,
   "metadata": {
    "collapsed": false
   },
   "outputs": [],
>>>>>>> Stashed changes
   "source": [
    "for i in range(1,11):\n",
    "    print(i)"
   ]
  },
  {
   "cell_type": "code",
<<<<<<< Updated upstream
   "execution_count": 85,
   "metadata": {
    "collapsed": false
   },
   "outputs": [
    {
     "name": "stdout",
     "output_type": "stream",
     "text": [
      "Your name is Sohn\n",
      "110\n",
      "Your name is Noh\n",
      "120\n",
      "Your name is Park\n",
      "130\n",
      "a=? 130\n"
     ]
    }
   ],
=======
   "execution_count": null,
   "metadata": {
    "collapsed": false
   },
   "outputs": [],
>>>>>>> Stashed changes
   "source": [
    "a = 100\n",
    "for each in ['Sohn', 'Noh', 'Park']:\n",
    "        print (\"Your name is {}\".format(each))\n",
    "        a = a + 10\n",
    "        print(a)\n",
    "\n",
    "print(\"a=? {}\".format(a) )"
   ]
  },
  {
   "cell_type": "markdown",
   "metadata": {},
   "source": [
    "# 10단계. 파일에서 실행"
   ]
  },
  {
   "cell_type": "markdown",
   "metadata": {},
   "source": [
    "짜잔, 이젠 마지막 단계입니다. IDLE 메뉴에서 파이썬 소스코드를 저장하고, 파일을 불러와서 실행하는 방법을 알아보도록 하겠습니다.\n",
    "\n",
    "###### (1) 파일 저장과 종료\n",
    "> IDLE의 File 메뉴에서 New File 을 선택하여 비어있는 파일을 만든 다음에 아래와 같이 입력해 보셔요.\n",
    "\n",
    "> print “Hello”\n",
    "\n",
    "> 그런 다음에 저장하셔요. \n",
    "> File 메뉴의 Save를 클릭하십시오.파일명을 입력하라는 윈도우가 등장하면 파일명을 입력하십시오. \n",
    "> 그리고 파일의 확장자는 *.py 또는 *.pyw 로 해야 합니다. 보통 *.py로 하면 됩니다. 그럼 파일 저장이 완료되었습니다. \n",
    "> IDLE 창에서 File 메뉴의 Exit을 클릭하면 작업이 종료되면서, IDLE 편집기가 사라집니다.. \n",
    "\n",
    "\n",
    "###### (2) 파일 불러오기 \n",
    "> IDLE을 호출하여, 저장한 파일을 불러옵니다. \n",
    "> File 메뉴의 Open을 클릭하셔서, 조금전에 저장한 파일을 불러옵니다. \n",
    "> 그리고 Run 메뉴 아래에 있는 Run module을 클릭하면 실행이 됩니다. \n",
    "> 단축키가 F5로 설정된 경우, F5만 클릭하면 실행이 됩니다. "
   ]
  },
  {
   "cell_type": "markdown",
   "metadata": {},
   "source": [
    "# 11 단계. 실습"
   ]
  },
  {
   "cell_type": "markdown",
   "metadata": {
    "collapsed": true
   },
   "source": [
    "###### [Quiz-1] \n",
    "\n"
   ]
  },
  {
   "cell_type": "code",
<<<<<<< Updated upstream
   "execution_count": 87,
   "metadata": {
    "collapsed": false
   },
   "outputs": [
    {
     "name": "stdout",
     "output_type": "stream",
     "text": [
      "name = Hong, age=30\n",
      "name = Lee, age=58\n",
      "name = Young, age=55\n",
      "name = Ahn, age=10\n",
      "name = Yun, age=20\n"
     ]
    }
   ],
=======
   "execution_count": null,
   "metadata": {
    "collapsed": false
   },
   "outputs": [],
>>>>>>> Stashed changes
   "source": [
    "name = ['Hong','Lee','Young','Ahn','Yun','Park']\n",
    "age  = ['30','58','55','10','20']\n",
    "\n",
    "for each1, each2 in zip(name,age):\n",
    "    print(\"name = {}, age={}\".format(each1,each2))"
   ]
  },
  {
<<<<<<< Updated upstream
   "cell_type": "raw",
=======
   "cell_type": "markdown",
>>>>>>> Stashed changes
   "metadata": {},
   "source": [
    "###### [Quiz] \n",
    "\n",
    "> 아래와 같은 결과가 나오도록 for문과 range()함수를 이용해서 프로그램을 작성해 보셔요. \n",
    "> 단 아래 박스속에 들어있는 요소들을 이용하여 작성하셔요.  \n",
    "> 그리고 적당한 요소들의 번호를 처음부터 순서에 맞게 나열하시오.  \n",
    "\n",
    "2 * 1 = 2<br>\n",
    "2 * 2 = 4<br>\n",
    "2 * 3 = 6<br>\n",
    "2 * 4 = 8<br>\n",
    "2 * 5 = 10<br>\n",
    "2 * 6 = 12<br>\n",
    "2 * 7 = 14<br>\n",
    "2 * 8 = 16<br>\n",
    "2 * 9 = 18<br>\n",
    "\n",
    "(1) for a in range(\n",
    "(2) 1,10)\n",
    "(3) 0,10)\n",
    "(4) :\n",
    "(5) ;\n",
    "(6) print \"2 * %d = %d\" %(a, 2*a)\n",
    "\n",
    "\n",
    "① 1-2-4-6\n",
    "② 1-2-5-6\n",
    "③ 1-3-4-6\n",
    "④ 1-3-5-6\n"
   ]
  },
  {
   "cell_type": "markdown",
   "metadata": {},
   "source": [
    "###### [Quiz]\n",
    "\n",
    "> y= 2 x $x^2$ + 10 \n",
    "\n",
    "> 일때, x가 1에서 10까지 변화할때, y의 값은 어떻게 변화하는지를 나타내는 프로그림을 작성하시오.\n",
    "\n"
   ]
  },
  {
   "cell_type": "code",
<<<<<<< Updated upstream
   "execution_count": 98,
   "metadata": {
    "collapsed": false
   },
   "outputs": [
    {
     "name": "stdout",
     "output_type": "stream",
     "text": [
      "x=1, y=12.0\n",
      "x=2, y=18.0\n",
      "x=3, y=28.0\n",
      "x=4, y=42.0\n",
      "x=5, y=60.0\n",
      "x=6, y=82.0\n",
      "x=7, y=108.0\n",
      "x=8, y=138.0\n",
      "x=9, y=172.0\n",
      "x=10, y=210.0\n"
     ]
    }
   ],
=======
   "execution_count": null,
   "metadata": {
    "collapsed": false
   },
   "outputs": [],
>>>>>>> Stashed changes
   "source": [
    "for x in range(1,11):\n",
    "    y = 2.*x*x + 10\n",
    "    print(\"x={}, y={}\".format(x,y))"
   ]
  },
  {
   "cell_type": "code",
   "execution_count": null,
   "metadata": {
    "collapsed": true
   },
   "outputs": [],
   "source": []
  }
 ],
 "metadata": {
  "anaconda-cloud": {},
  "kernelspec": {
   "display_name": "Python [conda root]",
   "language": "python",
   "name": "conda-root-py"
  },
  "language_info": {
   "codemirror_mode": {
    "name": "ipython",
    "version": 3
   },
   "file_extension": ".py",
   "mimetype": "text/x-python",
   "name": "python",
   "nbconvert_exporter": "python",
   "pygments_lexer": "ipython3",
   "version": "3.5.2"
  }
 },
 "nbformat": 4,
 "nbformat_minor": 1
}
