{
  "nbformat": 4,
  "nbformat_minor": 0,
  "metadata": {
    "colab": {
      "provenance": [],
      "authorship_tag": "ABX9TyOfOKNtAvhYXS/YoX7JZAyC",
      "include_colab_link": true
    },
    "kernelspec": {
      "name": "python3",
      "display_name": "Python 3"
    },
    "language_info": {
      "name": "python"
    }
  },
  "cells": [
    {
      "cell_type": "markdown",
      "metadata": {
        "id": "view-in-github",
        "colab_type": "text"
      },
      "source": [
        "<a href=\"https://colab.research.google.com/github/skyboong/python_learning/blob/master/ch02_appendix2_ide.ipynb\" target=\"_parent\"><img src=\"https://colab.research.google.com/assets/colab-badge.svg\" alt=\"Open In Colab\"/></a>"
      ]
    },
    {
      "cell_type": "markdown",
      "source": [
        "# Ch02 부록2"
      ],
      "metadata": {
        "id": "AGPWdGIdbtZO"
      }
    },
    {
      "cell_type": "markdown",
      "source": [
        "# 통합개발환경(IDE) 선택하기\n"
      ],
      "metadata": {
        "id": "d06fxaiwTj_i"
      }
    },
    {
      "cell_type": "markdown",
      "source": [
        "- 각자 선호하는 IDE 를 선택합니다.\n",
        "\n",
        "- 참고 :\n",
        "  https://realpython.com/python-ides-code-editors-guide/\n",
        "\n",
        "\n"
      ],
      "metadata": {
        "id": "oiSQ7KTdVSpD"
      }
    },
    {
      "cell_type": "markdown",
      "source": [
        "\n",
        "### IDLE (장점 : 쉬움, 단점 : 간단한 기능)\n",
        "\n",
        "- 파이썬의 기본 IDE인 '아이들(IDLE)' 단축키를 클릭하거나, 터미널에서 idle 을 입력하면, 화면이 등장합니다. 이를 파이썬 셸(shell)이라고 합니다.\n",
        "\n",
        "- 기호 \\>\\>\\> 는 파이썬의 명령 프롬프트입니다. 모든 명령은 \\>\\>\\> 이후에 입력하게 됩니다. 인터액티브하게 쉘과 주거니 받거니 하면서 프로그램을 만들 수 있습니다.\n",
        "\n",
        "- 빠져 나올 때는 exit() 입력합니다.\n",
        "\n"
      ],
      "metadata": {
        "id": "RUQF3xB3c6So"
      }
    },
    {
      "cell_type": "markdown",
      "source": [
        "### Jupyter notebook, 또는 lab (장점 : 쉬움, 단점 : 소프트웨어 개발 목적이 아님)\n"
      ],
      "metadata": {
        "id": "UazpAdksmCs8"
      }
    },
    {
      "cell_type": "markdown",
      "source": [
        "\n",
        "\n",
        "- https://jupyter.org/\n",
        "\n",
        "- 많은 분들이 '주피터 노트북' 또는 '쥬피터 랩'을 사용합니다.\n",
        "\n",
        "- pip install jupyterlab\n",
        "- jupyter-lab\n"
      ],
      "metadata": {
        "id": "FVheRZDcdY_5"
      }
    },
    {
      "cell_type": "markdown",
      "source": [
        "\n",
        "### Colab (장점 : 쉬움, 단점 : 소프트웨어 개발 목적 아님)\n",
        "\n",
        " - https://colab.research.google.com/\n",
        "\n"
      ],
      "metadata": {
        "id": "xPudd1VWmEBF"
      }
    },
    {
      "cell_type": "markdown",
      "source": [
        "### PyCharm  (장점 : 파워풀, 단점 : 로딩 속도 느림, 조금 배워야 함, 유료 버전 구매 필요)\n",
        "\n",
        "- https://www.jetbrains.com/ko-kr/\n",
        "\n",
        "\n"
      ],
      "metadata": {
        "id": "7pgnQIItmGft"
      }
    },
    {
      "cell_type": "markdown",
      "source": [
        "### VS Code (장점 : 파워풀, 단점 : * )\n",
        "\n",
        "- https://code.visualstudio.com/\n",
        "\n"
      ],
      "metadata": {
        "id": "nAGVo_PPmHYt"
      }
    },
    {
      "cell_type": "markdown",
      "source": [
        "## Spyder (장점 :  ?, 단점 : ?)"
      ],
      "metadata": {
        "id": "Y3FvAhluLtmN"
      }
    },
    {
      "cell_type": "markdown",
      "source": [
        "# Editor"
      ],
      "metadata": {
        "id": "18wNrLRIlpcx"
      }
    },
    {
      "cell_type": "markdown",
      "source": [
        "### Sublime (장점 : 빠른 속도, 심플, 단점 : 큰 프로그램 개발은 부적당 )\n",
        "\n",
        "- https://www.sublimetext.com/"
      ],
      "metadata": {
        "id": "s0VIxp1AmFQl"
      }
    },
    {
      "cell_type": "markdown",
      "source": [
        "\n",
        "### Vi or Vim (장점 : *, 단점 * )\n",
        "\n",
        "\n",
        "\n"
      ],
      "metadata": {
        "id": "jKbeATQdmJZ2"
      }
    },
    {
      "cell_type": "markdown",
      "source": [
        "## 추천"
      ],
      "metadata": {
        "id": "V-RNJ0RBc1Lo"
      }
    },
    {
      "cell_type": "markdown",
      "source": [
        "- 처음 베이직 단계일 때는 큰 프로그램 개발을 하지 않기에, 단순하고 쉬운 것을 선택하면 좋을 듯 함 :\n",
        "\n",
        " - 추천 1 : Colab\n",
        " - 추천 2:  Jupyter Lab\n"
      ],
      "metadata": {
        "id": "S8LBq6vAc_Dd"
      }
    },
    {
      "cell_type": "code",
      "source": [],
      "metadata": {
        "id": "ijKZCdDUdQSA"
      },
      "execution_count": null,
      "outputs": []
    }
  ]
}