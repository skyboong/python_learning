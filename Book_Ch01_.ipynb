{
 "cells": [
  {
   "cell_type": "markdown",
   "metadata": {},
   "source": [
    "# 1장 파이썬과 놀기"
   ]
  },
  {
   "cell_type": "markdown",
   "metadata": {},
   "source": [
    "\n",
    "\n",
    "<style>\n",
    "  .quiz {background-color:red;}\n",
    "</style>\n"
   ]
  },
  {
   "cell_type": "markdown",
   "metadata": {},
   "source": [
    "<div class=\"alert alert-block alert-info\">\n",
    "먼저 파이썬과 노는 시간을 갖는 것으로 파이썬 교육을 시작하고자 합니다. 파이썬과 노는 시간은 아래와 같이 진행하고자 합니다.\n",
    "\n",
    "□ 배우게 되는 내용 :\n",
    "    * ① 파이썬 설치\n",
    "    * ② IDLE 실행\n",
    "    * ③ 프린트\n",
    "    * ④ 변수개념 이해\n",
    "    * ⑤ 변수종류 이해(단독, 아파트)\n",
    "    * ⑥ 숫자의 사칙연산 이해하기\n",
    "    * ⑦ 변수를 이용한 프린트 방법\n",
    "    * ⑧ 포 문(for) 접하기\n",
    "    * ⑨ 기초 함수(range, len)소개\n",
    "    * ⑩ 파일에 명령어 저장, 실행\n",
    "    * ⑪ 실습 과제 수행하기\n",
    "</div>\n",
    "<img src=\"./fig1_1.png\", width=800,height=800>"
   ]
  },
  {
   "cell_type": "markdown",
   "metadata": {},
   "source": [
    "<div class=\"alert alert-block alert-info\">\n",
    "<h1> &#9635; 1단계 설치하기 </h1>\n",
    "</div>"
   ]
  },
  {
   "cell_type": "markdown",
   "metadata": {},
   "source": [
    "#### (1.1) Python 설치하기 "
   ]
  },
  {
   "cell_type": "markdown",
   "metadata": {},
   "source": [
    "각자 컴퓨터에 파이썬(Python) 랭귀지를 설치 합시다.  파이썬 홈페이지에 접속하여, 다운로드 화면( http://www.python.org/download)에 들어가서, 관련 파일을 다운로드 받아 설치를 합니다.\n",
    " \n",
    "파이썬을 설치할 때는 두가지 방식이 있습니다. 직접 본인이 파이썬 파일을 설치하고 관련모듈들을  하나씩 설치 할 것인지, 아니면  배포판을 이용할 것인지를 선택해야 하는데요, 본 기초과정에서는 그냥 간단하게 본인이 직접 설치하는 방식으로 해도 크게 문제가 되지는 않을 것입니다. \n",
    "\n",
    "\n",
    "⚽️ 본인 주도\n",
    "\n",
    "본인이 파이썬을 하나씩 배우고 싶다면 python 웹사이트에 들어가서 파일을 다운로드 받아 직접 설치하면 됩니다. 이때, 주의할 점은 파이썬 2.7.*와 3.5.* 중에서 선택을 해야 하는데, 2.7.*을 설치하기를 권고합니다. \n",
    "\n",
    "* python( [https://www.python.org] )\n",
    "\n",
    "이후 커맨드 라인에서 아래와 같이 명령어를 입력하여, 하나씩 필요한 모듈을 설치합니다.  (필요할때 마다 설치)\n",
    " \n",
    "* pip install 모듈이름\n",
    "\n",
    "\n",
    "* pip install --upgrade pip  (먼저 pip 을 업그레이드 함)\n",
    "* pip install numpy\n",
    "* pip install pyside\n",
    "* pip install scipy   # 왜 문제 발생(?) \n",
    "* pip install matplotlib \n",
    "\n",
    "* pip install xlrd\n",
    "* pip install xlsxwriter  \n",
    "* pip install pandas\n",
    "\n",
    "* pip install ipython\n",
    "* pip install jupyter   # 이제 notebook 을 사용하기 위해서 쥬피터를 설치.\n",
    "\n",
    "* pip install ggplot\n",
    "* pip install ggplot # ? i\n"
   ]
  },
  {
   "cell_type": "markdown",
   "metadata": {},
   "source": [
    "⚽️ 배포판 이용\n",
    "\n",
    "본인이 직접 설치하는 것이 번거롭다면, 배포판을 선택하면 됩니다. 배포판은 여러가지가 있는데, 이 중에서 아나콘다(anaconda)를 권고합니다. \n",
    "\n",
    "* anaconda ( https://www.continuum.io )\n",
    "\n",
    "아나콘다는 무료 파이썬 배포판입니다. 454개의 파이썬 패키지 들을 포함하고 있습니다(2016.4.12 기준). 패키지 목록은 https://docs.continuum.io/anaconda/pkg-docs을 참조하십시오. 배포판의 설치 위치는 디폴트로 사용자 디렉토리 내부로 설정 되어있습니다.\n",
    "\n",
    "그런데,  문제가 있습니다. 그래픽유저인터페이스(GUI)를 만들 때 사용하는 pyside는 배포판에 들어있지 않은 상황입니다. 그래서  아나콘다를 설치하고 난 다음에는 아래와 같이 직접 설치해 줘야 합니다. \n",
    "\n",
    "* conda install pyside  # GUI 환경 이용하기 위해서\n",
    "* conda install gensim  # LDA, word2vec 이용하기 위해서, \n",
    "\n",
    "\n",
    "* pip install pyside\n",
    "* pip install ggplot\n"
   ]
  },
  {
   "cell_type": "markdown",
   "metadata": {},
   "source": [
    "<img src=\"./fig1_2.png\", width=500,height=500> Python 홈페이지 [https://www.python.org]"
   ]
  },
  {
   "cell_type": "markdown",
   "metadata": {},
   "source": [
    "<img src=\"./fig1_3.png\", width=500,height=500> 아나콘다 홈페이지 [https://www.continuum.io]"
   ]
  },
  {
   "cell_type": "markdown",
   "metadata": {},
   "source": [
    "###### (1.2) IDE 설치"
   ]
  },
  {
   "cell_type": "markdown",
   "metadata": {},
   "source": [
    "파이썬 코딩은 여러 편집기에서 작업이 가능하지만, 아래와 같은 툴을 활용할 것을 권고합니다. \n",
    "\n",
    "* IDLE(아이들)\n",
    " 파이썬을 설치하면 기본적인 IDE인 IDLE이 설치되어 집니다. 이것만으로도 왠만한 프로그램을 무난하게 작성할 수 있습니다. 그런데, 조금 불편한 점이 있습니다. 그래서 조금 더 편하게 사용할 수 있는 IDE를 선택해야하나하고 고민하게 될 때가 올 것입니다. \n",
    "    \n",
    "\n",
    "* 주피터(jupyter)[http://jupyter.org]\n",
    "  2010년 초기에 IPython을 유행시킨 팀이 만든 쥬피터 노트북 \n",
    "  \n",
    "* PyCharm(파이참)[https://www.jetbrains.com/pycharm]\"\n",
    "  IDLE이 불편하다고 느낄 때 쯤이면, PyCharm 설치를 권고합니다. 프로페셔널은 유료이고(1년 \\$199), 커뮤니티 버전은 무료입니다. 커뮤니티 버전을 다운로드 받아 설치해도  기능이 잘 작동합니다.\n",
    "  PyCharm을 설치한 다음에는 프로젝트를 생성하고 몇 가지 세팅을 해준다. 인터프리터 세팅을 자신이 사용하고자 하는 파이썬 버전에 맞게 해줘야 합니다. \n",
    "    * file >> setting >> project : .. >> project interpreter\n",
    "    파이참은 프로젝트 단위로 진행이 됩니다. 디렉토리내에 하나의 프로젝트를 생성하셔서 작업하면 됩니다."
   ]
  },
  {
   "cell_type": "markdown",
   "metadata": {},
   "source": [
    "<img src=\"./fig1_4.png\", width=500,height=500>"
   ]
  },
  {
   "cell_type": "markdown",
   "metadata": {},
   "source": [
    "<div class=\"alert alert-block alert-info\">\n",
    "<h1> &#9635; 2단계 실행하기 </h1>\n",
    "</div>"
   ]
  },
  {
   "cell_type": "markdown",
   "metadata": {},
   "source": [
    "아이들(IDLE) 단축키를 클릭하면 아래 화면이 등장합니다. 이를 파이썬 셸(shell)이라고 하며, >>> 는 파이썬의 명령 프롬프트입니다. 모든 명령은 >>> 이후에 입력하게 됩니다. 인터액티브하게 쉘과 주거니 받거니 하면서 프로그램을 만들 수 있습니다. 빠져 나올 때는 exit()을 입력하면 됩니다."
   ]
  },
  {
   "cell_type": "markdown",
   "metadata": {},
   "source": [
    "<img src=\"./fig1_5.png\", width=500,height=500>"
   ]
  },
  {
   "cell_type": "markdown",
   "metadata": {},
   "source": [
    "<div class=\"alert alert-block alert-info\">\n",
    "<h1> &#9635; 3단계 프린트 하기 </h1>\n",
    "</div>"
   ]
  },
  {
   "cell_type": "markdown",
   "metadata": {},
   "source": [
    "#### (3.1) 간단한 프린트 배우기\n",
    "\n",
    "아이들(IDLE) 창에다가 명령어를 입력합니다. 아래와 같이 입력해 봅시다.\n",
    "\n",
    "```python\n",
    "> print(\"Hello\")\n",
    "```\n",
    "\n",
    "참고로 버전 3.x와 print 용법은 차이가 납니다. 파이썬 3.x 대에서는 print( “hello”) 로 바뀌었습니다. 번거롭게 괄호를 넣은 데는 이유가 있겠죠. 네 있습니다. 함수로 변경되었습니다.\n",
    "\n",
    "여기까지 성공했다면, 입문자 과정의 1/4을 완성하신 것입니다. 축하합니다. \n",
    "대충 보면 알듯이 print 다음에는 자기가 원하는 글자를 적어주면, 글자가 출력됩니다. \n",
    "\n",
    "```python\n",
    "> print(\"이곳에 자기가 쓰고 싶은 말을 적습니다.\")\n",
    "```\n",
    "\n",
    "원하는 숫자를 적어도 출력이 됩니다.  \n",
    "이때, 글자 앞뒤에는 따옴표, 겹따옴표, 세겹 따옴표를 사용하실 수가 있습니다. 그냥 겹따옴표를 사용해 보겠습니다.\n",
    "\n",
    "[질문] 따옴표,  겹따옴표 차이가 뭔가요?\n",
    "➽ 일단 글자를 출력한다는 점에서는 차이가 없습니다. 마음에 드시는 것을 선택하시면 됩니다. 그런데,  만약에  따옴표(‘ )만 출력하고 싶을 때는 어떻게 해야 할까요. 겹따옴표로 해야 출력이 됩니다.  또한 세겹 따옴표도 있습니다.\n",
    "\n",
    "\n",
    "#### (3.2) 문자, 정수, 실수 프린트\n",
    "\n",
    "자 이 프린트 명령어를 다양하게 알아보겠습니다.\n",
    "\n",
    "○ 문자만 출력하기\n",
    "\n",
    "> print(\"I am Dr. Who !\")\n",
    "\n",
    "\n",
    "○ 문자 + 문자 출력하기\n",
    "\n",
    "> print(\"I am “ + \" Dr. Who !\")\n",
    "\n",
    "\n",
    "○ + : 문자를 연결시켜주는 기능입니다.\n",
    "\n",
    "○ - 는 ? 각자가 테스트 해 보셔요.\n",
    "\n",
    "○ * 도 테스트 해보셔요.\n",
    "\n",
    "> print('abc'*10)"
   ]
  },
  {
   "cell_type": "code",
   "execution_count": 16,
   "metadata": {
    "collapsed": false
   },
   "outputs": [
    {
     "name": "stdout",
     "output_type": "stream",
     "text": [
      "I am Dr. Who !\n",
      "I amDr. Who !\n",
      "abcabcabcabcabcabcabcabcabcabc\n"
     ]
    }
   ],
   "source": [
    "print(\"I am Dr. Who !\")\n",
    "print(\"I am\" + \"Dr. Who !\")\n",
    "print('abc'*10)"
   ]
  },
  {
   "cell_type": "markdown",
   "metadata": {},
   "source": [
    "<div class= \"quiz\">\n",
    "\n",
    "[Quiz] 다음의  결과를 맞춰 보셔요 <br>\n",
    "\n",
    "print(\"\\*\"*30) <p>\n",
    "\n",
    "① *5   ② *****   ③ *55555\n",
    "</div>"
   ]
  },
  {
   "cell_type": "code",
   "execution_count": 32,
   "metadata": {
    "collapsed": false
   },
   "outputs": [
    {
     "name": "stdout",
     "output_type": "stream",
     "text": [
      "******************************\n"
     ]
    }
   ],
   "source": [
    "# Answer \n",
    "print(\"*\"*30)"
   ]
  },
  {
   "cell_type": "markdown",
   "metadata": {},
   "source": [
    "○ 정수와 실수 출력\n",
    "\n",
    "정수는 플러스, 마이너스 값을 가지며, 실수는 소숫점을 가집니다. \n",
    "\n",
    "- 정수 : 0 ,-1, 1,\n",
    "- 실수 : 1.0, 1., 0.1,  소숫점이 있는것\n",
    "\n",
    "> print(100)  # 이건 정수이죠.  <p>\n",
    "> print(0.8)  # 이건 실수 이죠.\n",
    "\n",
    "\n",
    "[주석처리]\n",
    "주석처리는 라인 단위를 기준으로 하는 #과  여러라인을 기준으로하는 '''  ''' 두가지가 있습니다. \n",
    "\n",
    "> 한줄 : \\#  <p>\n",
    "> 여러줄 : ‘’’ ‘’’  \n"
   ]
  },
  {
   "cell_type": "markdown",
   "metadata": {},
   "source": [
    "<td bgcolor=\"#ccffee\">[Quiz] 다음의  결과값은 ? </td>"
   ]
  },
  {
   "cell_type": "markdown",
   "metadata": {},
   "source": [
    "```python\n",
    "\n",
    "a = 100  \n",
    "b = 'Kim'\n",
    "c = 1.  \n",
    "print(a, b, c) \n",
    "\n",
    "① 100 Kim 1.0, ② Kim 100 1.0, ③ 100 Kim 1\n",
    "\n",
    "```"
   ]
  },
  {
   "cell_type": "code",
   "execution_count": 33,
   "metadata": {
    "collapsed": false
   },
   "outputs": [
    {
     "name": "stdout",
     "output_type": "stream",
     "text": [
      "100 Kim 1.0\n"
     ]
    }
   ],
   "source": [
    "a = 100 \n",
    "b = 'Kim'\n",
    "c = 1. \n",
    "print(a, b, c)"
   ]
  },
  {
   "cell_type": "markdown",
   "metadata": {},
   "source": [
    "○ 정수와 실수의 사칙연산 출력\n",
    "\n",
    "사칙연산 연산자는 더하기, 빼기, 곱하기, 나누기 할 때 쓰는 기호입니다."
   ]
  },
  {
   "cell_type": "markdown",
   "metadata": {},
   "source": [
    "| 구분      | 기호  | 설명 |\n",
    "| :---:    |:---: |:---:|\n",
    "| 더하기 | + |  - |  \n",
    "| 빼기  | - | - |\n",
    "| 곱하기 | * | 곱하기 × 가 키보드에 없습니다. 그래서 * 을 사용합니다 |\n",
    "| 나누기 | / | 나누기 ÷ 도 키보드에 없습니다. 그래서 / 을 사용합니다. |  "
   ]
  },
  {
   "cell_type": "code",
   "execution_count": 19,
   "metadata": {
    "collapsed": false
   },
   "outputs": [
    {
     "name": "stdout",
     "output_type": "stream",
     "text": [
      "3\n",
      "2\n",
      "27\n",
      "9.0\n",
      "13.5\n"
     ]
    }
   ],
   "source": [
    "print(1+2)\n",
    "#3\n",
    "print(3-1)\n",
    "#2\n",
    "print(3*9)\n",
    "#27\n",
    "print(27/3)\n",
    "print(27/2)\n",
    "\n"
   ]
  },
  {
   "cell_type": "markdown",
   "metadata": {},
   "source": [
    "<div class=\"alert alert-block alert-warning\">\n",
    "\n",
    "[Quiz] 다음의  결과값은 ? <p>\n",
    "\n",
    "print(1.*10 + 5) <p>\n",
    "\n",
    "① 15.0\n",
    "② 15\n",
    "③ 6\n",
    "\n",
    "</div>"
   ]
  },
  {
   "cell_type": "code",
   "execution_count": 20,
   "metadata": {
    "collapsed": false
   },
   "outputs": [
    {
     "name": "stdout",
     "output_type": "stream",
     "text": [
      "15.0\n"
     ]
    }
   ],
   "source": [
    "print(1.*10 + 5)"
   ]
  },
  {
   "cell_type": "markdown",
   "metadata": {},
   "source": [
    "[참고] 숫자와 문자의 차이점 ? \n",
    "\n",
    "➽ 겉으로 보기에는 숫자로 보여도, 컴퓨터가 인식하는 것은 따옴표 사이에 있는 숫자는 글자로 인식을 합니다.\n",
    "\n",
    "```python\n",
    ">>> print 10    #<-- 숫자로 인식합니다.\n",
    "10\n",
    ">>> print ’10’  #<-- 글자로 인식합니다. \n",
    "10\n",
    "```\n",
    "\n",
    "(참고.. 엑셀도 숫자로 보이지만, 왼쪽에 있으면 문자, 오른쪽에 있으면 숫자)\n",
    "\n",
    "\n",
    "o 다음 결과는 무엇일까요?\n",
    "\n",
    "```python\n",
    ">>> print '1'+'0'\n",
    "10\n",
    "```\n",
    "\n",
    "결과는 10 이 출력이 됩니다. 그런데 이것은 숫자가 아닙니다. 따옴표 사이에 있는 것은 글자입니다. 우리 눈에는 숫자로 보이지만, 컴퓨터는 글자로 인식합니다. "
   ]
  },
  {
   "cell_type": "markdown",
   "metadata": {},
   "source": [
    "[Quiz] 다음 결과는 무엇일까요?\n",
    "\n",
    "```python\n",
    ">>> 10 + '1'\n",
    "\n",
    "\n",
    "Traceback (most recent call last):\n",
    "  File \"<pyshell#0>\", line 1, in <module>\n",
    "    10 + '1'\n",
    "TypeError: unsupported operand type(s) for +: 'int' and 'str'\n",
    "```"
   ]
  },
  {
   "cell_type": "markdown",
   "metadata": {},
   "source": [
    "#### (3.3) %() 이용해서 프린트하기  ✰✰✰✰✰"
   ]
  },
  {
   "cell_type": "markdown",
   "metadata": {},
   "source": [
    "이건 조금 어려운데,  %( ) 를 이용해서 뒤에서 출력 형식을 지정할 수가 있습니다. 이때 문자는 %s, 정수는 %d, 실수는 %f를 사용합니다.\n",
    "\n",
    "○ **문자 출력 (%s)**\n",
    "\n",
    "```python\n",
    ">>> print(\"%s is very good!\" %('Python'))\n",
    "Python is very good!\n",
    "```\n",
    "\n",
    "위 예제는 % 뒤의 ‘Python’이라는 글자를 %s가 위치한 곳에 프린트를 하게 하는 명령입니다. 소문자 s 입니다. s 가 뭐의 약자죠? 문자열(string, str)의 약자 같아요.\n",
    "\n",
    "\n",
    "○ **정수 출력 (%d)**\n",
    "\n",
    "숫자 중에서 정수를 출력하고자 할 때는 아래와 같이 %d를 사용할 수도 있습니다. deximal 십진수라는 뜻 같아요.\n",
    "\n",
    "```python\n",
    ">>> print(\"100+200=%d\" %(100+200))\n",
    "100+200=300\n",
    "```\n",
    "\n",
    "○ **실수 출력 (%f)**\n",
    "\n",
    "플로트(float, 실수) 일 때는,  1.1, 1.2 와 같은 소수점이 있는 숫자일 경우에는  %f를 사용하면 됩니다.\n",
    "\n",
    "```python\n",
    ">>> print \"100.1+200.1=%f\" %(100.1+200.1)\n",
    "100.1+200.1=300.200000\n",
    "```\n",
    "\n",
    "<참고>\n",
    "```python\n",
    ">>> print \"100.1 + 200.1 =%d\" %(100.1 + 200.1)\n",
    "100.1 + 200.1 =300\n",
    "```\n",
    "\n",
    "조금 더 복잡하고 어려운 문제입니다. \n",
    "소수점 자리수를 지정해 주고자 할 때는 이렇게 해주시면 됩니다. 점을 찍고 소숫점 이하 자리수를 입력하면 됩니다.\n",
    "\n",
    "```python\n",
    ">>> print \"%.2f\" %(3.14159)\n",
    "3.14\n",
    ">>> print \"%.3f\" %(3.14159)\n",
    "3.142\n",
    ">>>\n",
    "```\n",
    " "
   ]
  },
  {
   "cell_type": "markdown",
   "metadata": {},
   "source": [
    "\n",
    "[Quiz] 다음의 정수 출력, 문자 출력, 실수 출력의  결과값을  바르게 제시한 것을 고르시오 .\n",
    "\n",
    "```python\n",
    "print(\"100+200=%d\" %(200))\n",
    "print(\"a + b = %s\"  %('ab'))\n",
    "print(\"3.14 * 3. = %f\" %(3.14*3))\n",
    "```\n",
    "\n",
    "① 100+200=200\n",
    "② a + b = a+b\n",
    "③ 3.14 * 3. =9\n",
    "\n",
    "[Quiz] 다음의 결과값으로 맞는 것을 고르시오\n",
    "\n",
    "```python\n",
    ">>> a= 1.123456\n",
    ">>> print \"%.2f\" %(a)  \n",
    "```\n",
    "① 1.123456\n",
    "② 1.12\n",
    "③ 1.1\n",
    "\n",
    "\n"
   ]
  },
  {
   "cell_type": "markdown",
   "metadata": {},
   "source": [
    "#### (3.4) 계산하기\n",
    "\n",
    "프린트를 배우다 보면, 파이썬이 계산을 아주 잘 한다는 것을 눈치챌 수 있습니다. 그런데 파이썬을 이용해서 계산할 때는 주의할 것이 있습니다. 뭘까요?  아래를 봐 보셔요.\n",
    "\n",
    "```python\n",
    ">>> print(4/2)\n",
    "2\n",
    "```\n",
    "\n",
    "그러면 아래를 입력해 보셔요. 어떤 결과가 나오나요?\n",
    "\n",
    "```python\n",
    ">>> print 5/2\n",
    "```\n",
    "(이 부분은 python 2.*에 해당되는 부분입니다.)\n",
    "> 4 ÷ 2 = 2 는 맞습니다. 그런데, 5÷2=2 일까요?  왜 그럴까요 ?. 5/2=2 라고 계산해 버리는데요, 정수 나누기 정수는 정수로 취급해 버리기 때문입니다. > 그래서 아래와 같이 나누기를 할 때에는 한 쪽을 실수로 만들어 주어야 합니다. 실수를 만들어 주는 방법은 뒤에다 소수점을 하나 찍어주면 됩니다. 아주 쉽습니다.\n",
    "\n",
    "```python\n",
    ">>> print(5.0/2)\n",
    "2.5\n",
    ">>> print(5./2)\n",
    "2.5\n",
    ">>> print(5/2.)\n",
    "2.5\n",
    ">>> print(5/2.0)\n",
    "2.5\n",
    "```\n",
    "\n",
    "> 실수 만들어 주는 것이 귀찮다고 생각하시는 분은 from __future__ import division 을 미리 명령해 주면 됩니다.  \n",
    "> (언더바 2개입니다.  from 한칸띄우고 언더바2개입니다.) \n",
    " \n",
    "```python\n",
    ">>> from __future__ import division  #이 명령은 자동으로 정수나누기 정수를 실수(float)화 함\n",
    ">>> 5/2\n",
    "2.5\n",
    "```\n",
    "\n",
    "[참고] : 파이썬 3.* 는 이런 문제를 해결해 놓았습니다.\n",
    "```python\n",
    ">>> 2/5\n",
    "0.4\n",
    ">>>\n",
    ">>> 2/3\n",
    "0.6666666666666666\n",
    "```\n",
    "\n"
   ]
  },
  {
   "cell_type": "code",
   "execution_count": 35,
   "metadata": {
    "collapsed": false
   },
   "outputs": [
    {
     "name": "stdout",
     "output_type": "stream",
     "text": [
      "2.5\n",
      "2.5\n",
      "2.5\n",
      "2.5\n",
      "2.5\n"
     ]
    }
   ],
   "source": [
    "# python 3.* 의 결과 \n",
    "\n",
    "print(5/2)\n",
    "print(5.0/2)\n",
    "print(5./2)\n",
    "print(5/2.)\n",
    "print(5/2.0)"
   ]
  },
  {
   "cell_type": "markdown",
   "metadata": {},
   "source": [
    "<div style=\"background-color:rgba(222,222, 0, 0.0470588); text-align:left; vertical-align: middle; padding:100px 10;\">\n",
    "\n",
    "**물론 암산도 가능하시겠지만, 아래 퀴즈를 풀어보셔요.**\n",
    "파이썬 아이들(IDLE)에 명령어를 입력하셔서 그 결과를 한 번 보도록 하겠습니다.\n",
    "<br>\n",
    "<br>[Quiz] 파이썬 명령창에서 다음을 계산해 보셔요 <br>\n",
    "① 22 × 10\n",
    "② 33 ÷ 20\n",
    "\n",
    "<br><br>[Quiz] 파이썬 명령창에서 다음을 계산하여 결과값을 제시하셔요 <br>\n",
    "\n",
    "① 1098 × 1234 \n",
    "② 3399 ÷ 2098\n",
    "\n",
    "<br><br>[Quiz] 파이썬에서 조심해야 하는 나누기 연산에 대한 질문이다. 다음 질문에 답하셔요 <br>\n",
    "\n",
    " (가) 1/2      (나) 1./2   \n",
    "\n",
    "<br> [Quiz] a = 5/2 일 때 print a 의 결과값은 ? (python 2.7 조건)<br>\n",
    "① 3     ② 2.5     ③ 2\n",
    "\n",
    "\n",
    "<br><br>[Quiz ] 다음은 from __future__ import division의 용법에 관한 질문이다. 아래 결과값은 무엇일까요 ? (python 2.7 조건)<br>\n",
    "\n",
    "# -*- coding: UTF-8 -*-<br> \n",
    "#from __future__ import division<br> \n",
    "\n",
    "a = 5<br> \n",
    "b = 2<br> \n",
    "c = a/b<br> \n",
    "\n",
    "print(c)<br> \n",
    "\n",
    "<br> 아래에서 c의 값은 ? <br>\n",
    "\n",
    "① 2    ② 3     ③ 2.5\n",
    "\n",
    "</div>"
   ]
  },
  {
   "cell_type": "markdown",
   "metadata": {},
   "source": [
    "다시 한번 강조하자면, 우리가 아는  (5/2) = 2.5 이지만, 파이썬 2.7 버전에서는 정수를 정수로 나눌 때는 정수만 돌려준다는 사실을 기억하십시오. \n"
   ]
  },
  {
   "cell_type": "markdown",
   "metadata": {},
   "source": [
    "<div class=\"alert alert-block alert-info\">\n",
    "<h1> &#9635; 4단계  변수 개념 소개 </h1>\n",
    "</div>"
   ]
  },
  {
   "cell_type": "markdown",
   "metadata": {},
   "source": [
    "변수(variables)가 뭔지를 소개해 주려고합니다. 컴퓨터 메모리(RAM)에 만든 집이라고 설명을 하고자 합니다."
   ]
  },
  {
   "cell_type": "markdown",
   "metadata": {},
   "source": [
    "#### (4.1) 컴퓨터 구성 부품"
   ]
  },
  {
   "cell_type": "markdown",
   "metadata": {},
   "source": [
    "컴퓨터 본체는 메모리 + 하드디스크 + CPU + 메인보드 + 그래픽 카드 등등으로  구성되어 있습니다. 쇼핑몰 사이트에 가면 이런 부품의 판매정보를 제공합니다. 이런 부품을 모아서 컴퓨터 본체를 만들 수가 있습니다. 지금 우리는 이 부품 중에서 램(RAM)에 대해서 살펴볼 것입니다. 램이 변수들이 들어갈 방을 저장하는 곳이기 때문입니다.  아래는 램 사진입니다.\n",
    "\n",
    "<img src=\"./fig1_6.png\", width=500,height=500> 삼성전자 128 GB 램[http://www.samsung.com/sec/news/local/samsung-electronics-the-worlds-first-d-128-gigabytes-of-ram-modules-production]"
   ]
  },
  {
   "cell_type": "markdown",
   "metadata": {},
   "source": [
    "#### (4.2) 램 위에 집짓기"
   ]
  },
  {
   "cell_type": "markdown",
   "metadata": {},
   "source": [
    "프로그램을 돌리면, 일단 모든 정보가 램(Ram) 안으로 들어갑니다. 위의 그림에서 까맣게 보이는 곳에 정보를 담을 수 있는 공간이 있습니다. 이곳에 정보를 넣을 집을 만들어 줍니다. 이게 변수(variable)가 저장되는 물리적인 공간이 됩니다. 그래서 이집을 어떻게 짓는가가 중요합니다. 우리 사람들이 살아가는 집이 집주소를 가지듯이 말입니다."
   ]
  },
  {
   "cell_type": "markdown",
   "metadata": {},
   "source": [
    "<div class=\"alert alert-block alert-info\">\n",
    "<h1> &#9635; 5단계 집짓기 (단독, 아파트) </h1>\n",
    "</div>"
   ]
  },
  {
   "cell_type": "markdown",
   "metadata": {},
   "source": [
    "데이타의 다양한 구조를 단독집, 집단집(아파트) 에 비유하여 설명하였습니다.\n",
    "type(), isinstance() 등의 새로운 함수를 소개합니다. \n"
   ]
  },
  {
   "cell_type": "markdown",
   "metadata": {},
   "source": [
    "#### (5.1) 단독집 짓기"
   ]
  },
  {
   "cell_type": "markdown",
   "metadata": {},
   "source": [
    "변수의 종류도 다양한데, 이를 어떻게 설명할까 하다가 메모리에 지어진 집에다 비유해 보았습니다. 사람들이 살아가는 집의 종류가 다양합니다. 단독집, 연립, 아파트 등의 집형태가 있습니다. 그리고 이런 집들이 모여서 마을과  도시를 이룹니다. 변수들 집도 비슷합니다.\n",
    "\n",
    "먼저, 가장 기본이 되는 단독집을 짓는 방법을 알아보겠습니다."
   ]
  },
  {
   "cell_type": "markdown",
   "metadata": {},
   "source": [
    "o 단독집 만들기\n",
    "\n",
    "메모리에 단독집 a를 만듭니다. 이때 a를 변수라고 불러줍니다. 집이름은 영어로 시작해야해야 하고, 특수문자는 안되오니 조심해야 합니다.\n",
    "\n",
    "> a = 'Dr Who'\n",
    "\n",
    "위와 같이하면,  a라는 집이 메모리에 생깁니다. 그리고 그 집에는 ‘Dr Who’라는 글자가 들어갑니다.  그래서 이제 print a 라고 해주면,  글자  a 가 아니라  a 집에 들어가 있는 ‘Dr Who’를 출력해 주게 됩니다.\n",
    "\n",
    "> print(a) <p>\n",
    "> Dr Who"
   ]
  },
  {
   "cell_type": "markdown",
   "metadata": {},
   "source": [
    "o  집 이름 작명법\n",
    " - ▷ 첫글자는 반드시 영어, 또는 언더스코어(underscore)  :   abc, _abc__\n",
    " - ▷ 두번째 글자 이후는 숫자 가능 : a1\n",
    " - ▷ 그러나 특수문자( ? ! 등), 점 사용 못함 : a.b\n",
    " - ▷ 전체적으로는 대소문자 구분함 : abc, Abc\n",
    " - ▷ 변수이름으로 사용할 수 없는 이름 : 예약어\n",
    "\n",
    "아래 키워드는 변수이름으로 사용할 수 없습니다. 파이썬에서 미리 찜해둔 단어들이기에 사용자가 사용할 수가 없습니다. 예약어(reserved words)라고 부릅니다.\n",
    "\n",
    "```python\n",
    ">>> import keyword\n",
    ">>> keyword.kwlist\n",
    "['and', 'as', 'assert', 'break', 'class', 'continue', 'def', 'del', 'elif', 'else', 'except', 'exec', 'finally', 'for', 'from', 'global', 'if', 'import', 'in', 'is', 'lambda', 'not', 'or', 'pass', 'print', 'raise', 'return', 'try', 'while', 'with', 'yield']\n",
    ">>> \n",
    "```"
   ]
  },
  {
   "cell_type": "code",
   "execution_count": 24,
   "metadata": {
    "collapsed": false
   },
   "outputs": [
    {
     "name": "stdout",
     "output_type": "stream",
     "text": [
      "['False', 'None', 'True', 'and', 'as', 'assert', 'break', 'class', 'continue', 'def', 'del', 'elif', 'else', 'except', 'finally', 'for', 'from', 'global', 'if', 'import', 'in', 'is', 'lambda', 'nonlocal', 'not', 'or', 'pass', 'raise', 'return', 'try', 'while', 'with', 'yield']\n"
     ]
    }
   ],
   "source": [
    "import keyword\n",
    "print(keyword.kwlist)"
   ]
  },
  {
   "cell_type": "markdown",
   "metadata": {},
   "source": [
    "[Quiz] 다음중 변수명에 적당한 것을 고르세요  ?\n",
    "\n",
    "① !abc\n",
    "② 1abc\n",
    "③ #abc\n",
    "④ _abc_1234\n",
    "⑤ pass\n",
    "⑥ global\n",
    "\n",
    "(풀이)\n",
    "\n",
    "```python\n",
    ">>> !abc = 100\n",
    "SyntaxError: invalid syntax\n",
    ">>> 1abc = 100\n",
    "SyntaxError: invalid syntax\n",
    ">>> #abc = 100    # 주석처리해 버린 결과임 \n",
    ">>> pass = 100\n",
    "SyntaxError: invalid syntax\n",
    ">>> global = 100\n",
    "SyntaxError: invalid syntax\n",
    ">>> _abc_1234 = 100\n",
    ">>> _abc_1234\n",
    "100\n",
    "\n",
    "```"
   ]
  },
  {
   "cell_type": "markdown",
   "metadata": {},
   "source": [
    "➽ (참고) 카멜케이싱(camel casing) : 변수명을 정할 때 대소문자를 섞어서 표기한다. 이때 글자 모양이 낙타 등과 같다고해서 카멜케이싱이라는 별칭이 붙었다고 하는데, 아뭏튼, 예를 들어서   mymusinname  을 myMusicName 식으로 변수이름을 설정한다."
   ]
  },
  {
   "cell_type": "markdown",
   "metadata": {},
   "source": [
    "o 집에다 값 넣기\n",
    "\n",
    "메모리에 지은 집 a에 100과 200을 차례대로 넣어보시다. 결과 값은 제일 마지막에 넣은 값만 저장하게 됩니다.\n",
    "\n",
    "```python\n",
    ">>> a = 100\n",
    ">>> a = 200\n",
    ">>> print(a)\n",
    "200\n",
    "```\n",
    "\n",
    "변수를 여러 개 만들어 보겠습니다. 그리고 이들 변수를 서로 더해 보겠습니다.\n",
    "\n",
    "```python\n",
    ">>> a = 100\n",
    ">>> b = 200\n",
    ">>> c = 300\n",
    ">>> print(a+b+c)\n",
    "600\n",
    "```\n",
    "\n",
    "<참고> 변수명을 이용한 프린트 방법\n",
    "\n",
    "```python\n",
    ">>> a = 100\n",
    ">>> b = 200\n",
    ">>> c = 300\n",
    ">>> print(\"(Example) %d + %d + %d = %d\" %(a,b,c, a+b+c))\n",
    "(Example) 100 + 200 + 300 = 600\n",
    "```"
   ]
  },
  {
   "cell_type": "markdown",
   "metadata": {},
   "source": [
    "#### (5.2) 아파트에 짓기"
   ]
  },
  {
   "cell_type": "markdown",
   "metadata": {},
   "source": [
    "메모리에 집을 짓는데, 이제 단독주택이 아니라, 아파트를 만들어 보겠습니다. 이런 아파트를 파이썬에서는 '리스트(list)'라고 합니다.\n",
    "\n",
    "o 아파트 만들기\n",
    "\n",
    "   { }  [  ]  (  ) \n",
    "\n",
    "아파트는 울타리를 갖고 있습니다. 그래서 사각형 울타리([ ]) (브래킷(bracket))로 묶어 줍니다. 묶어주는 부호가 [ 과 ] 입니다.  참고로 ( 과 ) 은 튜플 데이타를 만드는데 나중에 소개하도록 하겠습니다. \n",
    "\n",
    "```python\n",
    ">>> a = [100,200,300]\n",
    ">>> print(a)\n",
    "[100, 200, 300]\n",
    "```\n",
    "\n",
    "o 아파트 사는 사람 집에 찾아가기 (리스트 번호 읽고 이해하기)\n",
    "\n",
    "  0 부터 시작한다.\n",
    "\n",
    "아파트는 0층부터 집이 있다고 생각합시다. a 아파트 0층에 사는 아파트 주민을 불러내려면, a 아파트 0층에 사는 사람이라고 지정해 줘야 합니다.\n",
    "\n",
    "```python\n",
    "# 즉, a[0] 이라고 호출해 주면, 100이 불러지게 됩니다.\n",
    "print a[0]\n",
    "\n",
    "# a[1] 은 두번째 집을 불러오게 됩니다.\n",
    "print a[1]\n",
    "\n",
    "# a[2] 는 세번째 집을 불러오게 됩니다.\n",
    "print a[2]\n",
    "\n",
    "100\n",
    "200\n",
    "300\n",
    "```"
   ]
  },
  {
   "cell_type": "markdown",
   "metadata": {},
   "source": [
    "<td bgcolor=\"#ccffee\">[Quiz] 아파트 (리스트)를 잘 이해했는지를 알아봅시다. 아래 결과를 맞춰 보셔요.</td>"
   ]
  },
  {
   "cell_type": "markdown",
   "metadata": {},
   "source": [
    "```python\n",
    "a = [100,200,300,500,400]\n",
    "print(a[0] + a[1])\n",
    "```"
   ]
  },
  {
   "cell_type": "markdown",
   "metadata": {},
   "source": [
    "o 뒤에서부터 읽기\n",
    "\n",
    "-1은 제일 끝을 의미한다. 그런데 a 아파트의 마지막 층에 있는 사람을 어떻게 불러 올까요 ? \n",
    "\n",
    "```python\n",
    "a = [100,200,300,500,400]\n",
    "```\n",
    "\n",
    "이 있다고 합시다. 이때  a[4]라고 해도 됩니다.  그런데 아래의 a에서 제일 마지막 값을 어떻게 불러올까요.\n",
    "\n",
    "```python\n",
    "a = [1,3,1,1,3,111,333,1113,3333,55555,1111,111,111]\n",
    "```\n",
    "\n",
    "a안에 집이 몇 개 있는지를 하나하나 세어서 그 갯수에서 1을 빼 주면 마지막 집에 들어있는 값을 구할 수 있습니다. 그런데 이런 방법은 시간이 많이 소요되고, 좀 헷갈립니다. 그래서 뒤에서 부터 세어 주셔요 라고 파이썬에게 명령을 내리고 싶습니다. 이럴 때 -1을 사용하면 됩니다.\n",
    "\n",
    "```python\n",
    "print a[-1]\n",
    "111\n",
    "```\n",
    "\n",
    "-2는 -1보다 1 더 앞에 있는 것입니다.\n",
    "-3은 -2보다 1 더 앞에 있는 것입니다. "
   ]
  },
  {
   "cell_type": "markdown",
   "metadata": {},
   "source": [
    "<td bgcolor=\"ccffee\"> [Quiz] 결과값을 맞춰 보셔요. </td>"
   ]
  },
  {
   "cell_type": "markdown",
   "metadata": {},
   "source": [
    "```python\n",
    "a = [1, 3, 111, 1111, 3333, 1111, 111, 13333, 333, 22, 1]\n",
    "print a[-1]   # 1\n",
    "```\n",
    "① 1   ② 11     ③ 111\n",
    "\n",
    "```python\n",
    "print a[-1] + a[-2]  #2\n",
    "```\n",
    "\n",
    "① 23    ② 1     ③ 22"
   ]
  },
  {
   "cell_type": "markdown",
   "metadata": {},
   "source": [
    "🌏󰂉 참고 - 집의 종류 알아내기\n",
    "- 소개 받을 것들 : type(), isinstance(), id()\n",
    "\n",
    "○ type()\n",
    "\n",
    "자 이제  문자, 숫자(정수,실수) 변수를 만들어 보겠습니다\n",
    "\n",
    "```python\n",
    ">>> a = 'I am Dr Who !'\n",
    ">>> print(a)\n",
    "I am Dr Who !\n",
    "```\n",
    "\n",
    "여기서 a = 'I am Dr Who !'라는 말은, 램(RAM)안에다  a 라는 이름을 가진 방을 하나 만들었다는 뜻입니다. 그런데 이 방이 어떤 형식의 방인가요. 문자가 들어가는 방인가요, 숫자가 들어가는 방인가요. 문자가 들어갔으니, 문자가 들어간 방이 될것 같은데, 자신할 수가 없네요. 그럴 때에는 type()  함수를 호출합니다.\n",
    "\n",
    "```python\n",
    ">>> type(a)\n",
    "<type 'str'>\n",
    "```\n",
    "\n",
    "자 type 이 str 이라고 알려줍니다. 이것은 문자를 나타냅니다. 그럼  아래 내용을 갖는 변수 b, c 를 만들어 주면, 아래와 같습니다.\n",
    "\n",
    "```python\n",
    ">>> b = 750\n",
    ">>> c = 10.5\n",
    ">>> b\n",
    "750\n",
    ">>> c\n",
    "10.5\n",
    "```\n",
    "\n",
    "이들의 type을 알아내면 아래와 같이 b는 int, c는 float 이 됩니다.  Int 는 정수, float 은 실수를 나타냅니다.\n",
    "\n",
    "```python\n",
    ">>> type(b)\n",
    "<type 'int'>\n",
    ">>> type(c)\n",
    "<type 'float'>\n",
    "```\n",
    "\n",
    "○ isinstance()\n",
    "\n",
    " 나의 타입이 무엇이 맞는지를 확인할 때 사용합니다.\n",
    "\n",
    "```python\n",
    ">>> isinstance\n",
    "<built-in function isinstance>\n",
    ">>> a = [1,2,3]\n",
    ">>> b = [[1,2,3],[4,5,6]]\n",
    ">>> isinstance(a,list)\n",
    "True\n",
    ">>> isinstance(b,list)\n",
    "True\n",
    "\n",
    "\n",
    "#(example)\n",
    ">>> a = 100\n",
    ">>> \n",
    ">>> isinstance(a, int)\n",
    "True\n",
    ">>> True\n",
    "True\n",
    ">>> isinstance(a, str)\n",
    "False\n",
    "\n",
    "```\n",
    "\n",
    "\n",
    "○ id()\n",
    "파이썬 변수의 메모리 주소(Memory address) 를 알고 싶어졌을때, 어떻게 해야할까요. 간단한 방법이 있습니다. 그냥 id()를 입력하면 됩니다.\n",
    "\n",
    "\n",
    "```python\n",
    ">>> id('My name is Dr Who!')\n",
    "4379538968\n",
    ">>> id('My name is Dr Who!')\n",
    "4379538744\n",
    "```\n",
    "\n",
    "위에서 처음의 My name is Dr Who! 이 저장된 주소는 4379538968 이며, 두번째 My name is Dr Who! 이 저장된 주소는 4379538744 입니다. 집주소가 엄청 긴 숫자입니다.\n",
    "\n",
    "```python\n",
    ">>> a = 100\n",
    ">>> b = a\n",
    ">>> c = id(a)\n",
    ">>> d = id(b)\n",
    ">>> c\n",
    "4300258032\n",
    ">>> d\n",
    "4300258032\n",
    ">>> c == d\n",
    "True\n",
    "```"
   ]
  },
  {
   "cell_type": "markdown",
   "metadata": {},
   "source": [
    "(Q) 아래 a의 결과값은 뭘까요 ?\n",
    "\n",
    "```python\n",
    ">>> a = 100\n",
    ">>> b = a\n",
    ">>> \n",
    ">>> id(a)\n",
    "4298162208\n",
    ">>> id(b)\n",
    "4298162208\n",
    ">>> b = 200\n",
    ">>> b\n",
    "200\n",
    ">>> a\n",
    "```\n",
    "\n",
    "(1) 100  (2) 200 "
   ]
  },
  {
   "cell_type": "markdown",
   "metadata": {},
   "source": [
    "<div class=\"alert alert-block alert-info\">\n",
    "<h1> &#9635; 6단계 변수 이용한 사칙연산</h1>\n",
    "</div>"
   ]
  },
  {
   "cell_type": "markdown",
   "metadata": {},
   "source": [
    "#### o (6.1) 사칙 연산  :  + - * /\n",
    "\n",
    "\n",
    "자, 이제 변수명을 이용해서 더하기 빼기를 하는 방법을 배워보겠습니다.\n",
    "\n",
    "```python\n",
    ">>> a = 100\n",
    ">>> b = 10.1\n",
    ">>> c = a+b\n",
    ">>> print(c)\n",
    "110.1\n",
    "```\n",
    "\n",
    "그런데, 주의할 것은 방의 종류가 정수, 실수인 방 끼리는 더하기 빼기가 가능하지만, 문자인 방과는 더하기 빼기가 되지 않는다는 사실입니다. 정수방과 실수방은 더하기 빼기 계산이 가능합니다.\n",
    "\n",
    "```python\n",
    ">>> a = 'Dr Who'\n",
    ">>> b = 10\n",
    ">>> c = a+b\n",
    "Traceback (most recent call last):\n",
    "  File \"<stdin>\", line 1, in <module>\n",
    "TypeError: cannot concatenate 'str' and 'int' objects\n",
    "```\n",
    "\n",
    "<참고>\n",
    "```python\n",
    ">>> a = 'abc'\n",
    ">>> b = ‘123’  # 외형상 숫자같지만, 실제는 문자임\n",
    ">>> type(a)\n",
    "<type 'str'>\n",
    ">>> type(b)\n",
    "<type 'str'>\n",
    ">>> a+b\n",
    "'abc123'\n",
    ">>>\n",
    "```"
   ]
  },
  {
   "cell_type": "raw",
   "metadata": {},
   "source": [
    "a = 'abc'\n",
    "b = '123'\n",
    "print(type(a))\n",
    "print(type(b))"
   ]
  },
  {
   "cell_type": "markdown",
   "metadata": {},
   "source": [
    "[Quiz] 아래와 같을 때 변수 c 에 저장되어 있는 값은 ?\n",
    "\n",
    "```python\n",
    ">>> a = 300\n",
    ">>> b = 400\n",
    ">>> c = b - a\n",
    "```\n",
    "\n",
    "① 100  ② -100  ③ 700"
   ]
  },
  {
   "cell_type": "code",
   "execution_count": 26,
   "metadata": {
    "collapsed": false
   },
   "outputs": [
    {
     "name": "stdout",
     "output_type": "stream",
     "text": [
      "100\n"
     ]
    }
   ],
   "source": [
    "a = 300\n",
    "b = 400\n",
    "c = b-a\n",
    "print(c)"
   ]
  },
  {
   "cell_type": "code",
   "execution_count": null,
   "metadata": {
    "collapsed": true
   },
   "outputs": [],
   "source": []
  },
  {
   "cell_type": "markdown",
   "metadata": {},
   "source": [
    "<div class=\"alert alert-block alert-info\">\n",
    "<h1> &#9635; 7단계 변수 이름을 이용하여 프린트 하기</h1>\n",
    "</div>"
   ]
  },
  {
   "cell_type": "markdown",
   "metadata": {},
   "source": [
    "이 부분을 완료하면, 이번 시간에 접하게 되는 내용 중 절반 이상을 하게 됩니다. 힘을 냅시다.\n",
    "\n",
    "#### (7.1) 규칙이해하기 1\n",
    "\n",
    "변수명을 이용하여 아래와 같이 출력할 수 있습니다.\n"
   ]
  },
  {
   "cell_type": "markdown",
   "metadata": {},
   "source": [
    "```python\n",
    ">>> a = 100\n",
    ">>> b = 200\n",
    ">>> B = a+b\n",
    ">>> print(a,b,B)\n",
    "100 200 300\n",
    "\n",
    ">>> c = 'hani'\n",
    ">>> d = 100\n",
    ">>> e = 1.3\n",
    ">>> print(c,d,e)\n",
    "hani 100 1.3\n",
    "```"
   ]
  },
  {
   "cell_type": "markdown",
   "metadata": {},
   "source": [
    "#### (7.2) 규칙 이해하기 2  \n",
    "\n",
    "문자 %s     정수 %d   실수 %f    (1장 3절 참고)\n",
    "\n",
    "%뒤에 변수명을 기입하여 프린트를 할 수가 있습니다.\n",
    "저는 이런 방법을 주로 사용합니다.\n"
   ]
  },
  {
   "cell_type": "markdown",
   "metadata": {},
   "source": [
    "```python\n",
    ">>> a = \"Dr Who\"\n",
    ">>> b = 750\n",
    ">>> c = 1.8\n",
    ">>>\n",
    ">>> print(\"%s,%d,%f\" %(a,b,c))\n",
    "Dr Who,750,1.800000\n",
    "\n",
    ">>> print(\"%s, %d %.2f\" %(a,b,c))\n",
    "Dr Who, 750 1.80\n",
    "\n",
    ">>> print(\"%s, %4d %.2f\" %(a,b,c))\n",
    "Dr Who,  750 1.80\n",
    "\n",
    ">>> print(\"%10s, %4d, %.3f\" %(a,b,c))\n",
    "    Dr Who,  750, 1.800\n",
    "```"
   ]
  },
  {
   "cell_type": "markdown",
   "metadata": {},
   "source": [
    "#### (7.3) 다른 프린트 방식 (참고) "
   ]
  },
  {
   "cell_type": "markdown",
   "metadata": {},
   "source": [
    "○ format( )\n",
    "\n",
    "포맷(format)을 이용해서 프린트 하는 방법을 소개합니다. 포맷(format)을 이용하는 프린트방식은 % 방식보다 개선된 프린트 방식입니다. 왜 구태여 % 대신에 포맷 방법을 사용하는 것일까요 ? \n",
    "\n",
    "사용하기가 쉽다는 점입니다. 구태여 변수의 형에 맞게끔 %s, %d, %f를 지정하지 않아도 자동적으로 출력을 해줍니다.\n",
    "\n",
    "```python\n",
    ">>> name = \"apple\"\n",
    ">>> height = 10.23\n",
    ">>> count  = 5\n",
    "\n",
    "#<%방법>\n",
    ">>> print(\"name=%s, height=%f, count=%d\" %(name, height, count))\n",
    "name=apple, height=10.230000, count=5\n",
    "\n",
    "#<format방법>\n",
    ">>> print(\"name={}, height={}, count={}\".format(name,height,count))\n",
    "name=apple, height=10.23, count=5\n",
    "```"
   ]
  },
  {
   "cell_type": "code",
   "execution_count": 27,
   "metadata": {
    "collapsed": false
   },
   "outputs": [
    {
     "name": "stdout",
     "output_type": "stream",
     "text": [
      "name=apple, height=10.230000, count=5\n",
      "name=apple, height=10.23, count=5\n"
     ]
    }
   ],
   "source": [
    "name = \"apple\"\n",
    "height = 10.23\n",
    "count  = 5\n",
    "\n",
    "#<%방법>\n",
    "print(\"name=%s, height=%f, count=%d\" %(name, height, count))\n",
    "\n",
    "#<format방법>\n",
    "print(\"name={}, height={}, count={}\".format(name,height,count))"
   ]
  },
  {
   "cell_type": "markdown",
   "metadata": {},
   "source": [
    "그리고, 이것은 나중에 배우겠지만, 다양한 데이타 구조를 출력할 수가 있습니다. 아래 예를 보면 터플(tuple)일 경우에는 %방법으로는 출력을 못하는 경우가 발생 할 수가 있습니다. 이럴 때는 format을 사용하면 작동이 됩니다. 조금 이해하는데 어려운면 이 부분은 일단은 그냥 넘어가도록 하겠습니다.\n",
    "\n",
    "```python\n",
    ">>> a = (1,2,3)\n",
    ">>> print (\"a=%s\" %(a))\n",
    "Traceback (most recent call last):\n",
    "  File \"<stdin>\", line 1, in <module>\n",
    "TypeError: not all arguments converted during string formatting\n",
    ">>>\n",
    ">>> print(\"a={}\".format(a))\n",
    "a=(1, 2, 3)\n",
    ">>>\n",
    ">>> name =\"YS\"\n",
    ">>> age  = 50\n",
    ">>>\n",
    ">>> print(\"Name={}, age={}\".format(name,age))\n",
    "Name=YS, age=50\n",
    "```"
   ]
  },
  {
   "cell_type": "code",
   "execution_count": 28,
   "metadata": {
    "collapsed": false
   },
   "outputs": [
    {
     "ename": "TypeError",
     "evalue": "not all arguments converted during string formatting",
     "output_type": "error",
     "traceback": [
      "\u001b[0;31m---------------------------------------------------------------------------\u001b[0m",
      "\u001b[0;31mTypeError\u001b[0m                                 Traceback (most recent call last)",
      "\u001b[0;32m<ipython-input-28-d00c3762a0ce>\u001b[0m in \u001b[0;36m<module>\u001b[0;34m()\u001b[0m\n\u001b[1;32m      1\u001b[0m \u001b[0ma\u001b[0m \u001b[0;34m=\u001b[0m \u001b[0;34m(\u001b[0m\u001b[0;36m1\u001b[0m\u001b[0;34m,\u001b[0m\u001b[0;36m2\u001b[0m\u001b[0;34m,\u001b[0m\u001b[0;36m3\u001b[0m\u001b[0;34m)\u001b[0m\u001b[0;34m\u001b[0m\u001b[0m\n\u001b[0;32m----> 2\u001b[0;31m \u001b[0mprint\u001b[0m \u001b[0;34m(\u001b[0m\u001b[0;34m\"a=%s\"\u001b[0m \u001b[0;34m%\u001b[0m\u001b[0;34m(\u001b[0m\u001b[0ma\u001b[0m\u001b[0;34m)\u001b[0m\u001b[0;34m)\u001b[0m\u001b[0;34m\u001b[0m\u001b[0m\n\u001b[0m\u001b[1;32m      3\u001b[0m \u001b[0mprint\u001b[0m\u001b[0;34m(\u001b[0m\u001b[0;34m\"a={}\"\u001b[0m\u001b[0;34m.\u001b[0m\u001b[0mformat\u001b[0m\u001b[0;34m(\u001b[0m\u001b[0ma\u001b[0m\u001b[0;34m)\u001b[0m\u001b[0;34m)\u001b[0m\u001b[0;34m\u001b[0m\u001b[0m\n\u001b[1;32m      4\u001b[0m \u001b[0ma\u001b[0m\u001b[0;34m=\u001b[0m\u001b[0;34m(\u001b[0m\u001b[0;36m1\u001b[0m\u001b[0;34m,\u001b[0m \u001b[0;36m2\u001b[0m\u001b[0;34m,\u001b[0m \u001b[0;36m3\u001b[0m\u001b[0;34m)\u001b[0m\u001b[0;34m\u001b[0m\u001b[0m\n\u001b[1;32m      5\u001b[0m \u001b[0mname\u001b[0m \u001b[0;34m=\u001b[0m\u001b[0;34m\"YS\"\u001b[0m\u001b[0;34m\u001b[0m\u001b[0m\n",
      "\u001b[0;31mTypeError\u001b[0m: not all arguments converted during string formatting"
     ]
    }
   ],
   "source": [
    "a = (1,2,3)\n",
    "print (\"a=%s\" %(a))\n",
    "print(\"a={}\".format(a))\n",
    "a=(1, 2, 3)\n",
    "name =\"YS\"\n",
    "age  = 50\n",
    "print(\"Name={}, age={}\".format(name,age))\n",
    "# 아래 에러 메시지 주목하셔요 "
   ]
  },
  {
   "cell_type": "markdown",
   "metadata": {},
   "source": [
    "아래 숫자는 뭘 나타낼까요 ? 추측해 보세요. 숫자를 적어주지 않으면 디폴트로 제일 앞에 있는 {} 는 {0}, 그 다음 {}는 {1} 식으로 숫자가 들어가게 됩니다. 만약에 한 곳에라도 숫자를 입력하게 되면, 나머지 괄호 안에도 숫자를 입력해 주어야 합니다. 자동으로 입력이 되지 않기 때문이죠.\n",
    "\n",
    "```python\n",
    ">>> '{0}, {1}, {2}'.format('a', 'b', 'c')\n",
    "'a, b, c'\n",
    ">>> '{}, {}, {}'.format('a', 'b', 'c')  # 2.7+ only\n",
    "'a, b, c'\n",
    ">>> '{2}, {1}, {0}'.format('a', 'b', 'c')\n",
    "'c, b, a'\n",
    ">>> '{2}, {1}, {0}'.format(*'abc')   # unpacking argument sequence\n",
    "'c, b, a'\n",
    ">>> '{0}{1}{0}'.format('abra', 'cad') # arguments' indices can be repeated\n",
    "'abracadabra'\n",
    "```"
   ]
  },
  {
   "cell_type": "code",
   "execution_count": 29,
   "metadata": {
    "collapsed": false
   },
   "outputs": [
    {
     "data": {
      "text/plain": [
       "'abracadabra'"
      ]
     },
     "execution_count": 29,
     "metadata": {},
     "output_type": "execute_result"
    }
   ],
   "source": [
    "'{0}, {1}, {2}'.format('a', 'b', 'c')\n",
    "'{}, {}, {}'.format('a', 'b', 'c')  # 2.7+ only\n",
    "'{2}, {1}, {0}'.format('a', 'b', 'c')\n",
    "'{2}, {1}, {0}'.format(*'abc')   # unpacking argument sequence\n",
    "'{0}{1}{0}'.format('abra', 'cad') # arguments' indices can be repeated\n"
   ]
  },
  {
   "cell_type": "markdown",
   "metadata": {},
   "source": [
    "실수 소숫점을 표시할 때  {:.1f}와 같이 소숫점 자리를 지정할 수가 있습니다. \n",
    "\n",
    "```python\n",
    ">>> print('{:.1f}'.format(0.111))\n",
    "```\n"
   ]
  },
  {
   "cell_type": "markdown",
   "metadata": {},
   "source": [
    "+, -  기호를 붙이고 싶다면 \n",
    "\n",
    "```python\n",
    ">>> '{:+f}; {:+f}'.format(3.14, -3.14)  # show it always\n",
    "'+3.140000; -3.140000'\n",
    "\n",
    ">>> '{: f}; {: f}'.format(3.14, -3.14)  # show a space for positive numbers\n",
    "' 3.140000; -3.140000'\n",
    ">>> '{:-f}; {:-f}'.format(3.14, -3.14)  # show only the minus -- same as '{:f}; {:f}'\n",
    "'3.140000; -3.140000'\n",
    "\n",
    ">>> # format also supports binary numbers\n",
    ">>> \"int: {0:d};  hex: {0:x};  oct: {0:o};  bin: {0:b}\".format(42)\n",
    "'int: 42;  hex: 2a;  oct: 52;  bin: 101010'\n",
    ">>> # with 0x, 0o, or 0b as prefix:\n",
    ">>> \"int: {0:d};  hex: {0:#x};  oct: {0:#o};  bin: {0:#b}\".format(42)\n",
    "'int: 42;  hex: 0x2a;  oct: 0o52;  bin: 0b101010'\n",
    "```"
   ]
  },
  {
   "cell_type": "markdown",
   "metadata": {},
   "source": [
    "o 지수를 표현하고자 할 때 "
   ]
  },
  {
   "cell_type": "markdown",
   "metadata": {},
   "source": [
    "```python\n",
    ">>> a = 0.23\n",
    ">>> print(a)\n",
    "0.23\n",
    ">>> print \"{:e}\".format(a)\n",
    "2.300000e-01\n",
    ">>> print \"{:.2e}\".format(a)\n",
    "2.30e-01\n",
    "```"
   ]
  },
  {
   "cell_type": "markdown",
   "metadata": {},
   "source": [
    "[Quiz] 아래 출력값은 어떤 것일가요 ? \n",
    "\n",
    "```python\n",
    ">>> a = 1000000\n",
    ">>> print \"{:.2e}\".format(a)\n",
    "```\n",
    "(1) 1.00e+06  (2) 100 \n",
    "\n",
    "\n",
    "[Quiz] 아래 출력값은 어떤 것일가요 ? \n",
    "\n",
    "```python\n",
    "txt2 = \"Total projects : {:,} \".format(1000000000))\n",
    "print txt2\n",
    "```\n",
    "\n",
    "[Quiz] 아래 출력값은 어떤 것일가요 ? \n",
    "\n",
    "```python\n",
    "print \"{\"\n",
    "print \"{}\"\n",
    "```\n"
   ]
  },
  {
   "cell_type": "code",
   "execution_count": null,
   "metadata": {
    "collapsed": true
   },
   "outputs": [],
   "source": []
  },
  {
   "cell_type": "markdown",
   "metadata": {},
   "source": [
    "<div class=\"alert alert-block alert-info\">\n",
    "<h1> &#9635; 8단계. 기초함수 소개</h1>\n",
    "</div>"
   ]
  },
  {
   "cell_type": "markdown",
   "metadata": {},
   "source": [
    "*(기존의 8,9 순서를 바꿔 보았습니다.)"
   ]
  },
  {
   "cell_type": "markdown",
   "metadata": {},
   "source": [
    "###### (8.1) range()"
   ]
  },
  {
   "cell_type": "markdown",
   "metadata": {},
   "source": [
    "* for 문을 돌릴 때, 좀 더 쉽게 하는 방법이 없을까요 ?\n",
    "* 0부터 100까지 들어있는 아파트 변수를 만들려면 a = [0,1,2,3,4,5, . (너무 길이서 생략)..., 100] 라고 일일이 다 적어줘야 합니다. 이거 좀 쉽게 하는 방법이 없을까요 ? \n",
    "\n",
    "* 아래 range() 함수를 살펴봅시다. 레인지는 영어로 범위라는 뜻입니다. 어디서부터 어디까지라는 뜻이죠. \n",
    "* (python 2.*) range(10)은 0부터 10이전 자연수, 즉 9까지의 값을 가지는 리스트를 만들어 줍니다. \n",
    "* (python 3.*) range 는 리스트를 리턴하지 않고, 이터레이터를 리턴해 줍니다. 이터레이터(iterator) \n",
    "[https://docs.python.org/3/tutorial/controlflow.html#the-range-function]\n",
    "\n",
    "```python\n",
    "range(10)\n",
    "[0, 1, 2, 3, 4, 5, 6, 7, 8, 9] #python 2.* \n",
    "range(0, 10)  # python 3.*\n",
    "```\n",
    "\n",
    "* 시작값, 종료값, 간격값을 인자로 받아서 리스트를 반환시켜 줄 수도 있습니다. \n",
    " * range(1,10,2)는 1부터 10미만까지 2간격으로 나타나는 요소들을 갖는 리스트입니다. \n",
    " * 즉 [1, 3, 5, 7, 9]가 됩니다.\n"
   ]
  },
  {
   "cell_type": "code",
   "execution_count": 37,
   "metadata": {
    "collapsed": false
   },
   "outputs": [
    {
     "name": "stdout",
     "output_type": "stream",
     "text": [
      "range(0, 10)\n"
     ]
    }
   ],
   "source": [
    "print(range(10))"
   ]
  },
  {
   "cell_type": "code",
   "execution_count": 38,
   "metadata": {
    "collapsed": false
   },
   "outputs": [
    {
     "name": "stdout",
     "output_type": "stream",
     "text": [
      "[0, 2, 4, 6, 8, 10, 12, 14, 16, 18, 20, 22, 24, 26, 28, 30, 32, 34, 36, 38, 40, 42, 44, 46, 48, 50, 52, 54, 56, 58, 60, 62, 64, 66, 68, 70, 72, 74, 76, 78, 80, 82, 84, 86, 88, 90, 92, 94, 96, 98]\n"
     ]
    }
   ],
   "source": [
    "a1 = range(0,100,2)\n",
    "print(list(a1))"
   ]
  },
  {
   "cell_type": "code",
   "execution_count": 39,
   "metadata": {
    "collapsed": false
   },
   "outputs": [
    {
     "name": "stdout",
     "output_type": "stream",
     "text": [
      "[1, 6, 11, 16]\n"
     ]
    }
   ],
   "source": [
    "a2 = list(range(1,20,5))  # 시작, 끝 미만, 간격\\n\",\n",
    "print(a2)  "
   ]
  },
  {
   "cell_type": "code",
   "execution_count": 41,
   "metadata": {
    "collapsed": false
   },
   "outputs": [
    {
     "name": "stdout",
     "output_type": "stream",
     "text": [
      "16\n"
     ]
    }
   ],
   "source": [
    "print(a2[-1])"
   ]
  },
  {
   "cell_type": "markdown",
   "metadata": {},
   "source": [
    "###### (2)  len()"
   ]
  },
  {
   "cell_type": "markdown",
   "metadata": {},
   "source": [
    "\n",
    "어떤 리스트의 크기를 구하고자 할 때는 len() 함수를 사용합니다. \n",
    "\n",
    "> a = [1,3,5] 라고 할 때 len(a)는 3을 만들어 냅니다.\n",
    "\n",
    "\n",
    "* python 2.* 사용할 때는 이러한 성질을 이용하여 range(len(a)) 라고 하면 [0,1,2] 라는 리스트가 리턴이 됩니다. 이것을 for문에 종종 활용하게 됩니다. \n",
    "\n",
    "\n"
   ]
  },
  {
   "cell_type": "code",
   "execution_count": 48,
   "metadata": {
    "collapsed": false
   },
   "outputs": [
    {
     "name": "stdout",
     "output_type": "stream",
     "text": [
      "4\n",
      "3\n",
      "3\n"
     ]
    }
   ],
   "source": [
    "# 1차원 리스트 \n",
    "a = [1,2,3,'a']\n",
    "\n",
    "# 2차원 리스트 \n",
    "b = [[1,2,3],\n",
    "     [21,3],\n",
    "    [11111]]\n",
    "\n",
    "la = len(a)\n",
    "lb1 = len(b)\n",
    "lb2 = len(b[0])\n",
    "\n",
    "\n",
    "print(la)\n",
    "print(lb1)\n",
    "print(lb2)\n"
   ]
  },
  {
   "cell_type": "markdown",
   "metadata": {},
   "source": [
    "<td bgcolor=\"#ccffee\"> [Quiz]   다음 결과 값을 알아 맞춰 보셔요 </td>"
   ]
  },
  {
   "cell_type": "code",
   "execution_count": 50,
   "metadata": {
    "collapsed": false
   },
   "outputs": [
    {
     "name": "stdout",
     "output_type": "stream",
     "text": [
      "3\n",
      "4\n"
     ]
    }
   ],
   "source": [
    "#(1)\n",
    "a = [1, 2, 3]\n",
    "print(len(a))\n",
    " \n",
    "#① 1 ② 2\n",
    "   \n",
    "#(2)\n",
    "b = ['kim', 'hong', 'lee', 'bae']\n",
    "print(len(b))\n",
    "    \n",
    "#① 3  ② 4"
   ]
  },
  {
   "cell_type": "markdown",
   "metadata": {},
   "source": [
    "#### (3) enumerate()"
   ]
  },
  {
   "cell_type": "code",
   "execution_count": null,
   "metadata": {
    "collapsed": true
   },
   "outputs": [],
   "source": [
    "enumerate()는 숫자(위치)와 요소값을 전달해 줍니다.\n"
   ]
  },
  {
   "cell_type": "code",
   "execution_count": 55,
   "metadata": {
    "collapsed": false
   },
   "outputs": [
    {
     "name": "stdout",
     "output_type": "stream",
     "text": [
      "<class 'enumerate'>\n",
      "<enumerate object at 0x104885b88>\n"
     ]
    }
   ],
   "source": [
    "a = ['hong','sohn','park','won','yeo','choi','kim','herh','ha']\n",
    "\n",
    "b = enumerate(a)\n",
    "print(type(b))\n",
    "print(b)"
   ]
  },
  {
   "cell_type": "code",
   "execution_count": 56,
   "metadata": {
    "collapsed": false
   },
   "outputs": [
    {
     "name": "stdout",
     "output_type": "stream",
     "text": [
      "0, hong\n",
      "1, sohn\n",
      "2, park\n",
      "3, won\n",
      "4, yeo\n",
      "5, choi\n",
      "6, kim\n",
      "7, herh\n",
      "8, ha\n",
      "0 hong\n",
      "1 sohn\n",
      "2 park\n",
      "3 won\n",
      "4 yeo\n",
      "5 choi\n",
      "6 kim\n",
      "7 herh\n",
      "8 ha\n"
     ]
    }
   ],
   "source": [
    "for i, each in b:\n",
    "    print(\"%d, %s\" %(i, each))\n",
    "    \n",
    "for i, each in enumerate(a):\n",
    "    print(i, each)"
   ]
  },
  {
   "cell_type": "markdown",
   "metadata": {},
   "source": [
    "<div class=\"alert alert-block alert-info\">\n",
    "<h1> &#9635; 9단계. 포(for)문</h1>\n",
    "</div>"
   ]
  },
  {
   "cell_type": "markdown",
   "metadata": {},
   "source": [
    " ○ for 문\n",
    "\n",
    "반복문이라고 합니다. for 가 영어로는 .. 하는 동안 이라는 뜻이 있습니다.  \n",
    "무엇을 하는 동안 반복하셔요라는 기능을 수행합니다.\n",
    "\n",
    "아래를 보셔요. 조심할 것은 뒤에 콜론(:)을 적어줘야 합니다."
   ]
  },
  {
   "cell_type": "code",
   "execution_count": 60,
   "metadata": {
    "collapsed": false
   },
   "outputs": [
    {
     "name": "stdout",
     "output_type": "stream",
     "text": [
      "100\n",
      "---\n",
      "200\n",
      "---\n"
     ]
    }
   ],
   "source": [
    "# 예제 \n",
    "\n",
    "for each in [100,200]: # 마지막에 콜론(:) 적어 줌 \n",
    "    print(each)\n",
    "    print(\"---\")  "
   ]
  },
  {
   "cell_type": "code",
   "execution_count": 61,
   "metadata": {
    "collapsed": false
   },
   "outputs": [
    {
     "name": "stdout",
     "output_type": "stream",
     "text": [
      "One 1\n",
      "Two 1\n",
      "**************************************************\n",
      "Third : ....... 1\n",
      "One 2\n",
      "Two 4\n",
      "**************************************************\n",
      "Third : ....... 2\n",
      "One 3\n",
      "Two 9\n",
      "**************************************************\n",
      "Third : ....... 3\n"
     ]
    }
   ],
   "source": [
    "# for문의 작동 순서를 알아 봅시다. \n",
    "\n",
    "for each in [1,2,3]:   # each=1, each=2, each=3\\n\",\n",
    "    print('One', each)\n",
    "    print('Two', each*each)\n",
    "    print(\"*\"*50)\n",
    "    print(\"Third : .......\", each)"
   ]
  },
  {
   "cell_type": "code",
   "execution_count": 63,
   "metadata": {
    "collapsed": false
   },
   "outputs": [
    {
     "name": "stdout",
     "output_type": "stream",
     "text": [
      "Family name : choi\n",
      "Family name : sohn\n",
      "Family name : noh\n",
      "Family name : han\n",
      "Family name : park\n"
     ]
    }
   ],
   "source": [
    "\n",
    "for each in ['choi','sohn','noh','han','park']:\n",
    "    print(\"Family name :\", each)"
   ]
  },
  {
   "cell_type": "code",
   "execution_count": 75,
   "metadata": {
    "collapsed": false
   },
   "outputs": [
    {
     "name": "stdout",
     "output_type": "stream",
     "text": [
      "cat, 3\n",
      "window, 6\n",
      "defenestrate, 12\n"
     ]
    }
   ],
   "source": [
    "# 다음은 파이썬 매뉴얼에 등장하는 예제인데요, 어떻게 작동하는지를 생각해 보세요.\n",
    "\n",
    "words = ['cat', 'window', 'defenestrate']\n",
    "for w in words:\n",
    "    print(\"{}, {}\".format(w, len(w)))"
   ]
  },
  {
   "cell_type": "markdown",
   "metadata": {},
   "source": [
    "(Quiz) 1부터 10까지 출력하는 프로그램을 만들려고 합니다. \n",
    "       x 에 들어가야 하는 내용을 고르셔요.\n",
    "\n",
    "```python\n",
    "for i in x :\n",
    "    print(i)\n",
    "```\n",
    "    \n",
    "① x=  [1,2,3,4,5,6,7,8,9,10]\n",
    "② x = [1,10]\n",
    "③ x = [10,9,8,7,6,5,4,3,2,1]"
   ]
  },
  {
   "cell_type": "code",
   "execution_count": 76,
   "metadata": {
    "collapsed": false
   },
   "outputs": [
    {
     "name": "stdout",
     "output_type": "stream",
     "text": [
      "0\n",
      "1\n",
      "2\n",
      "3\n",
      "4\n"
     ]
    }
   ],
   "source": [
    "#(Quiz)다음을 예측해 보세요\n",
    "\n",
    "c = range(5)\n",
    "for i in c:  # 콜론 적어 주었습니다.\n",
    "    print(i)"
   ]
  },
  {
   "cell_type": "code",
   "execution_count": 77,
   "metadata": {
    "collapsed": false
   },
   "outputs": [
    {
     "name": "stdout",
     "output_type": "stream",
     "text": [
      "0*0=0\n",
      "1*1=1\n",
      "2*2=4\n",
      "3*3=9\n",
      "4*4=16\n"
     ]
    }
   ],
   "source": [
    "#(Quiz) 다음도 예측이 되나요 ?\n",
    "    \n",
    "c = range(5)\n",
    "for i in c:\n",
    "    print('{}*{}={}'.format(i,i,i*i))"
   ]
  },
  {
   "cell_type": "code",
   "execution_count": null,
   "metadata": {
    "collapsed": true
   },
   "outputs": [],
   "source": [
    "# [Quiz] 다음 아래 b 값은 얼마일까요? \n",
    "\n",
    "a = 100\n",
    "\n",
    "for each in ['Sohn', 'Noh', 'Park']:\n",
    "    print (\"Your name is {}\".format(each))\n",
    "    a = a + 10\n",
    "    print(a)\n",
    "    print(\"a = {}\".format(a) )\n",
    "\n",
    "b = a\n",
    "print(\"answer =\",b)\n",
    "# (1) 100 (2) 110 (3) 120 (4) 130"
   ]
  },
  {
   "cell_type": "markdown",
   "metadata": {},
   "source": [
    "#### (9.2) 2차 for 문  "
   ]
  },
  {
   "cell_type": "raw",
   "metadata": {},
   "source": [
    "for문 속에 for을 다시 만들 수도 있습니다. "
   ]
  },
  {
   "cell_type": "code",
   "execution_count": 72,
   "metadata": {
    "collapsed": false
   },
   "outputs": [
    {
     "name": "stdout",
     "output_type": "stream",
     "text": [
      "2*1=2\n",
      "2*2=4\n",
      "2*3=6\n",
      "2*4=8\n",
      "2*5=10\n",
      "2*6=12\n",
      "2*7=14\n",
      "2*8=16\n",
      "2*9=18\n",
      "3*1=3\n",
      "3*2=6\n",
      "3*3=9\n",
      "3*4=12\n",
      "3*5=15\n",
      "3*6=18\n",
      "3*7=21\n",
      "3*8=24\n",
      "3*9=27\n"
     ]
    }
   ],
   "source": [
    "\n",
    "for i in range(2,4):\n",
    "    for j in range(1,10):\n",
    "        print('{}*{}={}'.format(i,j,i*j))\n",
    "        #print('{}*{}={}'.format(i,j,i*j))\n",
    "        #print(\"%d * %d = %d\"%(i,j,i*j))\n",
    "        #print(i,' * ',j, ' = ', i*j)"
   ]
  },
  {
   "cell_type": "markdown",
   "metadata": {},
   "source": [
    "<div class=\"alert alert-block alert-info\">\n",
    "<h1> &#9635; 10단계. 파일에서 실행</h1>\n",
    "</div>"
   ]
  },
  {
   "cell_type": "markdown",
   "metadata": {},
   "source": [
    "짜잔, 이젠 마지막 단계입니다. IDLE 메뉴에서 파이썬 소스코드를 저장하고, 파일을 불러와서 실행하는 방법을 알아보도록 하겠습니다.\n",
    "\n",
    "(1) 파일 저장과 종료\n",
    "\n",
    "IDLE의 File 메뉴에서 New File 을 선택하여 비어있는 파일을 만든 다음에 아래와 같이 입력해 보셔요.\n",
    "\n",
    "```python\n",
    ">>> print(“Hello”)\n",
    "```\n",
    "\n",
    "그런 다음에 저장하셔요. File 메뉴의 Save를 클릭하십시오.파일명을 입력하라는 윈도우가 등장하면 파일명을 입력하십시오. 그리고 파일의 확장자는 *.py 또는 *.pyw 로 해야 합니다. 보통 *.py로 하면 됩니다. 그럼 파일 저장이 완료되었습니다. \n",
    "\n",
    "> 확장자 : *.py, *.pyw\n",
    "\n",
    "IDLE 창에서 File 메뉴의 Exit을 클릭하면 작업이 종료되면서, IDLE 편집기가 사라집니다.. \n",
    "\n",
    "\n",
    "(2) 파일 불러오기 \n",
    "\n",
    "IDLE을 호출하여, 저장한 파일을 불러옵니다. File 메뉴의 Open을 클릭하셔서, 조금 전에 저장한 파일을 불러옵니다. 그리고 Run 메뉴 아래에 있는 Run module을 클릭하면 실행이 됩니다. 단축키가 F5로 설정된 경우, F5만 클릭하면 실행이 됩니다. \n"
   ]
  },
  {
   "cell_type": "code",
   "execution_count": null,
   "metadata": {
    "collapsed": true
   },
   "outputs": [],
   "source": []
  },
  {
   "cell_type": "markdown",
   "metadata": {},
   "source": [
    "<div class=\"alert alert-block alert-info\">\n",
    "<h1> &#9635; 11단계. 실습</h1>\n",
    "</div>"
   ]
  },
  {
   "cell_type": "markdown",
   "metadata": {},
   "source": [
    "아래 문제들은 직접 파일에 작성하셔서 실행을 해 보도록 합시다.\n"
   ]
  },
  {
   "cell_type": "markdown",
   "metadata": {},
   "source": [
    "\n",
    "<td bgcolor=\"#ccffee\">\n",
    "[Quiz-1] 1부터 10까지 출력하는 프로그램을 for 문을 이용해서 작성해 보셔요. 단 아래 요소들을 이용하여 작성하셔요. 적당한 요소들의 번호를 처음부터 순서에 맞게 나열하시오. \n",
    "</td>\n"
   ]
  },
  {
   "cell_type": "raw",
   "metadata": {},
   "source": [
    "```python\n",
    "(1) for i in \n",
    "(2) for i at\n",
    "(3) range(1,10)\n",
    "(4) range(0,11)\n",
    "(5) :\n",
    "(6) ;\n",
    "(7) print(i)\n",
    "\n",
    "```"
   ]
  },
  {
   "cell_type": "code",
   "execution_count": 84,
   "metadata": {
    "collapsed": false
   },
   "outputs": [
    {
     "name": "stdout",
     "output_type": "stream",
     "text": [
      "1\n",
      "2\n",
      "3\n",
      "4\n",
      "5\n",
      "6\n",
      "7\n",
      "8\n",
      "9\n",
      "10\n"
     ]
    }
   ],
   "source": [
    "# 풀이\n",
    "\n",
    "for i in range(1,11):\n",
    "    print(i)"
   ]
  },
  {
   "cell_type": "markdown",
   "metadata": {},
   "source": [
    "<td bgcolor=\"ccffee\">\n",
    "[Quiz-2] 1부터 100까지 덧셈을 구하려고 합니다. 아래 요소들을 나열하여 프로그램을 작성하려고 하는데, 적당한 순서는 어떤 것인가요 ? \n",
    "</td>"
   ]
  },
  {
   "cell_type": "markdown",
   "metadata": {},
   "source": [
    "```python\n",
    "(1) print(\"sum(from 0 to 100) = \", s1)\n",
    "(2) s1 = 0\n",
    "(3) for i in range(1,101):\n",
    "(4)    s1 = s1 + i\n",
    "```\n",
    "① 1-2-3-4\n",
    "② 2-3-4-1"
   ]
  },
  {
   "cell_type": "code",
   "execution_count": 86,
   "metadata": {
    "collapsed": false
   },
   "outputs": [
    {
     "name": "stdout",
     "output_type": "stream",
     "text": [
      "sum(from 0 to 100) =  5050\n"
     ]
    }
   ],
   "source": [
    "s1 = 0\n",
    "for i in range(1,101):\n",
    "    s1 = s1 + i\n",
    "print(\"sum(from 0 to 100) = \", s1)"
   ]
  },
  {
   "cell_type": "code",
   "execution_count": 85,
   "metadata": {
    "collapsed": false
   },
   "outputs": [
    {
     "name": "stdout",
     "output_type": "stream",
     "text": [
      "sum = 5050\n"
     ]
    }
   ],
   "source": [
    "sum1 = 0\n",
    "for i in range(1,101):\n",
    "    sum1 += i\n",
    "print(\"sum =\", sum1)\n"
   ]
  },
  {
   "cell_type": "markdown",
   "metadata": {},
   "source": [
    "<td bgcolor=\"ccffee\">[Quiz-3] 아래와 같은 결과가 나오도록 for문과 range()함수를 이용해서 프로그램을 작성해 보셔요. 단 아래 박스속에 들어있는 요소들을 이용하여 작성하셔요.  그리고 적당한 요소들의 번호를 처음부터 순서에 맞게 나열하시오. </td>"
   ]
  },
  {
   "cell_type": "markdown",
   "metadata": {},
   "source": [
    "\n",
    "```python\n",
    "\n",
    "2 * 1 = 2\n",
    "2 * 2 = 4\n",
    "2 * 3 = 6\n",
    "2 * 4 = 8\n",
    "2 * 5 = 10\n",
    "2 * 6 = 12\n",
    "2 * 7 = 14\n",
    "2 * 8 = 16\n",
    "2 * 9 = 18\n",
    "\n",
    "(1) for a in range(\n",
    "(2) 1,10)\n",
    "(3) 0,10)\n",
    "(4) :\n",
    "(5) ;\n",
    "(6) print \"2 * %d = %d\" %(a, 2*a)\n",
    "\n",
    "\n",
    "① 1-2-4-6\n",
    "② 1-2-5-6\n",
    "③ 1-3-4-6\n",
    "④ 1-3-5-6\n",
    "\n",
    "```\n"
   ]
  },
  {
   "cell_type": "code",
   "execution_count": null,
   "metadata": {
    "collapsed": true
   },
   "outputs": [],
   "source": []
  }
 ],
 "metadata": {
  "anaconda-cloud": {},
  "kernelspec": {
   "display_name": "Python [conda root]",
   "language": "python",
   "name": "conda-root-py"
  },
  "language_info": {
   "codemirror_mode": {
    "name": "ipython",
    "version": 3
   },
   "file_extension": ".py",
   "mimetype": "text/x-python",
   "name": "python",
   "nbconvert_exporter": "python",
   "pygments_lexer": "ipython3",
   "version": "3.5.2"
  }
 },
 "nbformat": 4,
 "nbformat_minor": 1
}
