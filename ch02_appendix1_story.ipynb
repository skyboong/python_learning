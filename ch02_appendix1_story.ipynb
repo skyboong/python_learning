{
  "nbformat": 4,
  "nbformat_minor": 0,
  "metadata": {
    "colab": {
      "provenance": [],
      "toc_visible": true,
      "authorship_tag": "ABX9TyNq3V5h8JlXnXkUC+JpHNvX",
      "include_colab_link": true
    },
    "kernelspec": {
      "name": "python3",
      "display_name": "Python 3"
    },
    "language_info": {
      "name": "python"
    }
  },
  "cells": [
    {
      "cell_type": "markdown",
      "metadata": {
        "id": "view-in-github",
        "colab_type": "text"
      },
      "source": [
        "<a href=\"https://colab.research.google.com/github/skyboong/python_learning/blob/master/ch02_appendix1_story.ipynb\" target=\"_parent\"><img src=\"https://colab.research.google.com/assets/colab-badge.svg\" alt=\"Open In Colab\"/></a>"
      ]
    },
    {
      "cell_type": "markdown",
      "source": [
        "## Ch02 부록1"
      ],
      "metadata": {
        "id": "17RsuzAAbWLo"
      }
    },
    {
      "cell_type": "markdown",
      "source": [
        "\n",
        "# (이야기1) 변수 이름 이용하기 - 램 위에 집짓기\n"
      ],
      "metadata": {
        "id": "f-Z8KZvcuBJN"
      }
    },
    {
      "cell_type": "markdown",
      "source": [
        "\n",
        "- 프로그램을 돌리면, 일단 모든 정보가 램(Ram) 안으로 들어 갑니다. 이곳에 정보를 넣을 집을 만들어 줍니다. 이집을 어떻게 짓는가가 중요합니다. 아래와 같이 코딩을 하게되면,\n",
        "\n",
        "```python\n",
        "name1=100\n",
        "\n",
        "name2='abc'\n",
        "```\n",
        "\n",
        "- 100 이라는 숫자가 메모리 위에 생성 됩니다. 그리고 이 생성된 장소의 이름이 name1이 됩니다. 이제, name1이라는 변수명만 호출하면 그 속에 담겨있는 100 이라는 숫자를 호출할 수가 있게 됩니다.\n",
        "\n"
      ],
      "metadata": {
        "id": "H6bzFLuLRB0n"
      }
    },
    {
      "cell_type": "code",
      "source": [
        "name = 'Geeldong'\n",
        "\n",
        "print(name)\n"
      ],
      "metadata": {
        "colab": {
          "base_uri": "https://localhost:8080/"
        },
        "id": "mH3EsWxJuRR5",
        "outputId": "bb4a4220-c0de-41d9-93b3-586efd46e9ac"
      },
      "execution_count": null,
      "outputs": [
        {
          "output_type": "stream",
          "name": "stdout",
          "text": [
            "Geeldong\n"
          ]
        }
      ]
    },
    {
      "cell_type": "code",
      "source": [
        "# sol\n",
        "\n",
        "age = 20\n",
        "\n",
        "print(age)"
      ],
      "metadata": {
        "colab": {
          "base_uri": "https://localhost:8080/"
        },
        "id": "Gyhgd_1bubYR",
        "outputId": "8f6eff49-de68-4bfa-acf4-c952643962dd"
      },
      "execution_count": null,
      "outputs": [
        {
          "output_type": "stream",
          "name": "stdout",
          "text": [
            "20\n"
          ]
        }
      ]
    },
    {
      "cell_type": "code",
      "source": [
        "print(name, age)"
      ],
      "metadata": {
        "colab": {
          "base_uri": "https://localhost:8080/"
        },
        "id": "B6Pxdfbvuxt0",
        "outputId": "5d6fcff1-1b8c-49ca-a377-450789472083"
      },
      "execution_count": null,
      "outputs": [
        {
          "output_type": "stream",
          "name": "stdout",
          "text": [
            "Geeldong 20\n"
          ]
        }
      ]
    },
    {
      "cell_type": "markdown",
      "source": [
        "# (이야기 2) 집짓기 (단독, 아파트)\n"
      ],
      "metadata": {
        "id": "fQl1vOX6uzsE"
      }
    },
    {
      "cell_type": "markdown",
      "source": [
        "\n",
        "램 위에 집을 지어 보겠습니다. 데이타의 다양한 구조를 단독집, 공동집(아파트)에 비유하여 설명하였습니다.\n",
        "\n",
        "## 단독집\n",
        "\n",
        "사람들이 살아가는 집의 종류가 다양합니다. 단독집, 연립, 아파트 등의 집형태가 있습니다. 그리고 이런 집들이 모여서 마을과  도시를 이룹니다. 변수들 집도 비슷합니다. 먼저, 가장 기본이 되는 단독집을 짓는 방법을 알아보겠습니다.\n",
        "\n",
        "메모리에 단독집 a를 만듭니다. 이때 a를 변수라고 불러줍니다. 집이름은 문자(영어, 한글) 또는 언더스코어(_)로 시작해야해야 합니다. 그러나 특수 문자는 안  되니 조심해야 합니다.\n",
        "\n",
        "```python\n",
        "a = 100\n",
        "```\n",
        "\n",
        "위와 같이하면, 램 내부에 a라는 집이 생깁니다. 그리고 그 집에는 100 라는 숫자가 들어갑니다. 그래서 이제 print 해주면,  글자 a 가 아니라  a 집에 들어가 있는 100을 출력해 주게 됩니다.\n",
        "\n",
        "```python\n",
        "print(a)\n",
        "100\n",
        "```\n",
        "\n"
      ],
      "metadata": {
        "id": "yKR1y-v-vr17"
      }
    },
    {
      "cell_type": "markdown",
      "source": [
        "### 집에다 값 하나씩 넣기\n",
        "\n",
        "메모리에 지은 집 a에 100과 200을 차례대로 넣어 봅시다. 결과 값은 제일 마지막에 넣은 값만 저장하게 됩니다.\n",
        "\n",
        "```python\n",
        "a = 100\n",
        "a = 200\n",
        "print(a)\n",
        "\n",
        "200\n",
        "```\n",
        "\n",
        "변수를 여러 개 만들어 보겠습니다. 그리고 이들 변수를 서로 더해 보겠습니다.\n",
        "\n",
        "```python\n",
        "a = 100\n",
        "b = 200\n",
        "c = 300\n",
        "print(a+b+c)\n",
        "\n",
        "600\n",
        "```\n",
        "\n",
        "\n"
      ],
      "metadata": {
        "id": "ODxy5OD-vZcI"
      }
    },
    {
      "cell_type": "markdown",
      "source": [
        "## 아파트\n"
      ],
      "metadata": {
        "id": "C5qttdsZvcuB"
      }
    },
    {
      "cell_type": "markdown",
      "source": [
        "\n",
        "이제는 메모리에 집을 짓는데, 이제 단독주택이 아니라, 아파트를 만들어 보겠습니다. 아파트에는 여러 가구가 모여 살듯이, 리스트(list)에는 여러개의 값들을 담을 수 있습니다.\n",
        "\n",
        "\n",
        "\n"
      ],
      "metadata": {
        "id": "w6RpY_IAvv3z"
      }
    },
    {
      "cell_type": "markdown",
      "source": [
        "### 울타리 조심  \\[ \\] ( ) { }\n"
      ],
      "metadata": {
        "id": "z8GS9FU8vfVq"
      }
    },
    {
      "cell_type": "markdown",
      "source": [
        "\n",
        "- 파이썬에서 사용하는 울타리는 크게 3가지 종류가 있습니다. 여기서는 직각 울타리 \\[ , \\]을 이용하는 경우를 설명합니다.\n",
        "\n",
        "- 아파트는 울타리를 갖고 있습니다. 사각 울타리(\\[ \\])로 묶어 줍니다.  \n",
        "\n",
        " * 대괄호, 스퀘어 브래킷(square bracket))\n",
        "\n",
        "- 참고로 괄호( 과 ) 은 튜플 데이타를 만드는 데 나중에 소개하도록 하겠습니다.\n",
        "\n",
        "```python\n",
        "a = [100,200,300]\n",
        "print(a)\n",
        "\n",
        "[100, 200, 300]\n",
        "```"
      ],
      "metadata": {
        "id": "LEcJBiLLYCVt"
      }
    }
  ]
}