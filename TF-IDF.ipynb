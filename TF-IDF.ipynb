{
 "cells": [
  {
   "cell_type": "markdown",
   "metadata": {},
   "source": [
    "# raw data "
   ]
  },
  {
   "cell_type": "code",
   "execution_count": 2,
   "metadata": {
    "collapsed": false
   },
   "outputs": [],
   "source": [
    "Document1 = \"Word1 Word1 Word1 Word1 Word2 Word3 Word1\"\n",
    "Document2 = \"Word2 Word3 Word3\"\n",
    "Document3 = \"Word1 Word1 Word2 Word1\"\n",
    "Doculist = []\n",
    "\n",
    "for each in [Document1, Document2, Document3]:\n",
    "    Doculist.append(each.split())\n"
   ]
  },
  {
   "cell_type": "code",
   "execution_count": 3,
   "metadata": {
    "collapsed": false
   },
   "outputs": [
    {
     "name": "stdout",
     "output_type": "stream",
     "text": [
      "[['Word1', 'Word1', 'Word1', 'Word1', 'Word2', 'Word3', 'Word1'], ['Word2', 'Word3', 'Word3'], ['Word1', 'Word1', 'Word2', 'Word1']]\n"
     ]
    }
   ],
   "source": [
    "print(Doculist)"
   ]
  },
  {
   "cell_type": "markdown",
   "metadata": {},
   "source": [
    "#  TF(term frequency, 단어 빈도수) 계산"
   ]
  },
  {
   "cell_type": "code",
   "execution_count": 13,
   "metadata": {
    "collapsed": false
   },
   "outputs": [
    {
     "name": "stdout",
     "output_type": "stream",
     "text": [
      ">>> df1 = \n",
      "    Word1  Word2  Word3\n",
      "0    5.0      1    1.0\n",
      "1    0.0      1    2.0\n",
      "2    3.0      1    0.0\n"
     ]
    }
   ],
   "source": [
    "from collections import defaultdict\n",
    "import pandas as pd\n",
    "from pandas import DataFrame,Series\n",
    "\n",
    "\n",
    "dic_list = []\n",
    "for each_docu in Doculist:\n",
    "    dic1 = defaultdict(int)\n",
    "    for each_word in each_docu:\n",
    "        dic1[each_word] += 1\n",
    "    dic_list.append(dic1)\n",
    "\n",
    "df1 = DataFrame(dic_list)\n",
    "df1 = df1.fillna(0)\n",
    "print(\">>> df1 = \\n\",df1)\n",
    "\n"
   ]
  },
  {
   "cell_type": "markdown",
   "metadata": {},
   "source": [
    "# tf(t,d) : 표준화(normalization)"
   ]
  },
  {
   "cell_type": "markdown",
   "metadata": {},
   "source": [
    "\\begin{equation*}\n",
    "tf(t,d) = 0.5 + 0.5 * \\frac{ f_{t,d} }{ max \\{{f_{t',d} : t' \\in d }\\} }\n",
    "\\end{equation*}"
   ]
  },
  {
   "cell_type": "code",
   "execution_count": 17,
   "metadata": {
    "collapsed": false
   },
   "outputs": [
    {
     "name": "stdout",
     "output_type": "stream",
     "text": [
      "0    5.0\n",
      "1    2.0\n",
      "2    3.0\n",
      "dtype: float64\n"
     ]
    }
   ],
   "source": [
    "\n",
    "tf_max = df1.max(axis=1)\n",
    "print(tf_max)\n"
   ]
  },
  {
   "cell_type": "code",
   "execution_count": 19,
   "metadata": {
    "collapsed": false
   },
   "outputs": [
    {
     "name": "stdout",
     "output_type": "stream",
     "text": [
      "   Word1     Word2  Word3\n",
      "0    1.0  0.600000    0.6\n",
      "1    0.5  0.750000    1.0\n",
      "2    1.0  0.666667    0.5\n"
     ]
    }
   ],
   "source": [
    "df2 = 0.5 + 0.5 * df1.divide(tf_max, axis=0) # 0은 ..\n",
    "print(df2)"
   ]
  },
  {
   "cell_type": "code",
   "execution_count": 20,
   "metadata": {
    "collapsed": false
   },
   "outputs": [
    {
     "name": "stdout",
     "output_type": "stream",
     "text": [
      "   Word1  Word2  Word3\n",
      "0    6.0      2    2.0\n",
      "1    1.0      2    3.0\n",
      "2    4.0      2    1.0\n"
     ]
    }
   ],
   "source": [
    "# test \n",
    "df3 = 1 + df1\n",
    "print(df3)"
   ]
  },
  {
   "cell_type": "code",
   "execution_count": 21,
   "metadata": {
    "collapsed": false
   },
   "outputs": [
    {
     "data": {
      "text/plain": [
       "0.6666666666666666"
      ]
     },
     "execution_count": 21,
     "metadata": {},
     "output_type": "execute_result"
    }
   ],
   "source": [
    "0.5 + 0.5 * 1/3."
   ]
  },
  {
   "cell_type": "code",
   "execution_count": null,
   "metadata": {
    "collapsed": true
   },
   "outputs": [],
   "source": []
  }
 ],
 "metadata": {
  "kernelspec": {
   "display_name": "Python 3",
   "language": "python",
   "name": "python3"
  },
  "language_info": {
   "codemirror_mode": {
    "name": "ipython",
    "version": 3
   },
   "file_extension": ".py",
   "mimetype": "text/x-python",
   "name": "python",
   "nbconvert_exporter": "python",
   "pygments_lexer": "ipython3",
   "version": "3.6.0"
  }
 },
 "nbformat": 4,
 "nbformat_minor": 2
}
