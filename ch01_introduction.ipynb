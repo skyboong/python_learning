{
  "nbformat": 4,
  "nbformat_minor": 0,
  "metadata": {
    "colab": {
      "provenance": [],
      "toc_visible": true,
      "authorship_tag": "ABX9TyNLOAbMk1XUns1gvOQYNYGh",
      "include_colab_link": true
    },
    "kernelspec": {
      "name": "python3",
      "display_name": "Python 3"
    },
    "language_info": {
      "name": "python"
    }
  },
  "cells": [
    {
      "cell_type": "markdown",
      "metadata": {
        "id": "view-in-github",
        "colab_type": "text"
      },
      "source": [
        "<a href=\"https://colab.research.google.com/github/skyboong/python_learning/blob/master/ch01_introduction.ipynb\" target=\"_parent\"><img src=\"https://colab.research.google.com/assets/colab-badge.svg\" alt=\"Open In Colab\"/></a>"
      ]
    },
    {
      "cell_type": "markdown",
      "source": [
        "## BK 파이썬 강의 1"
      ],
      "metadata": {
        "id": "wavbMXjSSlMF"
      }
    },
    {
      "cell_type": "markdown",
      "source": [
        "- 날짜 : (2023.07)\n"
      ],
      "metadata": {
        "id": "iioa_W64TNhZ"
      }
    },
    {
      "cell_type": "markdown",
      "source": [
        "\n",
        "\n",
        "## 1 머리말\n",
        "\n"
      ],
      "metadata": {
        "id": "hAscCatkTLIa"
      }
    },
    {
      "cell_type": "markdown",
      "source": [
        "\n",
        "✅ **파이썬은 '쉽다'. 정말 그럴까요**\n",
        "\n",
        "프로그램 경험이 없는 사람들을 위한 파이썬을 소개하면 좋겠다 싶어 주위분들에게 파이썬을 소개했습니다. 그런데 썩 반응이 좋지 않았습니다. 많은 분들이 파이썬이 어렵다고 말합니다. C나 포트란을 대학시절에 배웠던 분들은 프로그래머들은 파이썬이 '정말' 배우기 쉬운 언어라고 말하지만, 대학에서 프로그램 언어를 공부하지 않으신 분들은 파이썬을 배우는 것이 만만치 않다고 합니다.\n",
        "\n",
        "\n",
        "✅ **조금씩**\n",
        "\n",
        "많이 하기 보다는 조금씩 배우면서 '문제 해결의 기쁨'을 맛보면서, '조금씩' 배우는 것이 중요합니다. 하루에 15분, 그렇게 일주일, 이주일, 한 달을 보내면, 어느덧 새로운 단계가 궁금해 지게 될 것입니다. 조금씩 배워야 합니다. 많이 배우면 질립니다.\n",
        "\n",
        "✅ **문제 해결**\n",
        "\n",
        "뭔가 새롭게 배운다는 것은 쉽지 않은 일입니다. 그런데, 이게 뭔가 도움을 주는 것이라는 것을 알게 된다면, 그때 진가를 알아보고 배우게 됩니다. 본인들의 업무와 결부되어 지루한 업무를 비교적 수월하게 할 수 있다는 것을 알게 되는 순간, 이제 본격적으로 파이썬을 배우고, 즐기게 됩니다.\n"
      ],
      "metadata": {
        "id": "wivsvKnQT3R2"
      }
    },
    {
      "cell_type": "markdown",
      "source": [
        "## 2 과정"
      ],
      "metadata": {
        "id": "DoOE-SqcUXaN"
      }
    },
    {
      "cell_type": "markdown",
      "source": [
        "\n",
        "\n",
        "파이썬의 기초 문법을 소개합니다.\n",
        "\n",
        "\n",
        "### 과정 1\n"
      ],
      "metadata": {
        "id": "vhMxFmxGT5lq"
      }
    },
    {
      "cell_type": "markdown",
      "source": [
        "\n",
        "> Part I 기초\n",
        "- Ch1 : 머리말   (2023.6.30)\n",
        "- Ch2 : 파이썬과 놀기\n",
        "  * 부록1 변수와 램, 단독주택과 아파트 등\n",
        "  * 부록2 IDE 소개\n",
        "  * 부록3 파이썬의 몇가지 기본 사항들(2023.6.30)\n",
        "- Ch3 : 프린트\n",
        "    \n",
        "> Part II 여러가지 데이터 타입\n",
        "- Ch4 문자열\n",
        "- Ch5 숫자\n",
        "- Ch6 리스트\n",
        "- ch7 튜플\n",
        "- Ch8 사전\n",
        "- Ch9 집합\n",
        "- Ch10 클래스\n",
        "\n",
        "> Part III 제어\n",
        "- Ch11 제어\n",
        "\n",
        "> Part IV 함수\n",
        " - Ch12 빌트인 함수\n",
        "\n",
        "> Part V 모듈\n",
        "- Ch13 주요 빌트인 모듈(sqlite3 등 )\n",
        "- Ch14 정규표현식(regular expression\n",
        "\n",
        "> Part V 파일\n",
        "- Ch 15 파일 입출력\n",
        "\n",
        "> Part VI 배포\n",
        " - Ch 16 패키징\n",
        "\n"
      ],
      "metadata": {
        "id": "TVeJsv1UW9qx"
      }
    },
    {
      "cell_type": "markdown",
      "source": [
        "## 3 참고 사이트\n",
        "\n",
        "https://www.python.org/"
      ],
      "metadata": {
        "id": "xVDQ8YhkVgAy"
      }
    },
    {
      "cell_type": "code",
      "source": [],
      "metadata": {
        "id": "_gNOkmZ1ZbbF"
      },
      "execution_count": null,
      "outputs": []
    }
  ]
}