{
  "nbformat": 4,
  "nbformat_minor": 0,
  "metadata": {
    "colab": {
      "provenance": [],
      "toc_visible": true,
      "authorship_tag": "ABX9TyMc8mJNkK+CSNZVJfcSKtxf",
      "include_colab_link": true
    },
    "kernelspec": {
      "name": "python3",
      "display_name": "Python 3"
    },
    "language_info": {
      "name": "python"
    }
  },
  "cells": [
    {
      "cell_type": "markdown",
      "metadata": {
        "id": "view-in-github",
        "colab_type": "text"
      },
      "source": [
        "<a href=\"https://colab.research.google.com/github/skyboong/python_learning/blob/master/ch03_print_fstring.ipynb\" target=\"_parent\"><img src=\"https://colab.research.google.com/assets/colab-badge.svg\" alt=\"Open In Colab\"/></a>"
      ]
    },
    {
      "cell_type": "markdown",
      "source": [
        "# Ch03 프린트 함수 사용법"
      ],
      "metadata": {
        "id": "FIMxfFsb4BdV"
      }
    },
    {
      "cell_type": "markdown",
      "source": [
        "# 1 print() 함수"
      ],
      "metadata": {
        "id": "WmL9Q3PFw6-r"
      }
    },
    {
      "cell_type": "markdown",
      "source": [
        "print() 함수를 사용할 때 자주사용하는 기능을 살펴보고, 아래에서는 f-string 출력방법을 소개하였습니다.\n"
      ],
      "metadata": {
        "id": "67tPHcSYwFFJ"
      }
    },
    {
      "cell_type": "code",
      "source": [
        "help(print)"
      ],
      "metadata": {
        "colab": {
          "base_uri": "https://localhost:8080/"
        },
        "id": "qUquuKinxBRs",
        "outputId": "bdd9bddc-b875-4b21-8ee0-179095a75492"
      },
      "execution_count": 21,
      "outputs": [
        {
          "output_type": "stream",
          "name": "stdout",
          "text": [
            "Help on built-in function print in module builtins:\n",
            "\n",
            "print(...)\n",
            "    print(value, ..., sep=' ', end='\\n', file=sys.stdout, flush=False)\n",
            "    \n",
            "    Prints the values to a stream, or to sys.stdout by default.\n",
            "    Optional keyword arguments:\n",
            "    file:  a file-like object (stream); defaults to the current sys.stdout.\n",
            "    sep:   string inserted between values, default a space.\n",
            "    end:   string appended after the last value, default a newline.\n",
            "    flush: whether to forcibly flush the stream.\n",
            "\n"
          ]
        }
      ]
    },
    {
      "cell_type": "code",
      "source": [
        "# 파라미터 설정을 하지 않고 그냥 출력하고자 하는 값을 입력한 경우\n",
        "\n",
        "print('abc')\n",
        "print('abc')"
      ],
      "metadata": {
        "colab": {
          "base_uri": "https://localhost:8080/"
        },
        "id": "46LSMmv7wN5I",
        "outputId": "2086db21-b116-49a7-efef-64cecd461b35"
      },
      "execution_count": 20,
      "outputs": [
        {
          "output_type": "stream",
          "name": "stdout",
          "text": [
            "abc\n",
            "abc\n"
          ]
        }
      ]
    },
    {
      "cell_type": "markdown",
      "source": [
        "### sep"
      ],
      "metadata": {
        "id": "Avvj0Az6xLdm"
      }
    },
    {
      "cell_type": "markdown",
      "source": [
        "- 디플트는 스페이스이며, 사용자가 지정해 줄 수 있습니다."
      ],
      "metadata": {
        "id": "1NHTopF5xOLa"
      }
    },
    {
      "cell_type": "code",
      "source": [
        "print(1,2,3)\n",
        "\n",
        "print(1,2,3, sep='***')"
      ],
      "metadata": {
        "colab": {
          "base_uri": "https://localhost:8080/"
        },
        "id": "vP1eKqoewSze",
        "outputId": "9b95b6d0-4e46-4406-b3f1-256ec9f60089"
      },
      "execution_count": 10,
      "outputs": [
        {
          "output_type": "stream",
          "name": "stdout",
          "text": [
            "1 2 3\n",
            "1***2***3\n"
          ]
        }
      ]
    },
    {
      "cell_type": "markdown",
      "source": [
        "### end"
      ],
      "metadata": {
        "id": "RsGqGR8_wyLT"
      }
    },
    {
      "cell_type": "code",
      "source": [
        "# 디폴트는 newline\n",
        "\n",
        "for i in range(5):\n",
        "  print(i)"
      ],
      "metadata": {
        "colab": {
          "base_uri": "https://localhost:8080/"
        },
        "id": "CtUt1W9-xlqb",
        "outputId": "345311b9-0774-45dc-b013-da5c6e467b9b"
      },
      "execution_count": 23,
      "outputs": [
        {
          "output_type": "stream",
          "name": "stdout",
          "text": [
            "0\n",
            "1\n",
            "2\n",
            "3\n",
            "4\n"
          ]
        }
      ]
    },
    {
      "cell_type": "code",
      "source": [
        "# end는 콤마(,)로 지정해 준 예시이다.\n",
        "\n",
        "for i in range(5):\n",
        "  print(3, end=',')\n",
        "\n",
        "print('abc', end='********')\n"
      ],
      "metadata": {
        "colab": {
          "base_uri": "https://localhost:8080/"
        },
        "id": "eyg2F5zNxpWJ",
        "outputId": "ec671998-f2d5-456d-b175-49aee5aafb36"
      },
      "execution_count": 24,
      "outputs": [
        {
          "output_type": "stream",
          "name": "stdout",
          "text": [
            "3,3,3,3,3,abc********"
          ]
        }
      ]
    },
    {
      "cell_type": "code",
      "source": [
        "# f-string 사용할 때는 아래 형식으로 사용해야 합니다.\n",
        "# 문자열앞에 f를 붙여주고, 변수명은 { } 로 둘러싸 줍니다.\n",
        "\n",
        "a = 100\n",
        "print(f\"{a}\")"
      ],
      "metadata": {
        "colab": {
          "base_uri": "https://localhost:8080/"
        },
        "id": "XdAM5W6NwWBV",
        "outputId": "93f1831a-fbb8-49a7-8be9-7459203c8828"
      },
      "execution_count": 25,
      "outputs": [
        {
          "output_type": "stream",
          "name": "stdout",
          "text": [
            "100\n"
          ]
        }
      ]
    },
    {
      "cell_type": "markdown",
      "source": [
        "# 2 f-string 방식으로 프린트 하는 방법\n"
      ],
      "metadata": {
        "id": "HRdgEeNZ3qaC"
      }
    },
    {
      "cell_type": "markdown",
      "source": [
        "\n",
        "- 프린트 함수를 사용할 때 f-string 방법을 사용해 봅시다. 파이썬 3.6 버전 부터 추가한 방법으로, 2015년 8월 채택되었습니다. 속도가 조금 더 빠르다고 합니다. 리터럴 스트링 인터폴레이션(Literal String Interpolation) 참조하셔요.(https://www.python.org/dev/peps/pep-0498)\n",
        "\n",
        "\n",
        "> 사용법\n",
        "\n",
        "- 문자열 앞에 f 를 덧붙이고\n",
        "- 따옴표(\" \") 입력하고,\n",
        "- 중괄호({ , }) 안에 글자를 적어 넣거나, 변수명을 넣어 주면 됩니다."
      ],
      "metadata": {
        "id": "AeQPcWCwlS3l"
      }
    },
    {
      "cell_type": "markdown",
      "source": [
        "## (1) 문자\n"
      ],
      "metadata": {
        "id": "Kbx2pg_i307M"
      }
    },
    {
      "cell_type": "code",
      "source": [
        "color   = '노란'\n",
        "shape   = '활짝'\n",
        "\n",
        "print( f\"예쁜 {color} 꽃이 {shape} 피었습니다\" )"
      ],
      "metadata": {
        "id": "gKOJcicr37Pj",
        "colab": {
          "base_uri": "https://localhost:8080/"
        },
        "outputId": "0512f8bc-ef5a-43be-894b-91f7a0d74167"
      },
      "execution_count": null,
      "outputs": [
        {
          "output_type": "stream",
          "name": "stdout",
          "text": [
            "예쁜 노란 꽃이 활짝 피었습니다\n"
          ]
        }
      ]
    },
    {
      "cell_type": "markdown",
      "source": [
        "## (2) 정수(int)\n"
      ],
      "metadata": {
        "id": "r4NiUSLY38XU"
      }
    },
    {
      "cell_type": "markdown",
      "source": [
        "\n",
        "- 정수의 자리수 지정하기, 정수앞에 0 붙이기, 천단위마다 쉼표(,) 넣기 기능을 배워 봅시다.\n"
      ],
      "metadata": {
        "id": "kk0N9c4y4Jqu"
      }
    },
    {
      "cell_type": "code",
      "source": [
        "print(f\"100+200={100+200}\")"
      ],
      "metadata": {
        "id": "qx53ujTbK_Q7",
        "colab": {
          "base_uri": "https://localhost:8080/"
        },
        "outputId": "6a301bd9-1697-4e6b-d3ce-b26d55b1660d"
      },
      "execution_count": null,
      "outputs": [
        {
          "output_type": "stream",
          "name": "stdout",
          "text": [
            "100+200=300\n"
          ]
        }
      ]
    },
    {
      "cell_type": "markdown",
      "source": [
        "### **자리수 지정**"
      ],
      "metadata": {
        "id": "NKLF9fqD32LD"
      }
    },
    {
      "cell_type": "code",
      "source": [
        "a=100+200\n",
        "print(f\"100+200={a}\")\n",
        "\n",
        "# 그런데 위에 300 앞에 공백2개를 넣고 싶다면, 정수 자리수를 5로 설정해주면 됩니다. 아래를 보세요.\n",
        "print(f\"100+200={a:5}\")"
      ],
      "metadata": {
        "id": "-gbzifwY6jf9",
        "colab": {
          "base_uri": "https://localhost:8080/"
        },
        "outputId": "ecfe6934-a5da-4fff-8f0a-65cf278a71a0"
      },
      "execution_count": null,
      "outputs": [
        {
          "output_type": "stream",
          "name": "stdout",
          "text": [
            "100+200=300\n",
            "100+200=  300\n"
          ]
        }
      ]
    },
    {
      "cell_type": "markdown",
      "source": [
        "### **정수값 앞에 0 채우기**\n"
      ],
      "metadata": {
        "id": "P_9sQyOD33Mr"
      }
    },
    {
      "cell_type": "code",
      "source": [
        "print(f\"100+200={100+200:010}\")\n",
        "print(f\"T{1:02}\")"
      ],
      "metadata": {
        "id": "ouKEEDOU4PF-",
        "colab": {
          "base_uri": "https://localhost:8080/"
        },
        "outputId": "5c548318-374e-45ab-b8e1-a9265b098c6e"
      },
      "execution_count": null,
      "outputs": [
        {
          "output_type": "stream",
          "name": "stdout",
          "text": [
            "100+200=0000000300\n",
            "T01\n"
          ]
        }
      ]
    },
    {
      "cell_type": "markdown",
      "source": [
        "### **숫자에 3자리 단위로 쉼표(,)찍기**\n"
      ],
      "metadata": {
        "id": "oVt5j46i34H0"
      }
    },
    {
      "cell_type": "code",
      "source": [
        "# 쉼표(,)를 {} 뒤에 입력하면, 3자리 자리수 마다 쉼표로 끊어 표시할 수 있다.\n",
        "\n",
        "print(f\"100*200={100*200:,}\")"
      ],
      "metadata": {
        "id": "V55UAo6s4Vtf",
        "colab": {
          "base_uri": "https://localhost:8080/"
        },
        "outputId": "19feafab-7b04-426c-9d81-72060c0c9f9d"
      },
      "execution_count": null,
      "outputs": [
        {
          "output_type": "stream",
          "name": "stdout",
          "text": [
            "100*200=20,000\n"
          ]
        }
      ]
    },
    {
      "cell_type": "markdown",
      "source": [
        "## (3) 실수(float)"
      ],
      "metadata": {
        "id": "8NBeZoL935j8"
      }
    },
    {
      "cell_type": "markdown",
      "source": [
        "\n",
        "### **기본**\n"
      ],
      "metadata": {
        "id": "zXUJQTfg4eig"
      }
    },
    {
      "cell_type": "code",
      "source": [
        "a=100.1\n",
        "b=200.1\n",
        "print(f\"100.1+200.1={a+b}\")"
      ],
      "metadata": {
        "id": "AlcNHM6Y4pHR",
        "colab": {
          "base_uri": "https://localhost:8080/"
        },
        "outputId": "f1e26263-b7da-4d55-88cf-9a61b0ad644f"
      },
      "execution_count": null,
      "outputs": [
        {
          "output_type": "stream",
          "name": "stdout",
          "text": [
            "100.1+200.1=300.2\n"
          ]
        }
      ]
    },
    {
      "cell_type": "markdown",
      "source": [
        "### **유효자리수 지정**\n"
      ],
      "metadata": {
        "id": "B4f-YVB54qni"
      }
    },
    {
      "cell_type": "markdown",
      "source": [
        "\n",
        "- 실수(float) 소숫점을 표시할 때  f'{변수명:.1f}'와 같 이 소숫점 자리를 지정할 수가 있습니다.\n",
        "\n"
      ],
      "metadata": {
        "id": "di6rrg4V4fwg"
      }
    },
    {
      "cell_type": "code",
      "source": [
        "a = 1234567.8931234\n",
        "print(f'1 {a}')\n",
        "print(f'2 {a:.1f}')\n",
        "print(f'3 {a:.2f}')\n",
        "print(f'4 {a:.3f}')\n"
      ],
      "metadata": {
        "id": "Fo8985RS4tWq",
        "colab": {
          "base_uri": "https://localhost:8080/"
        },
        "outputId": "02b9bb90-f4c4-43c4-dfc6-ccc5842e9170"
      },
      "execution_count": null,
      "outputs": [
        {
          "output_type": "stream",
          "name": "stdout",
          "text": [
            "1 1234567.8931234\n",
            "2 1234567.9\n",
            "3 1234567.89\n",
            "4 1234567.893\n"
          ]
        }
      ]
    },
    {
      "cell_type": "markdown",
      "source": [
        "### 유효자리수와 **천단위 함께 표기(,)**\n"
      ],
      "metadata": {
        "id": "JxprJyHw4k5h"
      }
    },
    {
      "cell_type": "code",
      "source": [
        "a = 1234567.8931234\n",
        "print(f'{a}')\n",
        "print(f'{a:,.1f}')\n",
        "print(f'{a:,.2f}')\n",
        "print(f'{a:,.3f}')"
      ],
      "metadata": {
        "id": "iyG7ROVP4grB",
        "colab": {
          "base_uri": "https://localhost:8080/"
        },
        "outputId": "abcee4fe-7f4f-4e20-f2d3-f823a800e4f8"
      },
      "execution_count": null,
      "outputs": [
        {
          "output_type": "stream",
          "name": "stdout",
          "text": [
            "1234567.8931234\n",
            "1,234,567.9\n",
            "1,234,567.89\n",
            "1,234,567.893\n"
          ]
        }
      ]
    },
    {
      "cell_type": "markdown",
      "source": [
        "### 소수점 이하 생략\n"
      ],
      "metadata": {
        "id": "XHWL0HCb4xEL"
      }
    },
    {
      "cell_type": "code",
      "source": [
        "a = 1234567.8931234\n",
        "print(f\"{a:,.0f}\")\n",
        "\n"
      ],
      "metadata": {
        "colab": {
          "base_uri": "https://localhost:8080/"
        },
        "id": "xxSe66I24xur",
        "outputId": "3a154488-1e87-42f7-e3fa-784eca5d354b"
      },
      "execution_count": null,
      "outputs": [
        {
          "output_type": "stream",
          "name": "stdout",
          "text": [
            "1,234,568\n"
          ]
        }
      ]
    },
    {
      "cell_type": "markdown",
      "source": [
        "### **+, -  기호 표시**\n"
      ],
      "metadata": {
        "id": "XLtLrW3P4zl7"
      }
    },
    {
      "cell_type": "code",
      "source": [
        "a =  3.14\n",
        "b = -3.14\n",
        "\n",
        "print(f\"{a:+f}, {b:+f}\") # +-부호 모두 보여주기\n",
        "print(f\"{a:-f}, {b:-f}\") # - 부호만 보여주기\n",
        "print(f\"{a: f}, {b: f}\") # + 숫자만 공백 하나 넣기"
      ],
      "metadata": {
        "id": "au3SB1A94jcp",
        "colab": {
          "base_uri": "https://localhost:8080/"
        },
        "outputId": "f95b97fa-3403-4cd2-af99-d567037e0530"
      },
      "execution_count": null,
      "outputs": [
        {
          "output_type": "stream",
          "name": "stdout",
          "text": [
            "+3.140000, -3.140000\n",
            "3.140000, -3.140000\n",
            " 3.140000, -3.140000\n"
          ]
        }
      ]
    },
    {
      "cell_type": "markdown",
      "source": [
        "### 비교\n"
      ],
      "metadata": {
        "id": "ikVZaM_H41Ib"
      }
    },
    {
      "cell_type": "code",
      "source": [
        "a = 1000000000.0\n",
        "\n",
        "print('1 = ', a)\n",
        "print(f\"2 = {a:,.2f}\")\n",
        "print(f\"3 = {a:.2f}\")"
      ],
      "metadata": {
        "id": "Aa3CAk764hqh",
        "colab": {
          "base_uri": "https://localhost:8080/"
        },
        "outputId": "016cec9c-1051-4359-d356-2f8a8dad2aea"
      },
      "execution_count": null,
      "outputs": [
        {
          "output_type": "stream",
          "name": "stdout",
          "text": [
            "1 =  1000000000.0\n",
            "2 = 1,000,000,000.00\n",
            "3 = 1000000000.00\n"
          ]
        }
      ]
    },
    {
      "cell_type": "markdown",
      "source": [
        "\n",
        "- 그리고 아래는 참고만 하셔요.\n",
        "\n"
      ],
      "metadata": {
        "id": "A_-Pj9Cm5RwC"
      }
    },
    {
      "cell_type": "markdown",
      "source": [
        "## (4) **이진수(b), 8진수(0ct), 16진수(hex)**\n",
        "\n",
        "x, o, b 기호를 눈여겨 봅시다.\n",
        "\n",
        "- 십진수 d\n",
        "- 16진수 x\n",
        "- 8진수 o\n",
        "- 이진수 b\n"
      ],
      "metadata": {
        "id": "-IcRBDrB4-F9"
      }
    },
    {
      "cell_type": "code",
      "source": [
        "a = 17\n",
        "f\"십진수 decimal : {a:x}\""
      ],
      "metadata": {
        "id": "F4nRF49O5JHJ",
        "colab": {
          "base_uri": "https://localhost:8080/",
          "height": 36
        },
        "outputId": "e43c4691-0e54-4195-eb24-72c95697c3bb"
      },
      "execution_count": null,
      "outputs": [
        {
          "output_type": "execute_result",
          "data": {
            "text/plain": [
              "'십진수 decimal : 11'"
            ],
            "application/vnd.google.colaboratory.intrinsic+json": {
              "type": "string"
            }
          },
          "metadata": {},
          "execution_count": 11
        }
      ]
    },
    {
      "cell_type": "markdown",
      "source": [
        "### 16진수"
      ],
      "metadata": {
        "id": "lJp2O3MpscGh"
      }
    },
    {
      "cell_type": "code",
      "source": [
        "f\"16진수 hex: {17:x}\""
      ],
      "metadata": {
        "colab": {
          "base_uri": "https://localhost:8080/",
          "height": 36
        },
        "id": "HnS5hCtHtMdG",
        "outputId": "af2c46b3-7f68-42c2-9c41-c783c8302af9"
      },
      "execution_count": null,
      "outputs": [
        {
          "output_type": "execute_result",
          "data": {
            "text/plain": [
              "'16진수 hex: 11'"
            ],
            "application/vnd.google.colaboratory.intrinsic+json": {
              "type": "string"
            }
          },
          "metadata": {},
          "execution_count": 10
        }
      ]
    },
    {
      "cell_type": "code",
      "source": [
        "for i in range(16):\n",
        "    print(f\"16진수 hex: {i:x}\")"
      ],
      "metadata": {
        "colab": {
          "base_uri": "https://localhost:8080/"
        },
        "id": "h3YLk6Lf88VL",
        "outputId": "9754b4d0-6a56-4833-e2eb-ae68322cd813"
      },
      "execution_count": null,
      "outputs": [
        {
          "output_type": "stream",
          "name": "stdout",
          "text": [
            "16진수 hex: 0\n",
            "16진수 hex: 1\n",
            "16진수 hex: 2\n",
            "16진수 hex: 3\n",
            "16진수 hex: 4\n",
            "16진수 hex: 5\n",
            "16진수 hex: 6\n",
            "16진수 hex: 7\n",
            "16진수 hex: 8\n",
            "16진수 hex: 9\n",
            "16진수 hex: a\n",
            "16진수 hex: b\n",
            "16진수 hex: c\n",
            "16진수 hex: d\n",
            "16진수 hex: e\n",
            "16진수 hex: f\n"
          ]
        }
      ]
    },
    {
      "cell_type": "code",
      "source": [
        "f\"16진수 hex: {a:04x}\" # 자리수 4자리,"
      ],
      "metadata": {
        "colab": {
          "base_uri": "https://localhost:8080/",
          "height": 36
        },
        "id": "sCWmiThR9CjF",
        "outputId": "29f8b346-4f6f-4784-a5db-43ab7f1513f0"
      },
      "execution_count": null,
      "outputs": [
        {
          "output_type": "execute_result",
          "data": {
            "text/plain": [
              "'16진수 hex: 0011'"
            ],
            "application/vnd.google.colaboratory.intrinsic+json": {
              "type": "string"
            }
          },
          "metadata": {},
          "execution_count": 4
        }
      ]
    },
    {
      "cell_type": "code",
      "source": [
        "f\"8진수  oct: {a:o}\""
      ],
      "metadata": {
        "colab": {
          "base_uri": "https://localhost:8080/",
          "height": 36
        },
        "id": "RsKGIO1d9FpH",
        "outputId": "9cc72cee-d461-43ec-f031-960e7f9c146b"
      },
      "execution_count": null,
      "outputs": [
        {
          "output_type": "execute_result",
          "data": {
            "text/plain": [
              "'8진수  oct: 21'"
            ],
            "application/vnd.google.colaboratory.intrinsic+json": {
              "type": "string"
            }
          },
          "metadata": {},
          "execution_count": 55
        }
      ]
    },
    {
      "cell_type": "code",
      "source": [
        "f\"2진수  bin: {a:b}\""
      ],
      "metadata": {
        "colab": {
          "base_uri": "https://localhost:8080/",
          "height": 36
        },
        "id": "JWU6EPXD9GTc",
        "outputId": "0e151a4d-f490-4c73-f5dc-8dfe4881cf67"
      },
      "execution_count": null,
      "outputs": [
        {
          "output_type": "execute_result",
          "data": {
            "text/plain": [
              "'2진수  bin: 10001'"
            ],
            "application/vnd.google.colaboratory.intrinsic+json": {
              "type": "string"
            }
          },
          "metadata": {},
          "execution_count": 56
        }
      ]
    },
    {
      "cell_type": "code",
      "source": [
        "f\"2진수  bin: {a:06b}\""
      ],
      "metadata": {
        "colab": {
          "base_uri": "https://localhost:8080/",
          "height": 36
        },
        "id": "r02vxu3c9G4L",
        "outputId": "1d651b75-f370-423a-a755-52540487afae"
      },
      "execution_count": null,
      "outputs": [
        {
          "output_type": "execute_result",
          "data": {
            "text/plain": [
              "'2진수  bin: 010001'"
            ],
            "application/vnd.google.colaboratory.intrinsic+json": {
              "type": "string"
            }
          },
          "metadata": {},
          "execution_count": 57
        }
      ]
    },
    {
      "cell_type": "code",
      "source": [
        "f\"2진수  bin: {a:#b}\" # 앞에 0b 출력"
      ],
      "metadata": {
        "colab": {
          "base_uri": "https://localhost:8080/",
          "height": 36
        },
        "id": "gVIvEpOO9Hcl",
        "outputId": "ff55836b-4a4d-4f0c-e5a3-1c1936638688"
      },
      "execution_count": null,
      "outputs": [
        {
          "output_type": "execute_result",
          "data": {
            "text/plain": [
              "'2진수  bin: 0b10001'"
            ],
            "application/vnd.google.colaboratory.intrinsic+json": {
              "type": "string"
            }
          },
          "metadata": {},
          "execution_count": 58
        }
      ]
    },
    {
      "cell_type": "code",
      "source": [
        "f\"2진수  bin: {a:#08b}\" # 자리수 지정"
      ],
      "metadata": {
        "colab": {
          "base_uri": "https://localhost:8080/",
          "height": 36
        },
        "id": "B5qDZXh_9H-d",
        "outputId": "e99e0735-9912-46cc-e4bf-36733b7cafc2"
      },
      "execution_count": null,
      "outputs": [
        {
          "output_type": "execute_result",
          "data": {
            "text/plain": [
              "'2진수  bin: 0b000101'"
            ],
            "application/vnd.google.colaboratory.intrinsic+json": {
              "type": "string"
            }
          },
          "metadata": {},
          "execution_count": 43
        }
      ]
    },
    {
      "cell_type": "markdown",
      "source": [
        "## (5) **지수(e)**\n"
      ],
      "metadata": {
        "id": "pqlCxpgB4_RV"
      }
    },
    {
      "cell_type": "code",
      "source": [
        "# 지수 표시 출력\n",
        "a = 10000000000000\n",
        "print(f\"{a:e}\")"
      ],
      "metadata": {
        "id": "7Wo00xKy7-9F",
        "colab": {
          "base_uri": "https://localhost:8080/"
        },
        "outputId": "6d6d1b64-dfe2-47a7-d74b-054a1469e007"
      },
      "execution_count": null,
      "outputs": [
        {
          "output_type": "stream",
          "name": "stdout",
          "text": [
            "1.000000e+13\n"
          ]
        }
      ]
    },
    {
      "cell_type": "code",
      "source": [
        "a = 3141592653589793\n",
        "print(f\"{a:e}\")"
      ],
      "metadata": {
        "colab": {
          "base_uri": "https://localhost:8080/"
        },
        "id": "6JPIQdX08KtL",
        "outputId": "ac323284-7af0-4808-95a8-e0b33423245d"
      },
      "execution_count": null,
      "outputs": [
        {
          "output_type": "stream",
          "name": "stdout",
          "text": [
            "3.141593e+15\n"
          ]
        }
      ]
    },
    {
      "cell_type": "code",
      "source": [
        "# 자리수 설정\n",
        "f\"{a:.2e}\""
      ],
      "metadata": {
        "colab": {
          "base_uri": "https://localhost:8080/",
          "height": 36
        },
        "id": "K1BfNg868Q92",
        "outputId": "1f36073d-a185-483d-9ae6-a3a5b4273df6"
      },
      "execution_count": null,
      "outputs": [
        {
          "output_type": "execute_result",
          "data": {
            "text/plain": [
              "'3.14e+15'"
            ],
            "application/vnd.google.colaboratory.intrinsic+json": {
              "type": "string"
            }
          },
          "metadata": {},
          "execution_count": 39
        }
      ]
    },
    {
      "cell_type": "markdown",
      "source": [
        "## 기타 - 개선되어 보인점\n"
      ],
      "metadata": {
        "id": "7Z3y9fzV5APt"
      }
    },
    {
      "cell_type": "code",
      "source": [
        "# f-string() 이전에 사용한 format() 방식 보다 코드 길이가 조금 더 짧아져서 좋다.\n",
        "\n",
        "a = 'blue'\n",
        "b = 'red'\n",
        "\n",
        "print(f\"{a} {b}\")\n",
        "\n",
        "print(\"{} {}\".format(a,b))"
      ],
      "metadata": {
        "id": "TIOIpIQy5Cg0",
        "colab": {
          "base_uri": "https://localhost:8080/"
        },
        "outputId": "e366d671-d6db-4769-e362-1784542d8d75"
      },
      "execution_count": null,
      "outputs": [
        {
          "output_type": "stream",
          "name": "stdout",
          "text": [
            "blue red\n",
            "blue red\n"
          ]
        }
      ]
    },
    {
      "cell_type": "markdown",
      "source": [
        "## [Quiz]\n",
        "\n"
      ],
      "metadata": {
        "id": "T1W05m9s5EK7"
      }
    },
    {
      "cell_type": "markdown",
      "source": [
        "\n",
        "```python\n",
        "[Quiz 1] 소수점 이하는 1 자리까지만 출력 하고자 한다.\n",
        "\n",
        "name  = '원주율'\n",
        "pi = 3.141592653589793\n",
        "\n",
        "① print(f\"* {name} pi = {pi:.1f}\")\n",
        "② print(f\"* {name} pi = {pi:.2f}\")\n",
        "③ print(f\"* {name} pi = {pi:.3f}\")\n",
        "```"
      ],
      "metadata": {
        "id": "IbGh55hV5Bl8"
      }
    },
    {
      "cell_type": "markdown",
      "source": [
        "```python\n",
        "[Quiz 2] 아보가드로수를 소수점 이하 2자리로 표기하는 방법은\n",
        "\n",
        "N_A = 6.02214076e-23\n",
        "\n",
        "① print(f\"{N_A:.2f}\")\n",
        "② print(f\"{N_A:.2e}\")\n",
        "③ print(f\"{N_A:,2e}\")\n",
        "```"
      ],
      "metadata": {
        "id": "pgs5iYWaF0DF"
      }
    },
    {
      "cell_type": "code",
      "source": [
        "# sol\n",
        "\n",
        "N_A = 6.02214076e-23\n",
        "\n",
        "print(f\"{N_A:.2f}\")\n",
        "print(f\"{N_A:.2e}\")\n",
        "\n"
      ],
      "metadata": {
        "colab": {
          "base_uri": "https://localhost:8080/"
        },
        "id": "OczLD5SzJiLw",
        "outputId": "e5429a6f-d77e-444d-b4da-366602a661af"
      },
      "execution_count": null,
      "outputs": [
        {
          "output_type": "stream",
          "name": "stdout",
          "text": [
            "0.00\n",
            "6.02e-23\n"
          ]
        }
      ]
    },
    {
      "cell_type": "code",
      "source": [],
      "metadata": {
        "id": "uYlzp_G8EDeU"
      },
      "execution_count": null,
      "outputs": []
    }
  ]
}