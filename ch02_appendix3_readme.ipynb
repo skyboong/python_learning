{
  "nbformat": 4,
  "nbformat_minor": 0,
  "metadata": {
    "colab": {
      "provenance": [],
      "toc_visible": true,
      "authorship_tag": "ABX9TyM6Wavs5+JeIOZ7vVaTXI1A",
      "include_colab_link": true
    },
    "kernelspec": {
      "name": "python3",
      "display_name": "Python 3"
    },
    "language_info": {
      "name": "python"
    }
  },
  "cells": [
    {
      "cell_type": "markdown",
      "metadata": {
        "id": "view-in-github",
        "colab_type": "text"
      },
      "source": [
        "<a href=\"https://colab.research.google.com/github/skyboong/python_learning/blob/master/ch02_appendix3_readme.ipynb\" target=\"_parent\"><img src=\"https://colab.research.google.com/assets/colab-badge.svg\" alt=\"Open In Colab\"/></a>"
      ]
    },
    {
      "cell_type": "markdown",
      "source": [
        "# Ch02 부록3"
      ],
      "metadata": {
        "id": "J4UcddjheBjC"
      }
    },
    {
      "cell_type": "markdown",
      "source": [
        "# 몇 가지 일러두기"
      ],
      "metadata": {
        "id": "ngi0m9e1Nt_D"
      }
    },
    {
      "cell_type": "markdown",
      "source": [
        "다른 언어를 알고 있는 분이 파이썬 세상에 들어 올 때, 미리 알고 있으면 좋은 정보들입니다.\n",
        "들여쓰기, 대소문자 구분, 주석 표기 등에 대해 알아 보겠습니다.\n",
        "\n",
        "\n",
        " - 들여쓰기\n",
        " - 주석\n",
        " - 대소문자\n",
        " - 기타"
      ],
      "metadata": {
        "id": "mmxsXFNtNtCG"
      }
    },
    {
      "cell_type": "markdown",
      "source": [
        "## 1 들여쓰기(Indentation)\n"
      ],
      "metadata": {
        "id": "GqO2AW1LNzbl"
      }
    },
    {
      "cell_type": "markdown",
      "source": [
        "- 파이썬은 들여쓰기가 무척 중요합니다. 들여쓰기를 하는 것이 파이썬 세계의 ‘규칙’입니다. 이 규칙은 매우 엄격해서 들여쓰기를 하지 않으면, 문법 에러를 발생시킵니다.\n",
        "\n",
        "\n",
        "- 왜, 귀찮게 들여쓰기 규칙을 만들었을까 ? 코드의 가독성이 좋아집니다.\n",
        "\n",
        "\n",
        "- 무척 번거로운 일일 것 같다고요. 그러나 너무 걱정마세요. 금방 익숙 해집니다. 다행히도 대부분이의 파이썬 IDE인 (IDLE, PyCharm ...)에서 자동으로 들여쓰기를 시켜줍니다.\n",
        "\n"
      ],
      "metadata": {
        "id": "dnI-cKNbOB06"
      }
    },
    {
      "cell_type": "markdown",
      "source": [
        "**[궁금]** 꼭 4칸 이어야 하는가 ? (*)\n"
      ],
      "metadata": {
        "id": "xNuctSoXOhJe"
      }
    },
    {
      "cell_type": "markdown",
      "source": [
        "\n",
        "- 꼭 그렇지는 않습니다만, 4칸, 2칸 모두 작동합니다. 한 번 테스트를 해보시기 바랍니다.  \n"
      ],
      "metadata": {
        "id": "XrdhGD3dOizm"
      }
    },
    {
      "cell_type": "code",
      "source": [
        "a = 100\n",
        "print(a)"
      ],
      "metadata": {
        "id": "OSd2yo60OOyM",
        "colab": {
          "base_uri": "https://localhost:8080/"
        },
        "outputId": "d5b5b683-b2a9-4e74-c5bc-a64b61af7ba2"
      },
      "execution_count": null,
      "outputs": [
        {
          "output_type": "stream",
          "name": "stdout",
          "text": [
            "100\n"
          ]
        }
      ]
    },
    {
      "cell_type": "code",
      "source": [
        "  a = 100\n",
        "  print(a)"
      ],
      "metadata": {
        "colab": {
          "base_uri": "https://localhost:8080/"
        },
        "id": "vlvzTDTBOUmq",
        "outputId": "d1866040-1e04-4a41-eeff-d80781a61be1"
      },
      "execution_count": null,
      "outputs": [
        {
          "output_type": "stream",
          "name": "stdout",
          "text": [
            "100\n"
          ]
        }
      ]
    },
    {
      "cell_type": "markdown",
      "source": [
        "\n",
        "\n",
        "- 그런데, 아래와 같이 띄어 쓰기가 라인마다 다르면 에러가 발생합니다. 들여쓰기에서 에러가 났다는 메시지가 등장합니다.(IndentationError: unexpected indent)\n",
        "\n",
        "```python\n",
        "b = 0\n",
        "  print(b)\n",
        "    \n",
        "  File \"<ipython-input-4-f868eb2a9c9e>\", line 2\n",
        "    print(b)\n",
        "    ^\n",
        "IndentationError: unexpected indent\n",
        "```"
      ],
      "metadata": {
        "id": "WHUgg71SORMk"
      }
    },
    {
      "cell_type": "code",
      "source": [],
      "metadata": {
        "colab": {
          "base_uri": "https://localhost:8080/"
        },
        "id": "IoxwUQdIPFRO",
        "outputId": "3571716a-aaf2-4df9-fd3f-c5b727a5debf"
      },
      "execution_count": null,
      "outputs": [
        {
          "output_type": "stream",
          "name": "stdout",
          "text": [
            "sample_data\n"
          ]
        }
      ]
    },
    {
      "cell_type": "code",
      "source": [],
      "metadata": {
        "id": "vMcv70UmPHuJ"
      },
      "execution_count": null,
      "outputs": []
    },
    {
      "cell_type": "markdown",
      "source": [
        "## 2 주석 기호 (comment)\n"
      ],
      "metadata": {
        "id": "VhMORZXyPc7G"
      }
    },
    {
      "cell_type": "markdown",
      "source": [
        "- 주석은 소스 코드가 실행이 될 때, 실행이 되지 않는 부분을 표시해 줍니다.\n",
        "- 라인 주석, 문단 주석 2가지 방식이 있습니다. 언어마다 주석 기호가 조금식 다릅니다.\n",
        "- 파이썬은 샵(#), 따따따('''))\n",
        "\n",
        " > * 라인 주석 : ‘#’\n",
        " > * 문단 주석 : 세따옴표('''   ''' )\n",
        "\n",
        "- (참고) 주요 컴퓨터 프로그래밍 언어 주석 기호\n",
        "\n",
        "\n",
        "| 구분      | 라인  | 문단 |\n",
        "| :---:    |:---: |:---:|\n",
        "| python   |   #  | ''' comment '''   |\n",
        "| C, C++   |   //  | /*  comment */   |\n",
        "| latex   |   %  | verbatim 패키지이용  |\n",
        "| html   |     | \\<!-- comment ---\\>  |\n",
        "| css  |     |  /* comment */  |\n",
        "| java script   |  //   | /* comment */  |\n",
        "\n"
      ],
      "metadata": {
        "id": "MVNZGJ7UPfvQ"
      }
    },
    {
      "cell_type": "code",
      "source": [
        "## 한 줄(라인)\n",
        "\n",
        "# 한 줄\n",
        "\n",
        "# print(\">>> 이 내용이 프린트 될까요 ?\")\n"
      ],
      "metadata": {
        "id": "zKhV4TUVPkYE"
      },
      "execution_count": null,
      "outputs": []
    },
    {
      "cell_type": "code",
      "source": [
        "# 단락 (멀티라인)\n",
        "\n",
        "'''\n",
        " 라인1\n",
        " 라인2\n",
        "'''\n",
        "\n",
        "print(100)\n",
        "\n",
        "'''\n",
        "abc\n",
        "\n",
        "'''\n",
        "\n",
        "print(200)"
      ],
      "metadata": {
        "id": "aJTpdwtWP_IL"
      },
      "execution_count": null,
      "outputs": []
    },
    {
      "cell_type": "markdown",
      "source": [
        "## 3 대소문자"
      ],
      "metadata": {
        "id": "0Xv14crnP9YW"
      }
    },
    {
      "cell_type": "markdown",
      "source": [
        "- 파이썬은 영어 대소문자를 구분합니다.\n",
        "\n",
        "파이썬은 영문 알파벳 대소문자를 구분합니다. 객체명 a와 A를 구분해서 인식하게 됩니다. 즉, 아래의 변수 a와 A는 이름은 대소문자 관계이지만, 각각 다른 변수입니다.\n",
        "\n",
        "* 참고로 Fortran은 대소문자를 구분하지 않습니다. 그러나 C, C++ 등의 언어는 대소문자를 구분합니다.\n"
      ],
      "metadata": {
        "id": "tl8xl6fnQWJs"
      }
    },
    {
      "cell_type": "code",
      "source": [
        "# 아래 변수 a, A는 다른 변수를 나타낸다.\n",
        "\n",
        "a = 100\n",
        "A = 200\n",
        "\n",
        "print(a, A, a==A)"
      ],
      "metadata": {
        "colab": {
          "base_uri": "https://localhost:8080/"
        },
        "id": "XV-_2u2JQbKk",
        "outputId": "d556af01-ddfe-4bee-d608-4b92dbd92807"
      },
      "execution_count": null,
      "outputs": [
        {
          "output_type": "stream",
          "name": "stdout",
          "text": [
            "100 200 False\n"
          ]
        }
      ]
    },
    {
      "cell_type": "markdown",
      "source": [
        "## 4 기타\n"
      ],
      "metadata": {
        "id": "jSONzkrbQ8Tn"
      }
    },
    {
      "cell_type": "markdown",
      "source": [
        "- 소스 파일 확장자\n",
        "\n",
        " - py, pyw\n",
        "\n",
        " - 파인썬 소스파일은 *.py,  *.pyw 형식\n",
        "\n"
      ],
      "metadata": {
        "id": "x5oONBYSQiQC"
      }
    },
    {
      "cell_type": "markdown",
      "source": [
        "-  파이썬은 시스템의 어느 곳에 설치되었는가 ?"
      ],
      "metadata": {
        "id": "_a3kkKPqRFmn"
      }
    },
    {
      "cell_type": "code",
      "source": [
        "!which python"
      ],
      "metadata": {
        "id": "yq8JEkuFRNT6"
      },
      "execution_count": null,
      "outputs": []
    },
    {
      "cell_type": "code",
      "source": [],
      "metadata": {
        "id": "DyiEvWxbRPk9"
      },
      "execution_count": null,
      "outputs": []
    }
  ]
}