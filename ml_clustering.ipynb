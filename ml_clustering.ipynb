{
 "cells": [
  {
   "cell_type": "raw",
   "metadata": {
    "collapsed": true,
    "slideshow": {
     "slide_type": "slide"
    }
   },
   "source": [
    "# 이것은 테스트 버전입니다\n",
    "## 2017.1.31\n",
    "\n",
    "* 순서\n",
    "** 1. python 기초 \n",
    "** 2. python 기초2\n"
   ]
  },
  {
   "cell_type": "code",
   "execution_count": 1,
   "metadata": {
    "collapsed": false
   },
   "outputs": [
    {
     "name": "stdout",
     "output_type": "stream",
     "text": [
      "25.8650343128\n"
     ]
    }
   ],
   "source": [
    "import numpy as np\n",
    "\n",
    "v1 = np.arange(5)\n",
    "v2 = v1**2 + 2*v1 + 1\n",
    "\n",
    "s1 = (v1-v2)**2.\n",
    "s2 = s1.sum()\n",
    "print np.sqrt(s2)"
   ]
  },
  {
   "cell_type": "markdown",
   "metadata": {
    "collapsed": false
   },
   "source": [
    "import random\n",
    "\n",
    "random.sample(range(10), 5)"
   ]
  },
  {
   "cell_type": "code",
   "execution_count": 8,
   "metadata": {
    "collapsed": false
   },
   "outputs": [
    {
     "data": {
      "text/plain": [
       "1"
      ]
     },
     "execution_count": 8,
     "metadata": {},
     "output_type": "execute_result"
    }
   ],
   "source": [
    "min([1,2,3,4,5], key = lambda x : 1)"
   ]
  },
  {
   "cell_type": "code",
   "execution_count": 9,
   "metadata": {
    "collapsed": false
   },
   "outputs": [
    {
     "data": {
      "text/plain": [
       "5"
      ]
     },
     "execution_count": 9,
     "metadata": {},
     "output_type": "execute_result"
    }
   ],
   "source": [
    "min([5,3,2,1,0], key = lambda x : 1)"
   ]
  },
  {
   "cell_type": "code",
   "execution_count": 4,
   "metadata": {
    "collapsed": true
   },
   "outputs": [],
   "source": [
    "import numpy as np\n",
    "\n",
    "global_no = 0\n",
    "def squared_distance(v, w):\n",
    "    print \">>> suqred_distance \"\n",
    "    \n",
    "    s1 = np.sum( (v-w)*(v-w))\n",
    "    s2 = np.sqrt(s1)\n",
    "    print \"np.sqrt(s1)=\",s2\n",
    "    return s2\n",
    "\n",
    "def vector_mean(v):\n",
    "    return np.sum(v)/len(v)"
   ]
  },
  {
   "cell_type": "code",
   "execution_count": 3,
   "metadata": {
    "collapsed": true
   },
   "outputs": [],
   "source": [
    "\n",
    "\n",
    "class KMeans :\n",
    "    def __init__(self,k):\n",
    "        self.k     = k\n",
    "        self.means = None\n",
    "    \n",
    "    def classify(self, input1):\n",
    "        print \">>> classify\"\n",
    "        result1 = min(range(self.k), key= lambda i :  squared_distance(input1, self.means[i]))\n",
    "        print \">>> result of classify :\", result1 \n",
    "        return result1\n",
    "    \n",
    "    def train(self, inputs):\n",
    "        self.means = np.array( random.sample(inputs, self.k) )\n",
    "        print 'self.means =\\n', self.means \n",
    "        \n",
    "        assignments = None\n",
    "        \n",
    "        while True:\n",
    "            new_assignment = map(self.classify, inputs)\n",
    "            if assignments == new_assignment:\n",
    "                return\n",
    "            assignment = new_assignment\n",
    "            \n",
    "            for i in range(self.k):\n",
    "                i_points = [p for p, a in zip(inputs, assignments) if a == i]\n",
    "                if i_points:\n",
    "                    self.means[i] = vector_mean(i_points)\n",
    "    "
   ]
  },
  {
   "cell_type": "code",
   "execution_count": 5,
   "metadata": {
    "collapsed": false
   },
   "outputs": [
    {
     "name": "stdout",
     "output_type": "stream",
     "text": [
      "self.means =\n",
      "[[-35   0]\n",
      " [-50   0]\n",
      " [-50  15]]\n",
      ">>> classify\n",
      ">>> suqred_distance \n",
      "np.sqrt(s1)= 15.0\n",
      ">>> suqred_distance \n",
      "np.sqrt(s1)= 0.0\n",
      ">>> suqred_distance \n",
      "np.sqrt(s1)= 15.0\n",
      ">>> result of classify : 1\n",
      ">>> classify\n",
      ">>> suqred_distance \n",
      "np.sqrt(s1)= 21.2132034356\n",
      ">>> suqred_distance \n",
      "np.sqrt(s1)= 15.0\n",
      ">>> suqred_distance \n",
      "np.sqrt(s1)= 0.0\n",
      ">>> result of classify : 2\n",
      ">>> classify\n",
      ">>> suqred_distance \n",
      "np.sqrt(s1)= 13.9283882772\n",
      ">>> suqred_distance \n",
      "np.sqrt(s1)= 5.38516480713\n",
      ">>> suqred_distance \n",
      "np.sqrt(s1)= 10.1980390272\n",
      ">>> result of classify : 1\n",
      ">>> classify\n",
      ">>> suqred_distance \n",
      "np.sqrt(s1)= 12.8062484749\n",
      ">>> suqred_distance \n",
      "np.sqrt(s1)= 9.43398113206\n",
      ">>> suqred_distance \n",
      "np.sqrt(s1)= 8.60232526704\n",
      ">>> result of classify : 2\n",
      ">>> classify\n",
      ">>> suqred_distance \n",
      "np.sqrt(s1)= 0.0\n",
      ">>> suqred_distance \n",
      "np.sqrt(s1)= 15.0\n",
      ">>> suqred_distance \n",
      "np.sqrt(s1)= 21.2132034356\n",
      ">>> result of classify : 0\n"
     ]
    },
    {
     "ename": "TypeError",
     "evalue": "zip argument #2 must support iteration",
     "output_type": "error",
     "traceback": [
      "\u001b[0;31m---------------------------------------------------------------------------\u001b[0m",
      "\u001b[0;31mTypeError\u001b[0m                                 Traceback (most recent call last)",
      "\u001b[0;32m<ipython-input-5-a4c244d926bb>\u001b[0m in \u001b[0;36m<module>\u001b[0;34m()\u001b[0m\n\u001b[1;32m      5\u001b[0m \u001b[0;34m\u001b[0m\u001b[0m\n\u001b[1;32m      6\u001b[0m \u001b[0mcluster\u001b[0m \u001b[0;34m=\u001b[0m \u001b[0mKMeans\u001b[0m\u001b[0;34m(\u001b[0m\u001b[0;36m3\u001b[0m\u001b[0;34m)\u001b[0m\u001b[0;34m\u001b[0m\u001b[0m\n\u001b[0;32m----> 7\u001b[0;31m \u001b[0mcluster\u001b[0m\u001b[0;34m.\u001b[0m\u001b[0mtrain\u001b[0m\u001b[0;34m(\u001b[0m\u001b[0minputs1\u001b[0m\u001b[0;34m)\u001b[0m\u001b[0;34m\u001b[0m\u001b[0m\n\u001b[0m\u001b[1;32m      8\u001b[0m \u001b[0;34m\u001b[0m\u001b[0m\n",
      "\u001b[0;32m<ipython-input-3-a660bc143ef9>\u001b[0m in \u001b[0;36mtrain\u001b[0;34m(self, inputs)\u001b[0m\n\u001b[1;32m     23\u001b[0m \u001b[0;34m\u001b[0m\u001b[0m\n\u001b[1;32m     24\u001b[0m             \u001b[0;32mfor\u001b[0m \u001b[0mi\u001b[0m \u001b[0;32min\u001b[0m \u001b[0mrange\u001b[0m\u001b[0;34m(\u001b[0m\u001b[0mself\u001b[0m\u001b[0;34m.\u001b[0m\u001b[0mk\u001b[0m\u001b[0;34m)\u001b[0m\u001b[0;34m:\u001b[0m\u001b[0;34m\u001b[0m\u001b[0m\n\u001b[0;32m---> 25\u001b[0;31m                 \u001b[0mi_points\u001b[0m \u001b[0;34m=\u001b[0m \u001b[0;34m[\u001b[0m\u001b[0mp\u001b[0m \u001b[0;32mfor\u001b[0m \u001b[0mp\u001b[0m\u001b[0;34m,\u001b[0m \u001b[0ma\u001b[0m \u001b[0;32min\u001b[0m \u001b[0mzip\u001b[0m\u001b[0;34m(\u001b[0m\u001b[0minputs\u001b[0m\u001b[0;34m,\u001b[0m \u001b[0massignments\u001b[0m\u001b[0;34m)\u001b[0m \u001b[0;32mif\u001b[0m \u001b[0ma\u001b[0m \u001b[0;34m==\u001b[0m \u001b[0mi\u001b[0m\u001b[0;34m]\u001b[0m\u001b[0;34m\u001b[0m\u001b[0m\n\u001b[0m\u001b[1;32m     26\u001b[0m                 \u001b[0;32mif\u001b[0m \u001b[0mi_points\u001b[0m\u001b[0;34m:\u001b[0m\u001b[0;34m\u001b[0m\u001b[0m\n\u001b[1;32m     27\u001b[0m                     \u001b[0mself\u001b[0m\u001b[0;34m.\u001b[0m\u001b[0mmeans\u001b[0m\u001b[0;34m[\u001b[0m\u001b[0mi\u001b[0m\u001b[0;34m]\u001b[0m \u001b[0;34m=\u001b[0m \u001b[0mvector_mean\u001b[0m\u001b[0;34m(\u001b[0m\u001b[0mi_points\u001b[0m\u001b[0;34m)\u001b[0m\u001b[0;34m\u001b[0m\u001b[0m\n",
      "\u001b[0;31mTypeError\u001b[0m: zip argument #2 must support iteration"
     ]
    }
   ],
   "source": [
    "inputs =[ [-50,0], [-50,15], [-48,5],[-45,8],[-35,0],\n",
    "        #  [-25,-10],[-25,-15],[-20, -15],[-20,0],[-15,0]\n",
    "        ]\n",
    "inputs1 = np.array(inputs)\n",
    "\n",
    "cluster = KMeans(3)\n",
    "cluster.train(inputs1)\n",
    "        "
   ]
  },
  {
   "cell_type": "code",
   "execution_count": null,
   "metadata": {
    "collapsed": true
   },
   "outputs": [],
   "source": []
  },
  {
   "cell_type": "code",
   "execution_count": 18,
   "metadata": {
    "collapsed": false
   },
   "outputs": [
    {
     "name": "stdout",
     "output_type": "stream",
     "text": [
      "[[-20  10]\n",
      " [-20  30]\n",
      " [-10  50]]\n"
     ]
    }
   ],
   "source": [
    "\n"
   ]
  },
  {
   "cell_type": "code",
   "execution_count": 3,
   "metadata": {
    "collapsed": false
   },
   "outputs": [
    {
     "name": "stdout",
     "output_type": "stream",
     "text": [
      "v-w = \n",
      "[[-80 -10]\n",
      " [-80   5]\n",
      " [-78  -5]\n",
      " [-75  -2]\n",
      " [-65 -10]]\n",
      "-50 0\n",
      "-50 15\n",
      "-48 5\n",
      "-45 8\n",
      "-35 0\n"
     ]
    },
    {
     "data": {
      "image/png": "[encoded data removed]",
      "text/plain": [
       "<matplotlib.figure.Figure at 0x1038e81d0>"
      ]
     },
     "metadata": {},
     "output_type": "display_data"
    }
   ],
   "source": [
    "#(예제 코드)\n",
    "# -*- coding: UTF-8 -*-\n",
    "%matplotlib inline \n",
    "import random\n",
    "import matplotlib.pyplot as plt\n",
    "import numpy as np\n",
    "\n",
    "v = np.array( [ [-50,0], [-50,15], [-48,5],[-45,8],[-35,0] ])\n",
    "w = np.array(  [30,10]   )\n",
    "\n",
    "print 'v-w = \\n',v-w\n",
    "\n",
    "color_list = [\"#69D2E7\", \"#A7DBD8\", \"#E0E4CC\", \"#F38630\", \"#FA6900\"]\n",
    "\n",
    "fig1 = plt.figure(figsize=(8,6),  dpi = 80, facecolor = \"#ffffff\", edgecolor = \"#ffffff\", linewidth=1)\n",
    "fig1.suptitle(\"Scatter Graph Example\" , fontsize = 15)\n",
    "ax1  = fig1.add_subplot(1,1,1, axisbg= color_list[1])\n",
    "\n",
    "for i,(xi,yi) in enumerate(v):\n",
    "    print xi,yi\n",
    "    ax1.scatter(xi,yi, s=100, c=\"#ff0000\" )\n",
    "    ax1.text(xi,yi+1, \"P{}\".format(i+1))\n",
    "    ax1.arrow(w[0],w[1], xi-w[0], yi - w[1], \n",
    "              head_width  = .1, \n",
    "              head_length = .1, \n",
    "              ls = 'dotted',\n",
    "              fc='#0000ff', ec='#ff0000')\n",
    "\n",
    "x=w[0]\n",
    "y=w[1]\n",
    "\n",
    "ax1.scatter(x,y, s=100, c=\"#00ff00\" ) \n",
    "ax1.text(x,y+1, \"P{}\".format(len(v)+1))\n",
    "\n",
    "ax1.set_xlabel('x')\n",
    "ax1.set_ylabel('y')\n",
    "ax1.set_title(\"x title\") # test\n",
    "\n",
    "#plt.show()"
   ]
  },
  {
   "cell_type": "code",
   "execution_count": 17,
   "metadata": {
    "collapsed": false
   },
   "outputs": [
    {
     "name": "stdout",
     "output_type": "stream",
     "text": [
      "-50 0\n",
      "-50 15\n",
      "-48 5\n",
      "-45 8\n",
      "-35 0\n"
     ]
    }
   ],
   "source": [
    "#(예제 코드)\n",
    "# -*- coding: UTF-8 -*-\n",
    "\n",
    "import random\n",
    "import matplotlib.pyplot as plt\n",
    "import numpy as np\n",
    "\n",
    "v = np.array( [ [-50,0], [-50,15], [-48,5],[-45,8],[-35,0] ])\n",
    "k = 3\n",
    "w = random.sample(v,k)\n",
    "\n",
    "\n",
    "\n",
    "color_list = [\"#69D2E7\", \"#A7DBD8\", \"#E0E4CC\", \"#F38630\", \"#FA6900\"]\n",
    "\n",
    "fig1 = plt.figure(figsize=(8,6),  dpi = 80, facecolor = \"#ffffff\", edgecolor = \"#ffffff\", linewidth=1)\n",
    "fig1.suptitle(\"Scatter Graph Example\" , fontsize = 15)\n",
    "ax1  = fig1.add_subplot(1,1,1, axisbg= color_list[1])\n",
    "\n",
    "for i,(xi,yi) in enumerate(v):\n",
    "    print xi,yi\n",
    "    ax1.scatter(xi,yi, s=100, c=\"#ff0000\" )\n",
    "    ax1.text(xi,yi+1, \"Pv{}\".format(i+1))\n",
    "\n",
    "\n",
    "for i, (xi,yi) in enumerate(w):\n",
    "    ax1.scatter(xi,yi, s=100, c=\"#00ff00\" ) \n",
    "    ax1.text(xi+1,yi+1, \"Pw{}\".format(i))\n",
    "\n",
    "ax1.set_xlabel('x')\n",
    "ax1.set_ylabel('y')\n",
    "ax1.set_title(\"x title\") # test\n",
    "\n",
    "plt.show()"
   ]
  },
  {
   "cell_type": "code",
   "execution_count": 13,
   "metadata": {
    "collapsed": false
   },
   "outputs": [
    {
     "name": "stdout",
     "output_type": "stream",
     "text": [
      "    x   y\n",
      "0 -50   0\n",
      "1 -50  15\n",
      "2 -48   5\n",
      "3 -45   8\n",
      "4 -35   0\n",
      "    x   y\n",
      "0 -50  15\n",
      "1 -45   8\n",
      "2 -35   0\n",
      "defaultdict(<type 'list'>, {0: [array([-50,  15])], 1: [array([-45,   8])], 2: [array([-35,   0])]})\n"
     ]
    }
   ],
   "source": [
    "import numpy as np\n",
    "import random \n",
    "from collections import defaultdict\n",
    "\n",
    "from pandas import DataFrame, Series\n",
    "\n",
    "#1\n",
    "inputs1 =[ [-50,0], [-50,15], [-48,5],[-45,8],[-35,0] ]\n",
    "df = DataFrame(inputs1, columns=['x','y'])\n",
    "print df\n",
    "\n",
    "#2\n",
    "k = 3\n",
    "cluster1 = random.sample(inputs,k)\n",
    "df_cluster = DataFrame(cluster1, columns=['x','y'])\n",
    "print df_cluster\n",
    "\n",
    "\n",
    "#3\n",
    "cluster_dic = defaultdict(list)\n",
    "for i, each in enumerate(cluster1):\n",
    "    cluster_dic[i].append(each)\n",
    "\n",
    "print cluster_dic\n",
    "    \n",
    "#4 \n",
    "\n",
    "    \n",
    "    \n",
    "    \n",
    "    "
   ]
  },
  {
   "cell_type": "code",
   "execution_count": 13,
   "metadata": {
    "collapsed": false
   },
   "outputs": [
    {
     "name": "stdout",
     "output_type": "stream",
     "text": [
      ">>> suqred_distance \n",
      "np.sqrt(s1)= 18.574175621\n",
      ">>> suqred_distance \n",
      "np.sqrt(s1)= 29.206163733\n",
      ">>> suqred_distance \n",
      "np.sqrt(s1)= 18.574175621\n",
      ">>> index = 0, value=0 ,w=[-45   8]\n"
     ]
    }
   ],
   "source": [
    "v = np.array( [ [-50,0], [-50,15], [-48,5],[-45,8],[-35,0] ])\n",
    "k = 3\n",
    "w = random.sample(v,k)\n",
    "\n",
    "klist = np.arange(k)\n",
    "m1    = min(klist , key= lambda i : squared_distance(v, w[i]))\n",
    "print \">>> index = {}, value={} ,w={}\".format(m1, klist[m1], w[m1])\n"
   ]
  },
  {
   "cell_type": "code",
   "execution_count": null,
   "metadata": {
    "collapsed": true
   },
   "outputs": [],
   "source": []
  },
  {
   "cell_type": "code",
   "execution_count": 18,
   "metadata": {
    "collapsed": false
   },
   "outputs": [
    {
     "name": "stdout",
     "output_type": "stream",
     "text": [
      "[100, 200, 300]\n",
      "[10, 40]\n",
      "[array([10, 40]), array([ 90, 160])]\n",
      "check the input data !\n"
     ]
    }
   ],
   "source": [
    "# map 이해하기\n",
    "\n",
    "import numpy as np\n",
    "\n",
    "\n",
    "# 1 함수 argument 1개 일 경우\n",
    "def fun1(data1):\n",
    "    return data1*100\n",
    "\n",
    "list1 = map(fun1, [1,2,3])\n",
    "print list1\n",
    "\n",
    "# 2 함수 argument 2개 이상일 경우\n",
    "def fun1(data1, data2):\n",
    "    return data1*data2\n",
    "\n",
    "list2 = map(fun1, [1,2], [10,20])   \n",
    "# 처음에는  [1,2]에서 1,  [10,20]에서 10을 넘겨줌   그래서 1*10 = 10 이 생겨남\n",
    "# 다음으로는 2*20=40 이 생성됨 \n",
    "# 즉 결과는  [10,40]\n",
    "\n",
    "print list2\n",
    "\n",
    "a = np.array( [ [10,20], [30,40]] )\n",
    "b = np.array( [ [1,2],[3,4]]      )\n",
    "\n",
    "list3 = map(fun1, a,b)   \n",
    "print list3\n",
    "\n",
    "\n",
    "# a, b의 길이가 같아야 한다.\n",
    "\n",
    "a = np.array( [ [10,20], [30,40]] )\n",
    "b = np.array( [ [1,2] ]      )\n",
    "\n",
    "if len(a) == len(b):\n",
    "    list4 = map(fun1, a,b)   \n",
    "    print list4\n",
    "else:\n",
    "    print \"check the input data !\""
   ]
  },
  {
   "cell_type": "code",
   "execution_count": 12,
   "metadata": {
    "collapsed": false
   },
   "outputs": [
    {
     "data": {
      "text/plain": [
       "array([10, 40])"
      ]
     },
     "execution_count": 12,
     "metadata": {},
     "output_type": "execute_result"
    }
   ],
   "source": [
    "np.array([10,20]) * np.array([1,2])"
   ]
  },
  {
   "cell_type": "code",
   "execution_count": 22,
   "metadata": {
    "collapsed": false
   },
   "outputs": [
    {
     "name": "stdout",
     "output_type": "stream",
     "text": [
      "0 [2 4]\n"
     ]
    }
   ],
   "source": [
    "import numpy as np\n",
    "\n",
    "def fun1(v,w):\n",
    "    s1 = (v-w)*(v-w)\n",
    "    s2 = s1.sum()\n",
    "    return s2\n",
    "v = np.array([ [1,2],[3,4],[5,6]])\n",
    "w = np.array([ [2,4],[5,6]])\n",
    "\n",
    "index1 = range(len(w))\n",
    "a = min( index1, key = lambda i : fun1(v,w[i]))\n",
    "print a, w[a]"
   ]
  },
  {
   "cell_type": "code",
   "execution_count": null,
   "metadata": {
    "collapsed": true
   },
   "outputs": [],
   "source": []
  }
 ],
 "metadata": {
  "kernelspec": {
   "display_name": "Python 2",
   "language": "python",
   "name": "python2"
  },
  "language_info": {
   "codemirror_mode": {
    "name": "ipython",
    "version": 2
   },
   "file_extension": ".py",
   "mimetype": "text/x-python",
   "name": "python",
   "nbconvert_exporter": "python",
   "pygments_lexer": "ipython2",
   "version": "2.7.12"
  }
 },
 "nbformat": 4,
 "nbformat_minor": 0
}
